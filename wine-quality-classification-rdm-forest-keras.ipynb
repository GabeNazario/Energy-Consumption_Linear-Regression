{
 "cells": [
  {
   "cell_type": "code",
   "execution_count": 1,
   "id": "e975f71a",
   "metadata": {
    "execution": {
     "iopub.execute_input": "2022-06-16T20:43:34.968354Z",
     "iopub.status.busy": "2022-06-16T20:43:34.967751Z",
     "iopub.status.idle": "2022-06-16T20:43:36.187328Z",
     "shell.execute_reply": "2022-06-16T20:43:36.186310Z"
    },
    "papermill": {
     "duration": 1.247551,
     "end_time": "2022-06-16T20:43:36.190240",
     "exception": false,
     "start_time": "2022-06-16T20:43:34.942689",
     "status": "completed"
    },
    "tags": []
   },
   "outputs": [],
   "source": [
    "import pandas as pd\n",
    "import numpy as np\n",
    "import seaborn as sns\n",
    "import matplotlib.pyplot as plt\n",
    "\n",
    "%matplotlib inline"
   ]
  },
  {
   "cell_type": "code",
   "execution_count": 2,
   "id": "4d176330",
   "metadata": {
    "execution": {
     "iopub.execute_input": "2022-06-16T20:43:36.234331Z",
     "iopub.status.busy": "2022-06-16T20:43:36.233555Z",
     "iopub.status.idle": "2022-06-16T20:43:36.255697Z",
     "shell.execute_reply": "2022-06-16T20:43:36.254636Z"
    },
    "papermill": {
     "duration": 0.046789,
     "end_time": "2022-06-16T20:43:36.258424",
     "exception": false,
     "start_time": "2022-06-16T20:43:36.211635",
     "status": "completed"
    },
    "tags": []
   },
   "outputs": [],
   "source": [
    "df_Red = pd.read_csv('../input/red-wine-quality-cortez-et-al-2009/winequality-red.csv', sep=',')"
   ]
  },
  {
   "cell_type": "code",
   "execution_count": 3,
   "id": "5fd83b25",
   "metadata": {
    "execution": {
     "iopub.execute_input": "2022-06-16T20:43:36.304013Z",
     "iopub.status.busy": "2022-06-16T20:43:36.302910Z",
     "iopub.status.idle": "2022-06-16T20:43:36.334509Z",
     "shell.execute_reply": "2022-06-16T20:43:36.333803Z"
    },
    "papermill": {
     "duration": 0.056157,
     "end_time": "2022-06-16T20:43:36.337034",
     "exception": false,
     "start_time": "2022-06-16T20:43:36.280877",
     "status": "completed"
    },
    "tags": []
   },
   "outputs": [
    {
     "data": {
      "text/html": [
       "<div>\n",
       "<style scoped>\n",
       "    .dataframe tbody tr th:only-of-type {\n",
       "        vertical-align: middle;\n",
       "    }\n",
       "\n",
       "    .dataframe tbody tr th {\n",
       "        vertical-align: top;\n",
       "    }\n",
       "\n",
       "    .dataframe thead th {\n",
       "        text-align: right;\n",
       "    }\n",
       "</style>\n",
       "<table border=\"1\" class=\"dataframe\">\n",
       "  <thead>\n",
       "    <tr style=\"text-align: right;\">\n",
       "      <th></th>\n",
       "      <th>fixed acidity</th>\n",
       "      <th>volatile acidity</th>\n",
       "      <th>citric acid</th>\n",
       "      <th>residual sugar</th>\n",
       "      <th>chlorides</th>\n",
       "      <th>free sulfur dioxide</th>\n",
       "      <th>total sulfur dioxide</th>\n",
       "      <th>density</th>\n",
       "      <th>pH</th>\n",
       "      <th>sulphates</th>\n",
       "      <th>alcohol</th>\n",
       "      <th>quality</th>\n",
       "    </tr>\n",
       "  </thead>\n",
       "  <tbody>\n",
       "    <tr>\n",
       "      <th>0</th>\n",
       "      <td>7.4</td>\n",
       "      <td>0.70</td>\n",
       "      <td>0.00</td>\n",
       "      <td>1.9</td>\n",
       "      <td>0.076</td>\n",
       "      <td>11.0</td>\n",
       "      <td>34.0</td>\n",
       "      <td>0.9978</td>\n",
       "      <td>3.51</td>\n",
       "      <td>0.56</td>\n",
       "      <td>9.4</td>\n",
       "      <td>5</td>\n",
       "    </tr>\n",
       "    <tr>\n",
       "      <th>1</th>\n",
       "      <td>7.8</td>\n",
       "      <td>0.88</td>\n",
       "      <td>0.00</td>\n",
       "      <td>2.6</td>\n",
       "      <td>0.098</td>\n",
       "      <td>25.0</td>\n",
       "      <td>67.0</td>\n",
       "      <td>0.9968</td>\n",
       "      <td>3.20</td>\n",
       "      <td>0.68</td>\n",
       "      <td>9.8</td>\n",
       "      <td>5</td>\n",
       "    </tr>\n",
       "    <tr>\n",
       "      <th>2</th>\n",
       "      <td>7.8</td>\n",
       "      <td>0.76</td>\n",
       "      <td>0.04</td>\n",
       "      <td>2.3</td>\n",
       "      <td>0.092</td>\n",
       "      <td>15.0</td>\n",
       "      <td>54.0</td>\n",
       "      <td>0.9970</td>\n",
       "      <td>3.26</td>\n",
       "      <td>0.65</td>\n",
       "      <td>9.8</td>\n",
       "      <td>5</td>\n",
       "    </tr>\n",
       "    <tr>\n",
       "      <th>3</th>\n",
       "      <td>11.2</td>\n",
       "      <td>0.28</td>\n",
       "      <td>0.56</td>\n",
       "      <td>1.9</td>\n",
       "      <td>0.075</td>\n",
       "      <td>17.0</td>\n",
       "      <td>60.0</td>\n",
       "      <td>0.9980</td>\n",
       "      <td>3.16</td>\n",
       "      <td>0.58</td>\n",
       "      <td>9.8</td>\n",
       "      <td>6</td>\n",
       "    </tr>\n",
       "    <tr>\n",
       "      <th>4</th>\n",
       "      <td>7.4</td>\n",
       "      <td>0.70</td>\n",
       "      <td>0.00</td>\n",
       "      <td>1.9</td>\n",
       "      <td>0.076</td>\n",
       "      <td>11.0</td>\n",
       "      <td>34.0</td>\n",
       "      <td>0.9978</td>\n",
       "      <td>3.51</td>\n",
       "      <td>0.56</td>\n",
       "      <td>9.4</td>\n",
       "      <td>5</td>\n",
       "    </tr>\n",
       "  </tbody>\n",
       "</table>\n",
       "</div>"
      ],
      "text/plain": [
       "   fixed acidity  volatile acidity  citric acid  residual sugar  chlorides  \\\n",
       "0            7.4              0.70         0.00             1.9      0.076   \n",
       "1            7.8              0.88         0.00             2.6      0.098   \n",
       "2            7.8              0.76         0.04             2.3      0.092   \n",
       "3           11.2              0.28         0.56             1.9      0.075   \n",
       "4            7.4              0.70         0.00             1.9      0.076   \n",
       "\n",
       "   free sulfur dioxide  total sulfur dioxide  density    pH  sulphates  \\\n",
       "0                 11.0                  34.0   0.9978  3.51       0.56   \n",
       "1                 25.0                  67.0   0.9968  3.20       0.68   \n",
       "2                 15.0                  54.0   0.9970  3.26       0.65   \n",
       "3                 17.0                  60.0   0.9980  3.16       0.58   \n",
       "4                 11.0                  34.0   0.9978  3.51       0.56   \n",
       "\n",
       "   alcohol  quality  \n",
       "0      9.4        5  \n",
       "1      9.8        5  \n",
       "2      9.8        5  \n",
       "3      9.8        6  \n",
       "4      9.4        5  "
      ]
     },
     "execution_count": 3,
     "metadata": {},
     "output_type": "execute_result"
    }
   ],
   "source": [
    "df_Red.head()"
   ]
  },
  {
   "cell_type": "code",
   "execution_count": 4,
   "id": "a15de14d",
   "metadata": {
    "execution": {
     "iopub.execute_input": "2022-06-16T20:43:36.380620Z",
     "iopub.status.busy": "2022-06-16T20:43:36.379697Z",
     "iopub.status.idle": "2022-06-16T20:43:36.405788Z",
     "shell.execute_reply": "2022-06-16T20:43:36.404886Z"
    },
    "papermill": {
     "duration": 0.050469,
     "end_time": "2022-06-16T20:43:36.408208",
     "exception": false,
     "start_time": "2022-06-16T20:43:36.357739",
     "status": "completed"
    },
    "tags": []
   },
   "outputs": [],
   "source": [
    "df_White = pd.read_csv('../input/white-wine-quality/winequality-white.csv', sep=';')"
   ]
  },
  {
   "cell_type": "code",
   "execution_count": 5,
   "id": "00193dc3",
   "metadata": {
    "execution": {
     "iopub.execute_input": "2022-06-16T20:43:36.451644Z",
     "iopub.status.busy": "2022-06-16T20:43:36.450629Z",
     "iopub.status.idle": "2022-06-16T20:43:36.473002Z",
     "shell.execute_reply": "2022-06-16T20:43:36.472046Z"
    },
    "papermill": {
     "duration": 0.045842,
     "end_time": "2022-06-16T20:43:36.475031",
     "exception": false,
     "start_time": "2022-06-16T20:43:36.429189",
     "status": "completed"
    },
    "tags": []
   },
   "outputs": [
    {
     "data": {
      "text/html": [
       "<div>\n",
       "<style scoped>\n",
       "    .dataframe tbody tr th:only-of-type {\n",
       "        vertical-align: middle;\n",
       "    }\n",
       "\n",
       "    .dataframe tbody tr th {\n",
       "        vertical-align: top;\n",
       "    }\n",
       "\n",
       "    .dataframe thead th {\n",
       "        text-align: right;\n",
       "    }\n",
       "</style>\n",
       "<table border=\"1\" class=\"dataframe\">\n",
       "  <thead>\n",
       "    <tr style=\"text-align: right;\">\n",
       "      <th></th>\n",
       "      <th>fixed acidity</th>\n",
       "      <th>volatile acidity</th>\n",
       "      <th>citric acid</th>\n",
       "      <th>residual sugar</th>\n",
       "      <th>chlorides</th>\n",
       "      <th>free sulfur dioxide</th>\n",
       "      <th>total sulfur dioxide</th>\n",
       "      <th>density</th>\n",
       "      <th>pH</th>\n",
       "      <th>sulphates</th>\n",
       "      <th>alcohol</th>\n",
       "      <th>quality</th>\n",
       "    </tr>\n",
       "  </thead>\n",
       "  <tbody>\n",
       "    <tr>\n",
       "      <th>0</th>\n",
       "      <td>7.0</td>\n",
       "      <td>0.27</td>\n",
       "      <td>0.36</td>\n",
       "      <td>20.7</td>\n",
       "      <td>0.045</td>\n",
       "      <td>45.0</td>\n",
       "      <td>170.0</td>\n",
       "      <td>1.0010</td>\n",
       "      <td>3.00</td>\n",
       "      <td>0.45</td>\n",
       "      <td>8.8</td>\n",
       "      <td>6</td>\n",
       "    </tr>\n",
       "    <tr>\n",
       "      <th>1</th>\n",
       "      <td>6.3</td>\n",
       "      <td>0.30</td>\n",
       "      <td>0.34</td>\n",
       "      <td>1.6</td>\n",
       "      <td>0.049</td>\n",
       "      <td>14.0</td>\n",
       "      <td>132.0</td>\n",
       "      <td>0.9940</td>\n",
       "      <td>3.30</td>\n",
       "      <td>0.49</td>\n",
       "      <td>9.5</td>\n",
       "      <td>6</td>\n",
       "    </tr>\n",
       "    <tr>\n",
       "      <th>2</th>\n",
       "      <td>8.1</td>\n",
       "      <td>0.28</td>\n",
       "      <td>0.40</td>\n",
       "      <td>6.9</td>\n",
       "      <td>0.050</td>\n",
       "      <td>30.0</td>\n",
       "      <td>97.0</td>\n",
       "      <td>0.9951</td>\n",
       "      <td>3.26</td>\n",
       "      <td>0.44</td>\n",
       "      <td>10.1</td>\n",
       "      <td>6</td>\n",
       "    </tr>\n",
       "    <tr>\n",
       "      <th>3</th>\n",
       "      <td>7.2</td>\n",
       "      <td>0.23</td>\n",
       "      <td>0.32</td>\n",
       "      <td>8.5</td>\n",
       "      <td>0.058</td>\n",
       "      <td>47.0</td>\n",
       "      <td>186.0</td>\n",
       "      <td>0.9956</td>\n",
       "      <td>3.19</td>\n",
       "      <td>0.40</td>\n",
       "      <td>9.9</td>\n",
       "      <td>6</td>\n",
       "    </tr>\n",
       "    <tr>\n",
       "      <th>4</th>\n",
       "      <td>7.2</td>\n",
       "      <td>0.23</td>\n",
       "      <td>0.32</td>\n",
       "      <td>8.5</td>\n",
       "      <td>0.058</td>\n",
       "      <td>47.0</td>\n",
       "      <td>186.0</td>\n",
       "      <td>0.9956</td>\n",
       "      <td>3.19</td>\n",
       "      <td>0.40</td>\n",
       "      <td>9.9</td>\n",
       "      <td>6</td>\n",
       "    </tr>\n",
       "  </tbody>\n",
       "</table>\n",
       "</div>"
      ],
      "text/plain": [
       "   fixed acidity  volatile acidity  citric acid  residual sugar  chlorides  \\\n",
       "0            7.0              0.27         0.36            20.7      0.045   \n",
       "1            6.3              0.30         0.34             1.6      0.049   \n",
       "2            8.1              0.28         0.40             6.9      0.050   \n",
       "3            7.2              0.23         0.32             8.5      0.058   \n",
       "4            7.2              0.23         0.32             8.5      0.058   \n",
       "\n",
       "   free sulfur dioxide  total sulfur dioxide  density    pH  sulphates  \\\n",
       "0                 45.0                 170.0   1.0010  3.00       0.45   \n",
       "1                 14.0                 132.0   0.9940  3.30       0.49   \n",
       "2                 30.0                  97.0   0.9951  3.26       0.44   \n",
       "3                 47.0                 186.0   0.9956  3.19       0.40   \n",
       "4                 47.0                 186.0   0.9956  3.19       0.40   \n",
       "\n",
       "   alcohol  quality  \n",
       "0      8.8        6  \n",
       "1      9.5        6  \n",
       "2     10.1        6  \n",
       "3      9.9        6  \n",
       "4      9.9        6  "
      ]
     },
     "execution_count": 5,
     "metadata": {},
     "output_type": "execute_result"
    }
   ],
   "source": [
    "df_White.head()"
   ]
  },
  {
   "cell_type": "code",
   "execution_count": 6,
   "id": "84b4604a",
   "metadata": {
    "execution": {
     "iopub.execute_input": "2022-06-16T20:43:36.518035Z",
     "iopub.status.busy": "2022-06-16T20:43:36.517295Z",
     "iopub.status.idle": "2022-06-16T20:43:36.540568Z",
     "shell.execute_reply": "2022-06-16T20:43:36.539358Z"
    },
    "papermill": {
     "duration": 0.048967,
     "end_time": "2022-06-16T20:43:36.544866",
     "exception": false,
     "start_time": "2022-06-16T20:43:36.495899",
     "status": "completed"
    },
    "tags": []
   },
   "outputs": [
    {
     "name": "stdout",
     "output_type": "stream",
     "text": [
      "<class 'pandas.core.frame.DataFrame'>\n",
      "RangeIndex: 1599 entries, 0 to 1598\n",
      "Data columns (total 12 columns):\n",
      " #   Column                Non-Null Count  Dtype  \n",
      "---  ------                --------------  -----  \n",
      " 0   fixed acidity         1599 non-null   float64\n",
      " 1   volatile acidity      1599 non-null   float64\n",
      " 2   citric acid           1599 non-null   float64\n",
      " 3   residual sugar        1599 non-null   float64\n",
      " 4   chlorides             1599 non-null   float64\n",
      " 5   free sulfur dioxide   1599 non-null   float64\n",
      " 6   total sulfur dioxide  1599 non-null   float64\n",
      " 7   density               1599 non-null   float64\n",
      " 8   pH                    1599 non-null   float64\n",
      " 9   sulphates             1599 non-null   float64\n",
      " 10  alcohol               1599 non-null   float64\n",
      " 11  quality               1599 non-null   int64  \n",
      "dtypes: float64(11), int64(1)\n",
      "memory usage: 150.0 KB\n"
     ]
    }
   ],
   "source": [
    "df_Red.info()"
   ]
  },
  {
   "cell_type": "code",
   "execution_count": 7,
   "id": "d9396bdc",
   "metadata": {
    "execution": {
     "iopub.execute_input": "2022-06-16T20:43:36.590393Z",
     "iopub.status.busy": "2022-06-16T20:43:36.589589Z",
     "iopub.status.idle": "2022-06-16T20:43:36.603761Z",
     "shell.execute_reply": "2022-06-16T20:43:36.602789Z"
    },
    "papermill": {
     "duration": 0.040154,
     "end_time": "2022-06-16T20:43:36.606678",
     "exception": false,
     "start_time": "2022-06-16T20:43:36.566524",
     "status": "completed"
    },
    "tags": []
   },
   "outputs": [
    {
     "name": "stdout",
     "output_type": "stream",
     "text": [
      "<class 'pandas.core.frame.DataFrame'>\n",
      "RangeIndex: 4898 entries, 0 to 4897\n",
      "Data columns (total 12 columns):\n",
      " #   Column                Non-Null Count  Dtype  \n",
      "---  ------                --------------  -----  \n",
      " 0   fixed acidity         4898 non-null   float64\n",
      " 1   volatile acidity      4898 non-null   float64\n",
      " 2   citric acid           4898 non-null   float64\n",
      " 3   residual sugar        4898 non-null   float64\n",
      " 4   chlorides             4898 non-null   float64\n",
      " 5   free sulfur dioxide   4898 non-null   float64\n",
      " 6   total sulfur dioxide  4898 non-null   float64\n",
      " 7   density               4898 non-null   float64\n",
      " 8   pH                    4898 non-null   float64\n",
      " 9   sulphates             4898 non-null   float64\n",
      " 10  alcohol               4898 non-null   float64\n",
      " 11  quality               4898 non-null   int64  \n",
      "dtypes: float64(11), int64(1)\n",
      "memory usage: 459.3 KB\n"
     ]
    }
   ],
   "source": [
    "df_White.info()"
   ]
  },
  {
   "cell_type": "code",
   "execution_count": 8,
   "id": "e5efd875",
   "metadata": {
    "execution": {
     "iopub.execute_input": "2022-06-16T20:43:36.651783Z",
     "iopub.status.busy": "2022-06-16T20:43:36.651023Z",
     "iopub.status.idle": "2022-06-16T20:43:36.659623Z",
     "shell.execute_reply": "2022-06-16T20:43:36.658801Z"
    },
    "papermill": {
     "duration": 0.032804,
     "end_time": "2022-06-16T20:43:36.661532",
     "exception": false,
     "start_time": "2022-06-16T20:43:36.628728",
     "status": "completed"
    },
    "tags": []
   },
   "outputs": [
    {
     "data": {
      "text/plain": [
       "fixed acidity           0\n",
       "volatile acidity        0\n",
       "citric acid             0\n",
       "residual sugar          0\n",
       "chlorides               0\n",
       "free sulfur dioxide     0\n",
       "total sulfur dioxide    0\n",
       "density                 0\n",
       "pH                      0\n",
       "sulphates               0\n",
       "alcohol                 0\n",
       "quality                 0\n",
       "dtype: int64"
      ]
     },
     "execution_count": 8,
     "metadata": {},
     "output_type": "execute_result"
    }
   ],
   "source": [
    "df_Red.isna().sum()"
   ]
  },
  {
   "cell_type": "code",
   "execution_count": 9,
   "id": "317cd986",
   "metadata": {
    "execution": {
     "iopub.execute_input": "2022-06-16T20:43:36.706188Z",
     "iopub.status.busy": "2022-06-16T20:43:36.705576Z",
     "iopub.status.idle": "2022-06-16T20:43:36.716454Z",
     "shell.execute_reply": "2022-06-16T20:43:36.715679Z"
    },
    "papermill": {
     "duration": 0.035529,
     "end_time": "2022-06-16T20:43:36.718371",
     "exception": false,
     "start_time": "2022-06-16T20:43:36.682842",
     "status": "completed"
    },
    "tags": []
   },
   "outputs": [
    {
     "data": {
      "text/plain": [
       "fixed acidity           0\n",
       "volatile acidity        0\n",
       "citric acid             0\n",
       "residual sugar          0\n",
       "chlorides               0\n",
       "free sulfur dioxide     0\n",
       "total sulfur dioxide    0\n",
       "density                 0\n",
       "pH                      0\n",
       "sulphates               0\n",
       "alcohol                 0\n",
       "quality                 0\n",
       "dtype: int64"
      ]
     },
     "execution_count": 9,
     "metadata": {},
     "output_type": "execute_result"
    }
   ],
   "source": [
    "df_White.isna().sum()"
   ]
  },
  {
   "cell_type": "code",
   "execution_count": 10,
   "id": "5fa71c03",
   "metadata": {
    "execution": {
     "iopub.execute_input": "2022-06-16T20:43:36.763458Z",
     "iopub.status.busy": "2022-06-16T20:43:36.762695Z",
     "iopub.status.idle": "2022-06-16T20:43:36.812136Z",
     "shell.execute_reply": "2022-06-16T20:43:36.811179Z"
    },
    "papermill": {
     "duration": 0.074032,
     "end_time": "2022-06-16T20:43:36.814292",
     "exception": false,
     "start_time": "2022-06-16T20:43:36.740260",
     "status": "completed"
    },
    "tags": []
   },
   "outputs": [
    {
     "data": {
      "text/html": [
       "<div>\n",
       "<style scoped>\n",
       "    .dataframe tbody tr th:only-of-type {\n",
       "        vertical-align: middle;\n",
       "    }\n",
       "\n",
       "    .dataframe tbody tr th {\n",
       "        vertical-align: top;\n",
       "    }\n",
       "\n",
       "    .dataframe thead th {\n",
       "        text-align: right;\n",
       "    }\n",
       "</style>\n",
       "<table border=\"1\" class=\"dataframe\">\n",
       "  <thead>\n",
       "    <tr style=\"text-align: right;\">\n",
       "      <th></th>\n",
       "      <th>count</th>\n",
       "      <th>mean</th>\n",
       "      <th>std</th>\n",
       "      <th>min</th>\n",
       "      <th>25%</th>\n",
       "      <th>50%</th>\n",
       "      <th>75%</th>\n",
       "      <th>max</th>\n",
       "    </tr>\n",
       "  </thead>\n",
       "  <tbody>\n",
       "    <tr>\n",
       "      <th>fixed acidity</th>\n",
       "      <td>1599.0</td>\n",
       "      <td>8.319637</td>\n",
       "      <td>1.741096</td>\n",
       "      <td>4.60000</td>\n",
       "      <td>7.1000</td>\n",
       "      <td>7.90000</td>\n",
       "      <td>9.200000</td>\n",
       "      <td>15.90000</td>\n",
       "    </tr>\n",
       "    <tr>\n",
       "      <th>volatile acidity</th>\n",
       "      <td>1599.0</td>\n",
       "      <td>0.527821</td>\n",
       "      <td>0.179060</td>\n",
       "      <td>0.12000</td>\n",
       "      <td>0.3900</td>\n",
       "      <td>0.52000</td>\n",
       "      <td>0.640000</td>\n",
       "      <td>1.58000</td>\n",
       "    </tr>\n",
       "    <tr>\n",
       "      <th>citric acid</th>\n",
       "      <td>1599.0</td>\n",
       "      <td>0.270976</td>\n",
       "      <td>0.194801</td>\n",
       "      <td>0.00000</td>\n",
       "      <td>0.0900</td>\n",
       "      <td>0.26000</td>\n",
       "      <td>0.420000</td>\n",
       "      <td>1.00000</td>\n",
       "    </tr>\n",
       "    <tr>\n",
       "      <th>residual sugar</th>\n",
       "      <td>1599.0</td>\n",
       "      <td>2.538806</td>\n",
       "      <td>1.409928</td>\n",
       "      <td>0.90000</td>\n",
       "      <td>1.9000</td>\n",
       "      <td>2.20000</td>\n",
       "      <td>2.600000</td>\n",
       "      <td>15.50000</td>\n",
       "    </tr>\n",
       "    <tr>\n",
       "      <th>chlorides</th>\n",
       "      <td>1599.0</td>\n",
       "      <td>0.087467</td>\n",
       "      <td>0.047065</td>\n",
       "      <td>0.01200</td>\n",
       "      <td>0.0700</td>\n",
       "      <td>0.07900</td>\n",
       "      <td>0.090000</td>\n",
       "      <td>0.61100</td>\n",
       "    </tr>\n",
       "    <tr>\n",
       "      <th>free sulfur dioxide</th>\n",
       "      <td>1599.0</td>\n",
       "      <td>15.874922</td>\n",
       "      <td>10.460157</td>\n",
       "      <td>1.00000</td>\n",
       "      <td>7.0000</td>\n",
       "      <td>14.00000</td>\n",
       "      <td>21.000000</td>\n",
       "      <td>72.00000</td>\n",
       "    </tr>\n",
       "    <tr>\n",
       "      <th>total sulfur dioxide</th>\n",
       "      <td>1599.0</td>\n",
       "      <td>46.467792</td>\n",
       "      <td>32.895324</td>\n",
       "      <td>6.00000</td>\n",
       "      <td>22.0000</td>\n",
       "      <td>38.00000</td>\n",
       "      <td>62.000000</td>\n",
       "      <td>289.00000</td>\n",
       "    </tr>\n",
       "    <tr>\n",
       "      <th>density</th>\n",
       "      <td>1599.0</td>\n",
       "      <td>0.996747</td>\n",
       "      <td>0.001887</td>\n",
       "      <td>0.99007</td>\n",
       "      <td>0.9956</td>\n",
       "      <td>0.99675</td>\n",
       "      <td>0.997835</td>\n",
       "      <td>1.00369</td>\n",
       "    </tr>\n",
       "    <tr>\n",
       "      <th>pH</th>\n",
       "      <td>1599.0</td>\n",
       "      <td>3.311113</td>\n",
       "      <td>0.154386</td>\n",
       "      <td>2.74000</td>\n",
       "      <td>3.2100</td>\n",
       "      <td>3.31000</td>\n",
       "      <td>3.400000</td>\n",
       "      <td>4.01000</td>\n",
       "    </tr>\n",
       "    <tr>\n",
       "      <th>sulphates</th>\n",
       "      <td>1599.0</td>\n",
       "      <td>0.658149</td>\n",
       "      <td>0.169507</td>\n",
       "      <td>0.33000</td>\n",
       "      <td>0.5500</td>\n",
       "      <td>0.62000</td>\n",
       "      <td>0.730000</td>\n",
       "      <td>2.00000</td>\n",
       "    </tr>\n",
       "    <tr>\n",
       "      <th>alcohol</th>\n",
       "      <td>1599.0</td>\n",
       "      <td>10.422983</td>\n",
       "      <td>1.065668</td>\n",
       "      <td>8.40000</td>\n",
       "      <td>9.5000</td>\n",
       "      <td>10.20000</td>\n",
       "      <td>11.100000</td>\n",
       "      <td>14.90000</td>\n",
       "    </tr>\n",
       "    <tr>\n",
       "      <th>quality</th>\n",
       "      <td>1599.0</td>\n",
       "      <td>5.636023</td>\n",
       "      <td>0.807569</td>\n",
       "      <td>3.00000</td>\n",
       "      <td>5.0000</td>\n",
       "      <td>6.00000</td>\n",
       "      <td>6.000000</td>\n",
       "      <td>8.00000</td>\n",
       "    </tr>\n",
       "  </tbody>\n",
       "</table>\n",
       "</div>"
      ],
      "text/plain": [
       "                       count       mean        std      min      25%  \\\n",
       "fixed acidity         1599.0   8.319637   1.741096  4.60000   7.1000   \n",
       "volatile acidity      1599.0   0.527821   0.179060  0.12000   0.3900   \n",
       "citric acid           1599.0   0.270976   0.194801  0.00000   0.0900   \n",
       "residual sugar        1599.0   2.538806   1.409928  0.90000   1.9000   \n",
       "chlorides             1599.0   0.087467   0.047065  0.01200   0.0700   \n",
       "free sulfur dioxide   1599.0  15.874922  10.460157  1.00000   7.0000   \n",
       "total sulfur dioxide  1599.0  46.467792  32.895324  6.00000  22.0000   \n",
       "density               1599.0   0.996747   0.001887  0.99007   0.9956   \n",
       "pH                    1599.0   3.311113   0.154386  2.74000   3.2100   \n",
       "sulphates             1599.0   0.658149   0.169507  0.33000   0.5500   \n",
       "alcohol               1599.0  10.422983   1.065668  8.40000   9.5000   \n",
       "quality               1599.0   5.636023   0.807569  3.00000   5.0000   \n",
       "\n",
       "                           50%        75%        max  \n",
       "fixed acidity          7.90000   9.200000   15.90000  \n",
       "volatile acidity       0.52000   0.640000    1.58000  \n",
       "citric acid            0.26000   0.420000    1.00000  \n",
       "residual sugar         2.20000   2.600000   15.50000  \n",
       "chlorides              0.07900   0.090000    0.61100  \n",
       "free sulfur dioxide   14.00000  21.000000   72.00000  \n",
       "total sulfur dioxide  38.00000  62.000000  289.00000  \n",
       "density                0.99675   0.997835    1.00369  \n",
       "pH                     3.31000   3.400000    4.01000  \n",
       "sulphates              0.62000   0.730000    2.00000  \n",
       "alcohol               10.20000  11.100000   14.90000  \n",
       "quality                6.00000   6.000000    8.00000  "
      ]
     },
     "execution_count": 10,
     "metadata": {},
     "output_type": "execute_result"
    }
   ],
   "source": [
    "df_Red.describe().transpose()"
   ]
  },
  {
   "cell_type": "code",
   "execution_count": 11,
   "id": "e5ecbb94",
   "metadata": {
    "execution": {
     "iopub.execute_input": "2022-06-16T20:43:36.858950Z",
     "iopub.status.busy": "2022-06-16T20:43:36.858591Z",
     "iopub.status.idle": "2022-06-16T20:43:36.909176Z",
     "shell.execute_reply": "2022-06-16T20:43:36.908096Z"
    },
    "papermill": {
     "duration": 0.07574,
     "end_time": "2022-06-16T20:43:36.911596",
     "exception": false,
     "start_time": "2022-06-16T20:43:36.835856",
     "status": "completed"
    },
    "tags": []
   },
   "outputs": [
    {
     "data": {
      "text/html": [
       "<div>\n",
       "<style scoped>\n",
       "    .dataframe tbody tr th:only-of-type {\n",
       "        vertical-align: middle;\n",
       "    }\n",
       "\n",
       "    .dataframe tbody tr th {\n",
       "        vertical-align: top;\n",
       "    }\n",
       "\n",
       "    .dataframe thead th {\n",
       "        text-align: right;\n",
       "    }\n",
       "</style>\n",
       "<table border=\"1\" class=\"dataframe\">\n",
       "  <thead>\n",
       "    <tr style=\"text-align: right;\">\n",
       "      <th></th>\n",
       "      <th>count</th>\n",
       "      <th>mean</th>\n",
       "      <th>std</th>\n",
       "      <th>min</th>\n",
       "      <th>25%</th>\n",
       "      <th>50%</th>\n",
       "      <th>75%</th>\n",
       "      <th>max</th>\n",
       "    </tr>\n",
       "  </thead>\n",
       "  <tbody>\n",
       "    <tr>\n",
       "      <th>fixed acidity</th>\n",
       "      <td>4898.0</td>\n",
       "      <td>6.854788</td>\n",
       "      <td>0.843868</td>\n",
       "      <td>3.80000</td>\n",
       "      <td>6.300000</td>\n",
       "      <td>6.80000</td>\n",
       "      <td>7.3000</td>\n",
       "      <td>14.20000</td>\n",
       "    </tr>\n",
       "    <tr>\n",
       "      <th>volatile acidity</th>\n",
       "      <td>4898.0</td>\n",
       "      <td>0.278241</td>\n",
       "      <td>0.100795</td>\n",
       "      <td>0.08000</td>\n",
       "      <td>0.210000</td>\n",
       "      <td>0.26000</td>\n",
       "      <td>0.3200</td>\n",
       "      <td>1.10000</td>\n",
       "    </tr>\n",
       "    <tr>\n",
       "      <th>citric acid</th>\n",
       "      <td>4898.0</td>\n",
       "      <td>0.334192</td>\n",
       "      <td>0.121020</td>\n",
       "      <td>0.00000</td>\n",
       "      <td>0.270000</td>\n",
       "      <td>0.32000</td>\n",
       "      <td>0.3900</td>\n",
       "      <td>1.66000</td>\n",
       "    </tr>\n",
       "    <tr>\n",
       "      <th>residual sugar</th>\n",
       "      <td>4898.0</td>\n",
       "      <td>6.391415</td>\n",
       "      <td>5.072058</td>\n",
       "      <td>0.60000</td>\n",
       "      <td>1.700000</td>\n",
       "      <td>5.20000</td>\n",
       "      <td>9.9000</td>\n",
       "      <td>65.80000</td>\n",
       "    </tr>\n",
       "    <tr>\n",
       "      <th>chlorides</th>\n",
       "      <td>4898.0</td>\n",
       "      <td>0.045772</td>\n",
       "      <td>0.021848</td>\n",
       "      <td>0.00900</td>\n",
       "      <td>0.036000</td>\n",
       "      <td>0.04300</td>\n",
       "      <td>0.0500</td>\n",
       "      <td>0.34600</td>\n",
       "    </tr>\n",
       "    <tr>\n",
       "      <th>free sulfur dioxide</th>\n",
       "      <td>4898.0</td>\n",
       "      <td>35.308085</td>\n",
       "      <td>17.007137</td>\n",
       "      <td>2.00000</td>\n",
       "      <td>23.000000</td>\n",
       "      <td>34.00000</td>\n",
       "      <td>46.0000</td>\n",
       "      <td>289.00000</td>\n",
       "    </tr>\n",
       "    <tr>\n",
       "      <th>total sulfur dioxide</th>\n",
       "      <td>4898.0</td>\n",
       "      <td>138.360657</td>\n",
       "      <td>42.498065</td>\n",
       "      <td>9.00000</td>\n",
       "      <td>108.000000</td>\n",
       "      <td>134.00000</td>\n",
       "      <td>167.0000</td>\n",
       "      <td>440.00000</td>\n",
       "    </tr>\n",
       "    <tr>\n",
       "      <th>density</th>\n",
       "      <td>4898.0</td>\n",
       "      <td>0.994027</td>\n",
       "      <td>0.002991</td>\n",
       "      <td>0.98711</td>\n",
       "      <td>0.991723</td>\n",
       "      <td>0.99374</td>\n",
       "      <td>0.9961</td>\n",
       "      <td>1.03898</td>\n",
       "    </tr>\n",
       "    <tr>\n",
       "      <th>pH</th>\n",
       "      <td>4898.0</td>\n",
       "      <td>3.188267</td>\n",
       "      <td>0.151001</td>\n",
       "      <td>2.72000</td>\n",
       "      <td>3.090000</td>\n",
       "      <td>3.18000</td>\n",
       "      <td>3.2800</td>\n",
       "      <td>3.82000</td>\n",
       "    </tr>\n",
       "    <tr>\n",
       "      <th>sulphates</th>\n",
       "      <td>4898.0</td>\n",
       "      <td>0.489847</td>\n",
       "      <td>0.114126</td>\n",
       "      <td>0.22000</td>\n",
       "      <td>0.410000</td>\n",
       "      <td>0.47000</td>\n",
       "      <td>0.5500</td>\n",
       "      <td>1.08000</td>\n",
       "    </tr>\n",
       "    <tr>\n",
       "      <th>alcohol</th>\n",
       "      <td>4898.0</td>\n",
       "      <td>10.514267</td>\n",
       "      <td>1.230621</td>\n",
       "      <td>8.00000</td>\n",
       "      <td>9.500000</td>\n",
       "      <td>10.40000</td>\n",
       "      <td>11.4000</td>\n",
       "      <td>14.20000</td>\n",
       "    </tr>\n",
       "    <tr>\n",
       "      <th>quality</th>\n",
       "      <td>4898.0</td>\n",
       "      <td>5.877909</td>\n",
       "      <td>0.885639</td>\n",
       "      <td>3.00000</td>\n",
       "      <td>5.000000</td>\n",
       "      <td>6.00000</td>\n",
       "      <td>6.0000</td>\n",
       "      <td>9.00000</td>\n",
       "    </tr>\n",
       "  </tbody>\n",
       "</table>\n",
       "</div>"
      ],
      "text/plain": [
       "                       count        mean        std      min         25%  \\\n",
       "fixed acidity         4898.0    6.854788   0.843868  3.80000    6.300000   \n",
       "volatile acidity      4898.0    0.278241   0.100795  0.08000    0.210000   \n",
       "citric acid           4898.0    0.334192   0.121020  0.00000    0.270000   \n",
       "residual sugar        4898.0    6.391415   5.072058  0.60000    1.700000   \n",
       "chlorides             4898.0    0.045772   0.021848  0.00900    0.036000   \n",
       "free sulfur dioxide   4898.0   35.308085  17.007137  2.00000   23.000000   \n",
       "total sulfur dioxide  4898.0  138.360657  42.498065  9.00000  108.000000   \n",
       "density               4898.0    0.994027   0.002991  0.98711    0.991723   \n",
       "pH                    4898.0    3.188267   0.151001  2.72000    3.090000   \n",
       "sulphates             4898.0    0.489847   0.114126  0.22000    0.410000   \n",
       "alcohol               4898.0   10.514267   1.230621  8.00000    9.500000   \n",
       "quality               4898.0    5.877909   0.885639  3.00000    5.000000   \n",
       "\n",
       "                            50%       75%        max  \n",
       "fixed acidity           6.80000    7.3000   14.20000  \n",
       "volatile acidity        0.26000    0.3200    1.10000  \n",
       "citric acid             0.32000    0.3900    1.66000  \n",
       "residual sugar          5.20000    9.9000   65.80000  \n",
       "chlorides               0.04300    0.0500    0.34600  \n",
       "free sulfur dioxide    34.00000   46.0000  289.00000  \n",
       "total sulfur dioxide  134.00000  167.0000  440.00000  \n",
       "density                 0.99374    0.9961    1.03898  \n",
       "pH                      3.18000    3.2800    3.82000  \n",
       "sulphates               0.47000    0.5500    1.08000  \n",
       "alcohol                10.40000   11.4000   14.20000  \n",
       "quality                 6.00000    6.0000    9.00000  "
      ]
     },
     "execution_count": 11,
     "metadata": {},
     "output_type": "execute_result"
    }
   ],
   "source": [
    "df_White.describe().transpose()"
   ]
  },
  {
   "cell_type": "code",
   "execution_count": 12,
   "id": "572b3871",
   "metadata": {
    "execution": {
     "iopub.execute_input": "2022-06-16T20:43:36.956788Z",
     "iopub.status.busy": "2022-06-16T20:43:36.956367Z",
     "iopub.status.idle": "2022-06-16T20:43:37.364860Z",
     "shell.execute_reply": "2022-06-16T20:43:37.363773Z"
    },
    "papermill": {
     "duration": 0.43416,
     "end_time": "2022-06-16T20:43:37.367280",
     "exception": false,
     "start_time": "2022-06-16T20:43:36.933120",
     "status": "completed"
    },
    "tags": []
   },
   "outputs": [
    {
     "data": {
      "image/png": "[encoded data removed]",
      "text/plain": [
       "<Figure size 1008x432 with 2 Axes>"
      ]
     },
     "metadata": {
      "needs_background": "light"
     },
     "output_type": "display_data"
    }
   ],
   "source": [
    "fig, ax = plt.subplots(1,2,\n",
    "                       figsize=(14,6),\n",
    "                       sharey=True,\n",
    "                       sharex = True)\n",
    "\n",
    "sns.countplot(ax=ax[0],\n",
    "              x='quality',\n",
    "              data=df_Red)\n",
    "ax[0].set_title('Red Score Distribution')\n",
    "\n",
    "sns.countplot(ax=ax[1], \n",
    "              x='quality',\n",
    "              data=df_White)\n",
    "ax[1].set_title('White Score Distribution')\n",
    "\n",
    "plt.tight_layout()"
   ]
  },
  {
   "cell_type": "code",
   "execution_count": 13,
   "id": "b5bf2432",
   "metadata": {
    "execution": {
     "iopub.execute_input": "2022-06-16T20:43:37.412924Z",
     "iopub.status.busy": "2022-06-16T20:43:37.412557Z",
     "iopub.status.idle": "2022-06-16T20:43:37.419957Z",
     "shell.execute_reply": "2022-06-16T20:43:37.419318Z"
    },
    "papermill": {
     "duration": 0.032126,
     "end_time": "2022-06-16T20:43:37.421672",
     "exception": false,
     "start_time": "2022-06-16T20:43:37.389546",
     "status": "completed"
    },
    "tags": []
   },
   "outputs": [
    {
     "data": {
      "text/plain": [
       "6    2198\n",
       "5    1457\n",
       "7     880\n",
       "8     175\n",
       "4     163\n",
       "3      20\n",
       "9       5\n",
       "Name: quality, dtype: int64"
      ]
     },
     "execution_count": 13,
     "metadata": {},
     "output_type": "execute_result"
    }
   ],
   "source": [
    "df_White['quality'].value_counts()"
   ]
  },
  {
   "cell_type": "markdown",
   "id": "32265de4",
   "metadata": {
    "papermill": {
     "duration": 0.021401,
     "end_time": "2022-06-16T20:43:37.464916",
     "exception": false,
     "start_time": "2022-06-16T20:43:37.443515",
     "status": "completed"
    },
    "tags": []
   },
   "source": [
    "There are more white wines scores than red wine, that would make hard to classify data if both were in the same place. Additionally, there are lots more of wines with 5 and 6 score than the others. That unbalance could lead to higher error in the other categories."
   ]
  },
  {
   "cell_type": "code",
   "execution_count": 14,
   "id": "66b764f3",
   "metadata": {
    "execution": {
     "iopub.execute_input": "2022-06-16T20:43:37.510626Z",
     "iopub.status.busy": "2022-06-16T20:43:37.510053Z",
     "iopub.status.idle": "2022-06-16T20:43:38.240720Z",
     "shell.execute_reply": "2022-06-16T20:43:38.239782Z"
    },
    "papermill": {
     "duration": 0.756926,
     "end_time": "2022-06-16T20:43:38.243461",
     "exception": false,
     "start_time": "2022-06-16T20:43:37.486535",
     "status": "completed"
    },
    "tags": []
   },
   "outputs": [
    {
     "data": {
      "image/png": "[encoded data removed]",
      "text/plain": [
       "<Figure size 1008x432 with 4 Axes>"
      ]
     },
     "metadata": {
      "needs_background": "light"
     },
     "output_type": "display_data"
    }
   ],
   "source": [
    "fig, ax = plt.subplots(1,2,\n",
    "                       figsize=(14,6),\n",
    "                       sharey=True\n",
    "                       )\n",
    "\n",
    "sns.heatmap(ax=ax[0],\n",
    "           data=abs(df_Red.drop(['quality'],axis=1).corr()),\n",
    "           cmap='coolwarm',\n",
    "           square= True)\n",
    "ax[0].set_title('Red Score Distribution')\n",
    "\n",
    "sns.heatmap(ax=ax[1],\n",
    "            data=abs(df_White.drop(['quality'], axis=1).corr()),\n",
    "            cmap='coolwarm',\n",
    "           square= True)\n",
    "ax[1].set_title('White Score Heatmap')\n",
    "\n",
    "plt.tight_layout()"
   ]
  },
  {
   "cell_type": "code",
   "execution_count": 15,
   "id": "22e81711",
   "metadata": {
    "execution": {
     "iopub.execute_input": "2022-06-16T20:43:38.292907Z",
     "iopub.status.busy": "2022-06-16T20:43:38.292155Z",
     "iopub.status.idle": "2022-06-16T20:43:38.303846Z",
     "shell.execute_reply": "2022-06-16T20:43:38.302853Z"
    },
    "papermill": {
     "duration": 0.03766,
     "end_time": "2022-06-16T20:43:38.305972",
     "exception": false,
     "start_time": "2022-06-16T20:43:38.268312",
     "status": "completed"
    },
    "tags": []
   },
   "outputs": [
    {
     "data": {
      "text/plain": [
       "alcohol                 0.476166\n",
       "sulphates               0.251397\n",
       "citric acid             0.226373\n",
       "fixed acidity           0.124052\n",
       "residual sugar          0.013732\n",
       "free sulfur dioxide    -0.050656\n",
       "pH                     -0.057731\n",
       "chlorides              -0.128907\n",
       "density                -0.174919\n",
       "total sulfur dioxide   -0.185100\n",
       "volatile acidity       -0.390558\n",
       "Name: quality, dtype: float64"
      ]
     },
     "execution_count": 15,
     "metadata": {},
     "output_type": "execute_result"
    }
   ],
   "source": [
    "df_Red.corr()['quality'].sort_values(ascending=False).iloc[1:]"
   ]
  },
  {
   "cell_type": "code",
   "execution_count": 16,
   "id": "21a2eddb",
   "metadata": {
    "execution": {
     "iopub.execute_input": "2022-06-16T20:43:38.354410Z",
     "iopub.status.busy": "2022-06-16T20:43:38.353732Z",
     "iopub.status.idle": "2022-06-16T20:43:38.365867Z",
     "shell.execute_reply": "2022-06-16T20:43:38.365127Z"
    },
    "papermill": {
     "duration": 0.038583,
     "end_time": "2022-06-16T20:43:38.368091",
     "exception": false,
     "start_time": "2022-06-16T20:43:38.329508",
     "status": "completed"
    },
    "tags": []
   },
   "outputs": [
    {
     "data": {
      "text/plain": [
       "alcohol                 0.435575\n",
       "pH                      0.099427\n",
       "sulphates               0.053678\n",
       "free sulfur dioxide     0.008158\n",
       "citric acid            -0.009209\n",
       "residual sugar         -0.097577\n",
       "fixed acidity          -0.113663\n",
       "total sulfur dioxide   -0.174737\n",
       "volatile acidity       -0.194723\n",
       "chlorides              -0.209934\n",
       "density                -0.307123\n",
       "Name: quality, dtype: float64"
      ]
     },
     "execution_count": 16,
     "metadata": {},
     "output_type": "execute_result"
    }
   ],
   "source": [
    "df_White.corr()['quality'].sort_values(ascending=False).iloc[1:]"
   ]
  },
  {
   "cell_type": "markdown",
   "id": "2566e720",
   "metadata": {
    "papermill": {
     "duration": 0.023399,
     "end_time": "2022-06-16T20:43:38.415210",
     "exception": false,
     "start_time": "2022-06-16T20:43:38.391811",
     "status": "completed"
    },
    "tags": []
   },
   "source": [
    "Note: Removed variable response ('y') on heatmap.\n",
    "\n",
    "There are some fairly strong correlation between features, like pH, density and fixed acidity. However, they have almost no correlation with the quality, as seen in the correlation table. These fields can be droped in case the data base had too many fields and needed to free memory to prioritize speed when training model."
   ]
  },
  {
   "cell_type": "code",
   "execution_count": 17,
   "id": "8a994009",
   "metadata": {
    "execution": {
     "iopub.execute_input": "2022-06-16T20:43:38.464271Z",
     "iopub.status.busy": "2022-06-16T20:43:38.463520Z",
     "iopub.status.idle": "2022-06-16T20:43:39.197726Z",
     "shell.execute_reply": "2022-06-16T20:43:39.196717Z"
    },
    "papermill": {
     "duration": 0.760974,
     "end_time": "2022-06-16T20:43:39.199808",
     "exception": false,
     "start_time": "2022-06-16T20:43:38.438834",
     "status": "completed"
    },
    "tags": []
   },
   "outputs": [
    {
     "data": {
      "image/png": "[encoded data removed]",
      "text/plain": [
       "<Figure size 1008x720 with 2 Axes>"
      ]
     },
     "metadata": {
      "needs_background": "light"
     },
     "output_type": "display_data"
    }
   ],
   "source": [
    "fig, ax = plt.subplots(2,1,\n",
    "                       figsize=(14,10),\n",
    "                       sharey=True\n",
    "                       )\n",
    "\n",
    "sns.boxplot(ax=ax[0],\n",
    "            data=df_Red.drop(['quality'],\n",
    "                             axis=1))\n",
    "\n",
    "\n",
    "sns.boxplot(ax=ax[1],\n",
    "            data=df_White.drop(['quality'], axis=1))\n",
    "\n",
    "ax[0].tick_params(axis='x', labelrotation = 45)\n",
    "ax[1].tick_params(axis='x', labelrotation = 45)\n",
    "\n",
    "plt.tight_layout()"
   ]
  },
  {
   "cell_type": "markdown",
   "id": "03361391",
   "metadata": {
    "papermill": {
     "duration": 0.024088,
     "end_time": "2022-06-16T20:43:39.248336",
     "exception": false,
     "start_time": "2022-06-16T20:43:39.224248",
     "status": "completed"
    },
    "tags": []
   },
   "source": [
    "There are some outline values, these rows will ve dropped to help improving the model."
   ]
  },
  {
   "cell_type": "code",
   "execution_count": 18,
   "id": "cfe50086",
   "metadata": {
    "execution": {
     "iopub.execute_input": "2022-06-16T20:43:39.298380Z",
     "iopub.status.busy": "2022-06-16T20:43:39.297745Z",
     "iopub.status.idle": "2022-06-16T20:43:39.301655Z",
     "shell.execute_reply": "2022-06-16T20:43:39.300922Z"
    },
    "papermill": {
     "duration": 0.030916,
     "end_time": "2022-06-16T20:43:39.303503",
     "exception": false,
     "start_time": "2022-06-16T20:43:39.272587",
     "status": "completed"
    },
    "tags": []
   },
   "outputs": [],
   "source": [
    "from scipy import stats"
   ]
  },
  {
   "cell_type": "code",
   "execution_count": 19,
   "id": "95a600c1",
   "metadata": {
    "execution": {
     "iopub.execute_input": "2022-06-16T20:43:39.354250Z",
     "iopub.status.busy": "2022-06-16T20:43:39.353643Z",
     "iopub.status.idle": "2022-06-16T20:43:39.365591Z",
     "shell.execute_reply": "2022-06-16T20:43:39.364874Z"
    },
    "papermill": {
     "duration": 0.039919,
     "end_time": "2022-06-16T20:43:39.367485",
     "exception": false,
     "start_time": "2022-06-16T20:43:39.327566",
     "status": "completed"
    },
    "tags": []
   },
   "outputs": [
    {
     "data": {
      "text/plain": [
       "True     1451\n",
       "False     148\n",
       "dtype: int64"
      ]
     },
     "execution_count": 19,
     "metadata": {},
     "output_type": "execute_result"
    }
   ],
   "source": [
    "(abs(stats.zscore(df_Red)) < 3).all(axis=1).value_counts()"
   ]
  },
  {
   "cell_type": "code",
   "execution_count": 20,
   "id": "4788dd62",
   "metadata": {
    "execution": {
     "iopub.execute_input": "2022-06-16T20:43:39.417465Z",
     "iopub.status.busy": "2022-06-16T20:43:39.416813Z",
     "iopub.status.idle": "2022-06-16T20:43:39.426773Z",
     "shell.execute_reply": "2022-06-16T20:43:39.426061Z"
    },
    "papermill": {
     "duration": 0.036885,
     "end_time": "2022-06-16T20:43:39.428942",
     "exception": false,
     "start_time": "2022-06-16T20:43:39.392057",
     "status": "completed"
    },
    "tags": []
   },
   "outputs": [],
   "source": [
    "df_Red = df_Red[(abs(stats.zscore(df_Red)) < 3).all(axis=1)]"
   ]
  },
  {
   "cell_type": "code",
   "execution_count": 21,
   "id": "44d81ae8",
   "metadata": {
    "execution": {
     "iopub.execute_input": "2022-06-16T20:43:39.478166Z",
     "iopub.status.busy": "2022-06-16T20:43:39.477748Z",
     "iopub.status.idle": "2022-06-16T20:43:39.483273Z",
     "shell.execute_reply": "2022-06-16T20:43:39.482549Z"
    },
    "papermill": {
     "duration": 0.032408,
     "end_time": "2022-06-16T20:43:39.484986",
     "exception": false,
     "start_time": "2022-06-16T20:43:39.452578",
     "status": "completed"
    },
    "tags": []
   },
   "outputs": [
    {
     "data": {
      "text/plain": [
       "(1451, 12)"
      ]
     },
     "execution_count": 21,
     "metadata": {},
     "output_type": "execute_result"
    }
   ],
   "source": [
    "df_Red.shape"
   ]
  },
  {
   "cell_type": "code",
   "execution_count": 22,
   "id": "95dc3fdc",
   "metadata": {
    "execution": {
     "iopub.execute_input": "2022-06-16T20:43:39.535604Z",
     "iopub.status.busy": "2022-06-16T20:43:39.534857Z",
     "iopub.status.idle": "2022-06-16T20:43:39.545079Z",
     "shell.execute_reply": "2022-06-16T20:43:39.544364Z"
    },
    "papermill": {
     "duration": 0.038413,
     "end_time": "2022-06-16T20:43:39.547224",
     "exception": false,
     "start_time": "2022-06-16T20:43:39.508811",
     "status": "completed"
    },
    "tags": []
   },
   "outputs": [],
   "source": [
    "df_White = df_White[(abs(stats.zscore(df_White)) < 3).all(axis=1)]"
   ]
  },
  {
   "cell_type": "code",
   "execution_count": 23,
   "id": "71fc5a7c",
   "metadata": {
    "execution": {
     "iopub.execute_input": "2022-06-16T20:43:39.597245Z",
     "iopub.status.busy": "2022-06-16T20:43:39.596508Z",
     "iopub.status.idle": "2022-06-16T20:43:40.363189Z",
     "shell.execute_reply": "2022-06-16T20:43:40.362500Z"
    },
    "papermill": {
     "duration": 0.794184,
     "end_time": "2022-06-16T20:43:40.365258",
     "exception": false,
     "start_time": "2022-06-16T20:43:39.571074",
     "status": "completed"
    },
    "tags": []
   },
   "outputs": [
    {
     "data": {
      "image/png": "[encoded data removed]",
      "text/plain": [
       "<Figure size 1008x720 with 2 Axes>"
      ]
     },
     "metadata": {
      "needs_background": "light"
     },
     "output_type": "display_data"
    }
   ],
   "source": [
    "fig, ax = plt.subplots(2,1,\n",
    "                       figsize=(14,10)\n",
    "                       )\n",
    "\n",
    "sns.boxplot(ax=ax[0],\n",
    "            data=df_Red.drop(['quality'],\n",
    "                             axis=1))\n",
    "\n",
    "\n",
    "sns.boxplot(ax=ax[1],\n",
    "            data=df_White.drop(['quality'], axis=1))\n",
    "\n",
    "ax[0].tick_params(axis='x', labelrotation = 45)\n",
    "ax[0].set_title('Red Score Distribution (Removed Outliers)')\n",
    "ax[1].tick_params(axis='x', labelrotation = 45)\n",
    "ax[1].set_title('White Score Distribution (Removed Outliers)')\n",
    "\n",
    "plt.tight_layout()"
   ]
  },
  {
   "cell_type": "code",
   "execution_count": 24,
   "id": "b7070ca8",
   "metadata": {
    "execution": {
     "iopub.execute_input": "2022-06-16T20:43:40.419161Z",
     "iopub.status.busy": "2022-06-16T20:43:40.418563Z",
     "iopub.status.idle": "2022-06-16T20:43:40.646728Z",
     "shell.execute_reply": "2022-06-16T20:43:40.645771Z"
    },
    "papermill": {
     "duration": 0.258599,
     "end_time": "2022-06-16T20:43:40.648857",
     "exception": false,
     "start_time": "2022-06-16T20:43:40.390258",
     "status": "completed"
    },
    "tags": []
   },
   "outputs": [
    {
     "name": "stdout",
     "output_type": "stream",
     "text": [
      "0.8160833161341197\n"
     ]
    },
    {
     "data": {
      "text/plain": [
       "<AxesSubplot:xlabel='density', ylabel='alcohol'>"
      ]
     },
     "execution_count": 24,
     "metadata": {},
     "output_type": "execute_result"
    },
    {
     "data": {
      "image/png": "[encoded data removed]",
      "text/plain": [
       "<Figure size 432x288 with 1 Axes>"
      ]
     },
     "metadata": {
      "needs_background": "light"
     },
     "output_type": "display_data"
    }
   ],
   "source": [
    "corr = abs(df_White['density'].corr(df_White['alcohol']))\n",
    "\n",
    "print(corr)\n",
    "sns.scatterplot(x='density', y='alcohol', data=df_White)"
   ]
  },
  {
   "cell_type": "code",
   "execution_count": 25,
   "id": "f6d0e455",
   "metadata": {
    "execution": {
     "iopub.execute_input": "2022-06-16T20:43:40.702874Z",
     "iopub.status.busy": "2022-06-16T20:43:40.702444Z",
     "iopub.status.idle": "2022-06-16T20:43:41.098527Z",
     "shell.execute_reply": "2022-06-16T20:43:41.097666Z"
    },
    "papermill": {
     "duration": 0.425989,
     "end_time": "2022-06-16T20:43:41.100582",
     "exception": false,
     "start_time": "2022-06-16T20:43:40.674593",
     "status": "completed"
    },
    "tags": []
   },
   "outputs": [
    {
     "name": "stdout",
     "output_type": "stream",
     "text": [
      "0.8402264134341874\n"
     ]
    },
    {
     "data": {
      "text/plain": [
       "<AxesSubplot:xlabel='density', ylabel='residual sugar'>"
      ]
     },
     "execution_count": 25,
     "metadata": {},
     "output_type": "execute_result"
    },
    {
     "data": {
      "image/png": "[encoded data removed]",
      "text/plain": [
       "<Figure size 432x288 with 1 Axes>"
      ]
     },
     "metadata": {
      "needs_background": "light"
     },
     "output_type": "display_data"
    }
   ],
   "source": [
    "corr = abs(df_White['density'].corr(df_White['residual sugar']))\n",
    "\n",
    "print(corr)\n",
    "sns.scatterplot(x='density', y='residual sugar', data=df_White)"
   ]
  },
  {
   "cell_type": "markdown",
   "id": "05e0cfaa",
   "metadata": {
    "papermill": {
     "duration": 0.02691,
     "end_time": "2022-06-16T20:43:41.154586",
     "exception": false,
     "start_time": "2022-06-16T20:43:41.127676",
     "status": "completed"
    },
    "tags": []
   },
   "source": [
    "Before any data modeling is done we need to scale the data."
   ]
  },
  {
   "cell_type": "code",
   "execution_count": 26,
   "id": "bd828129",
   "metadata": {
    "execution": {
     "iopub.execute_input": "2022-06-16T20:43:41.212123Z",
     "iopub.status.busy": "2022-06-16T20:43:41.211532Z",
     "iopub.status.idle": "2022-06-16T20:43:41.622893Z",
     "shell.execute_reply": "2022-06-16T20:43:41.621948Z"
    },
    "papermill": {
     "duration": 0.442371,
     "end_time": "2022-06-16T20:43:41.625315",
     "exception": false,
     "start_time": "2022-06-16T20:43:41.182944",
     "status": "completed"
    },
    "tags": []
   },
   "outputs": [],
   "source": [
    "from sklearn.preprocessing import MinMaxScaler\n",
    "from sklearn.model_selection import train_test_split\n",
    "from sklearn.ensemble import RandomForestClassifier"
   ]
  },
  {
   "cell_type": "code",
   "execution_count": 27,
   "id": "f1c31f88",
   "metadata": {
    "execution": {
     "iopub.execute_input": "2022-06-16T20:43:41.682864Z",
     "iopub.status.busy": "2022-06-16T20:43:41.681848Z",
     "iopub.status.idle": "2022-06-16T20:43:41.686696Z",
     "shell.execute_reply": "2022-06-16T20:43:41.686050Z"
    },
    "papermill": {
     "duration": 0.035395,
     "end_time": "2022-06-16T20:43:41.688628",
     "exception": false,
     "start_time": "2022-06-16T20:43:41.653233",
     "status": "completed"
    },
    "tags": []
   },
   "outputs": [],
   "source": [
    "rfc = RandomForestClassifier(n_estimators=400)"
   ]
  },
  {
   "cell_type": "markdown",
   "id": "0df2cb84",
   "metadata": {
    "papermill": {
     "duration": 0.027231,
     "end_time": "2022-06-16T20:43:41.744905",
     "exception": false,
     "start_time": "2022-06-16T20:43:41.717674",
     "status": "completed"
    },
    "tags": []
   },
   "source": [
    "# Classification Comparison Methods\n"
   ]
  },
  {
   "cell_type": "markdown",
   "id": "e1062a07",
   "metadata": {
    "papermill": {
     "duration": 0.026802,
     "end_time": "2022-06-16T20:43:41.798932",
     "exception": false,
     "start_time": "2022-06-16T20:43:41.772130",
     "status": "completed"
    },
    "tags": []
   },
   "source": [
    "## Random Forest"
   ]
  },
  {
   "cell_type": "markdown",
   "id": "4c637599",
   "metadata": {
    "papermill": {
     "duration": 0.028303,
     "end_time": "2022-06-16T20:43:41.855422",
     "exception": false,
     "start_time": "2022-06-16T20:43:41.827119",
     "status": "completed"
    },
    "tags": []
   },
   "source": [
    "### White"
   ]
  },
  {
   "cell_type": "code",
   "execution_count": 28,
   "id": "e3a65a72",
   "metadata": {
    "execution": {
     "iopub.execute_input": "2022-06-16T20:43:41.913943Z",
     "iopub.status.busy": "2022-06-16T20:43:41.913403Z",
     "iopub.status.idle": "2022-06-16T20:43:41.921177Z",
     "shell.execute_reply": "2022-06-16T20:43:41.920391Z"
    },
    "papermill": {
     "duration": 0.039934,
     "end_time": "2022-06-16T20:43:41.923258",
     "exception": false,
     "start_time": "2022-06-16T20:43:41.883324",
     "status": "completed"
    },
    "tags": []
   },
   "outputs": [],
   "source": [
    "X = df_White.drop(['quality'], axis=1).values\n",
    "y = df_White['quality'].values\n",
    "\n",
    "X_train, X_test, y_train, y_test = train_test_split(X, y, test_size=0.30, random_state=42)"
   ]
  },
  {
   "cell_type": "code",
   "execution_count": 29,
   "id": "e9127204",
   "metadata": {
    "execution": {
     "iopub.execute_input": "2022-06-16T20:43:41.990835Z",
     "iopub.status.busy": "2022-06-16T20:43:41.990198Z",
     "iopub.status.idle": "2022-06-16T20:43:45.000137Z",
     "shell.execute_reply": "2022-06-16T20:43:44.999426Z"
    },
    "papermill": {
     "duration": 3.046925,
     "end_time": "2022-06-16T20:43:45.002035",
     "exception": false,
     "start_time": "2022-06-16T20:43:41.955110",
     "status": "completed"
    },
    "tags": []
   },
   "outputs": [
    {
     "data": {
      "text/plain": [
       "RandomForestClassifier(n_estimators=400)"
      ]
     },
     "execution_count": 29,
     "metadata": {},
     "output_type": "execute_result"
    }
   ],
   "source": [
    "rfc.fit(X_train, y_train) #Random forest does not need scaling"
   ]
  },
  {
   "cell_type": "code",
   "execution_count": 30,
   "id": "5df78471",
   "metadata": {
    "execution": {
     "iopub.execute_input": "2022-06-16T20:43:45.059130Z",
     "iopub.status.busy": "2022-06-16T20:43:45.058469Z",
     "iopub.status.idle": "2022-06-16T20:43:45.062571Z",
     "shell.execute_reply": "2022-06-16T20:43:45.061876Z"
    },
    "papermill": {
     "duration": 0.035198,
     "end_time": "2022-06-16T20:43:45.065014",
     "exception": false,
     "start_time": "2022-06-16T20:43:45.029816",
     "status": "completed"
    },
    "tags": []
   },
   "outputs": [],
   "source": [
    "from sklearn.metrics import confusion_matrix, classification_report"
   ]
  },
  {
   "cell_type": "code",
   "execution_count": 31,
   "id": "bdb3f83a",
   "metadata": {
    "execution": {
     "iopub.execute_input": "2022-06-16T20:43:45.120791Z",
     "iopub.status.busy": "2022-06-16T20:43:45.120248Z",
     "iopub.status.idle": "2022-06-16T20:43:45.302767Z",
     "shell.execute_reply": "2022-06-16T20:43:45.302058Z"
    },
    "papermill": {
     "duration": 0.212909,
     "end_time": "2022-06-16T20:43:45.305033",
     "exception": false,
     "start_time": "2022-06-16T20:43:45.092124",
     "status": "completed"
    },
    "tags": []
   },
   "outputs": [],
   "source": [
    "pred_White = rfc.predict(X_test)"
   ]
  },
  {
   "cell_type": "code",
   "execution_count": 32,
   "id": "ad3f7a99",
   "metadata": {
    "execution": {
     "iopub.execute_input": "2022-06-16T20:43:45.360430Z",
     "iopub.status.busy": "2022-06-16T20:43:45.359872Z",
     "iopub.status.idle": "2022-06-16T20:43:45.376322Z",
     "shell.execute_reply": "2022-06-16T20:43:45.375351Z"
    },
    "papermill": {
     "duration": 0.047045,
     "end_time": "2022-06-16T20:43:45.378731",
     "exception": false,
     "start_time": "2022-06-16T20:43:45.331686",
     "status": "completed"
    },
    "tags": []
   },
   "outputs": [
    {
     "name": "stdout",
     "output_type": "stream",
     "text": [
      "[[  6  12  14   0   0]\n",
      " [  1 243 128   2   0]\n",
      " [  1  99 489  33   0]\n",
      " [  0   3 120 143   1]\n",
      " [  0   1  20  12  19]]\n",
      "\n",
      "\n",
      "              precision    recall  f1-score   support\n",
      "\n",
      "           4       0.75      0.19      0.30        32\n",
      "           5       0.68      0.65      0.66       374\n",
      "           6       0.63      0.79      0.70       622\n",
      "           7       0.75      0.54      0.63       267\n",
      "           8       0.95      0.37      0.53        52\n",
      "\n",
      "    accuracy                           0.67      1347\n",
      "   macro avg       0.75      0.50      0.56      1347\n",
      "weighted avg       0.69      0.67      0.66      1347\n",
      "\n"
     ]
    }
   ],
   "source": [
    "print(confusion_matrix(y_test, pred_White))\n",
    "print('\\n')\n",
    "print(classification_report(y_test, pred_White))"
   ]
  },
  {
   "cell_type": "markdown",
   "id": "f7945432",
   "metadata": {
    "papermill": {
     "duration": 0.030826,
     "end_time": "2022-06-16T20:43:45.436661",
     "exception": false,
     "start_time": "2022-06-16T20:43:45.405835",
     "status": "completed"
    },
    "tags": []
   },
   "source": [
    "### Red"
   ]
  },
  {
   "cell_type": "code",
   "execution_count": 33,
   "id": "c15f12c5",
   "metadata": {
    "execution": {
     "iopub.execute_input": "2022-06-16T20:43:45.492858Z",
     "iopub.status.busy": "2022-06-16T20:43:45.492484Z",
     "iopub.status.idle": "2022-06-16T20:43:45.499679Z",
     "shell.execute_reply": "2022-06-16T20:43:45.498901Z"
    },
    "papermill": {
     "duration": 0.03738,
     "end_time": "2022-06-16T20:43:45.501606",
     "exception": false,
     "start_time": "2022-06-16T20:43:45.464226",
     "status": "completed"
    },
    "tags": []
   },
   "outputs": [],
   "source": [
    "X = df_Red.drop(['quality'], axis=1).values\n",
    "y = df_Red['quality'].values\n",
    "\n",
    "X_train, X_test, y_train, y_test = train_test_split(X, y, test_size=0.30, random_state=42)"
   ]
  },
  {
   "cell_type": "code",
   "execution_count": 34,
   "id": "7103cf73",
   "metadata": {
    "execution": {
     "iopub.execute_input": "2022-06-16T20:43:45.557815Z",
     "iopub.status.busy": "2022-06-16T20:43:45.556941Z",
     "iopub.status.idle": "2022-06-16T20:43:46.904223Z",
     "shell.execute_reply": "2022-06-16T20:43:46.903517Z"
    },
    "papermill": {
     "duration": 1.378142,
     "end_time": "2022-06-16T20:43:46.906949",
     "exception": false,
     "start_time": "2022-06-16T20:43:45.528807",
     "status": "completed"
    },
    "tags": []
   },
   "outputs": [
    {
     "data": {
      "text/plain": [
       "RandomForestClassifier(n_estimators=400)"
      ]
     },
     "execution_count": 34,
     "metadata": {},
     "output_type": "execute_result"
    }
   ],
   "source": [
    "rfc.fit(X_train, y_train) #Random forest does not need scaling"
   ]
  },
  {
   "cell_type": "code",
   "execution_count": 35,
   "id": "93ff9464",
   "metadata": {
    "execution": {
     "iopub.execute_input": "2022-06-16T20:43:46.966888Z",
     "iopub.status.busy": "2022-06-16T20:43:46.966524Z",
     "iopub.status.idle": "2022-06-16T20:43:47.056164Z",
     "shell.execute_reply": "2022-06-16T20:43:47.055423Z"
    },
    "papermill": {
     "duration": 0.120854,
     "end_time": "2022-06-16T20:43:47.058885",
     "exception": false,
     "start_time": "2022-06-16T20:43:46.938031",
     "status": "completed"
    },
    "tags": []
   },
   "outputs": [],
   "source": [
    "pred_Red = rfc.predict(X_test)"
   ]
  },
  {
   "cell_type": "code",
   "execution_count": 36,
   "id": "49288dd0",
   "metadata": {
    "execution": {
     "iopub.execute_input": "2022-06-16T20:43:47.120071Z",
     "iopub.status.busy": "2022-06-16T20:43:47.119443Z",
     "iopub.status.idle": "2022-06-16T20:43:47.138228Z",
     "shell.execute_reply": "2022-06-16T20:43:47.137264Z"
    },
    "papermill": {
     "duration": 0.049789,
     "end_time": "2022-06-16T20:43:47.140622",
     "exception": false,
     "start_time": "2022-06-16T20:43:47.090833",
     "status": "completed"
    },
    "tags": []
   },
   "outputs": [
    {
     "name": "stdout",
     "output_type": "stream",
     "text": [
      "[[  0  11   3   1   0]\n",
      " [  0 131  46   2   0]\n",
      " [  0  44 126   9   0]\n",
      " [  0   3  24  31   0]\n",
      " [  0   0   2   3   0]]\n",
      "\n",
      "\n",
      "              precision    recall  f1-score   support\n",
      "\n",
      "           4       0.00      0.00      0.00        15\n",
      "           5       0.69      0.73      0.71       179\n",
      "           6       0.63      0.70      0.66       179\n",
      "           7       0.67      0.53      0.60        58\n",
      "           8       0.00      0.00      0.00         5\n",
      "\n",
      "    accuracy                           0.66       436\n",
      "   macro avg       0.40      0.39      0.39       436\n",
      "weighted avg       0.63      0.66      0.64       436\n",
      "\n"
     ]
    },
    {
     "name": "stderr",
     "output_type": "stream",
     "text": [
      "/opt/conda/lib/python3.7/site-packages/sklearn/metrics/_classification.py:1318: UndefinedMetricWarning: Precision and F-score are ill-defined and being set to 0.0 in labels with no predicted samples. Use `zero_division` parameter to control this behavior.\n",
      "  _warn_prf(average, modifier, msg_start, len(result))\n",
      "/opt/conda/lib/python3.7/site-packages/sklearn/metrics/_classification.py:1318: UndefinedMetricWarning: Precision and F-score are ill-defined and being set to 0.0 in labels with no predicted samples. Use `zero_division` parameter to control this behavior.\n",
      "  _warn_prf(average, modifier, msg_start, len(result))\n",
      "/opt/conda/lib/python3.7/site-packages/sklearn/metrics/_classification.py:1318: UndefinedMetricWarning: Precision and F-score are ill-defined and being set to 0.0 in labels with no predicted samples. Use `zero_division` parameter to control this behavior.\n",
      "  _warn_prf(average, modifier, msg_start, len(result))\n"
     ]
    }
   ],
   "source": [
    "print(confusion_matrix(y_test, pred_Red))\n",
    "print('\\n')\n",
    "print(classification_report(y_test, pred_Red))"
   ]
  },
  {
   "cell_type": "markdown",
   "id": "8e88e98f",
   "metadata": {
    "papermill": {
     "duration": 0.027302,
     "end_time": "2022-06-16T20:43:47.196021",
     "exception": false,
     "start_time": "2022-06-16T20:43:47.168719",
     "status": "completed"
    },
    "tags": []
   },
   "source": [
    "## Tensorflow using Keras with Droupout\n",
    "### White\n",
    "\n",
    "I think that to use classification I'll need to create dummy variables to the response ranging from 3 to 9."
   ]
  },
  {
   "cell_type": "code",
   "execution_count": 37,
   "id": "2a6e2ff5",
   "metadata": {
    "execution": {
     "iopub.execute_input": "2022-06-16T20:43:47.258190Z",
     "iopub.status.busy": "2022-06-16T20:43:47.257499Z",
     "iopub.status.idle": "2022-06-16T20:43:54.533567Z",
     "shell.execute_reply": "2022-06-16T20:43:54.532853Z"
    },
    "papermill": {
     "duration": 7.308747,
     "end_time": "2022-06-16T20:43:54.535891",
     "exception": false,
     "start_time": "2022-06-16T20:43:47.227144",
     "status": "completed"
    },
    "tags": []
   },
   "outputs": [],
   "source": [
    "import tensorflow as tf\n",
    "from tensorflow.keras.models import Sequential\n",
    "from tensorflow.keras.layers import Dense, Dropout, Activation\n",
    "from tensorflow.keras.callbacks import EarlyStopping"
   ]
  },
  {
   "cell_type": "code",
   "execution_count": 38,
   "id": "a66c6e9b",
   "metadata": {
    "execution": {
     "iopub.execute_input": "2022-06-16T20:43:54.596691Z",
     "iopub.status.busy": "2022-06-16T20:43:54.595843Z",
     "iopub.status.idle": "2022-06-16T20:43:54.600020Z",
     "shell.execute_reply": "2022-06-16T20:43:54.599317Z"
    },
    "papermill": {
     "duration": 0.038095,
     "end_time": "2022-06-16T20:43:54.601986",
     "exception": false,
     "start_time": "2022-06-16T20:43:54.563891",
     "status": "completed"
    },
    "tags": []
   },
   "outputs": [],
   "source": [
    "scaler = MinMaxScaler()"
   ]
  },
  {
   "cell_type": "code",
   "execution_count": 39,
   "id": "13db0e70",
   "metadata": {
    "execution": {
     "iopub.execute_input": "2022-06-16T20:43:54.660850Z",
     "iopub.status.busy": "2022-06-16T20:43:54.660354Z",
     "iopub.status.idle": "2022-06-16T20:43:54.665583Z",
     "shell.execute_reply": "2022-06-16T20:43:54.664982Z"
    },
    "papermill": {
     "duration": 0.036625,
     "end_time": "2022-06-16T20:43:54.667373",
     "exception": false,
     "start_time": "2022-06-16T20:43:54.630748",
     "status": "completed"
    },
    "tags": []
   },
   "outputs": [
    {
     "data": {
      "text/plain": [
       "5"
      ]
     },
     "execution_count": 39,
     "metadata": {},
     "output_type": "execute_result"
    }
   ],
   "source": [
    "ys_w = df_White['quality'].nunique()\n",
    "ys_w"
   ]
  },
  {
   "cell_type": "code",
   "execution_count": 40,
   "id": "a65bbe65",
   "metadata": {
    "execution": {
     "iopub.execute_input": "2022-06-16T20:43:54.725283Z",
     "iopub.status.busy": "2022-06-16T20:43:54.724753Z",
     "iopub.status.idle": "2022-06-16T20:43:54.729811Z",
     "shell.execute_reply": "2022-06-16T20:43:54.729158Z"
    },
    "papermill": {
     "duration": 0.036022,
     "end_time": "2022-06-16T20:43:54.731749",
     "exception": false,
     "start_time": "2022-06-16T20:43:54.695727",
     "status": "completed"
    },
    "tags": []
   },
   "outputs": [],
   "source": [
    "dummy_White = pd.get_dummies(df_White['quality'], drop_first=False)"
   ]
  },
  {
   "cell_type": "code",
   "execution_count": 41,
   "id": "4893603d",
   "metadata": {
    "execution": {
     "iopub.execute_input": "2022-06-16T20:43:54.789810Z",
     "iopub.status.busy": "2022-06-16T20:43:54.789228Z",
     "iopub.status.idle": "2022-06-16T20:43:54.808246Z",
     "shell.execute_reply": "2022-06-16T20:43:54.807504Z"
    },
    "papermill": {
     "duration": 0.050826,
     "end_time": "2022-06-16T20:43:54.810221",
     "exception": false,
     "start_time": "2022-06-16T20:43:54.759395",
     "status": "completed"
    },
    "tags": []
   },
   "outputs": [
    {
     "data": {
      "text/html": [
       "<div>\n",
       "<style scoped>\n",
       "    .dataframe tbody tr th:only-of-type {\n",
       "        vertical-align: middle;\n",
       "    }\n",
       "\n",
       "    .dataframe tbody tr th {\n",
       "        vertical-align: top;\n",
       "    }\n",
       "\n",
       "    .dataframe thead th {\n",
       "        text-align: right;\n",
       "    }\n",
       "</style>\n",
       "<table border=\"1\" class=\"dataframe\">\n",
       "  <thead>\n",
       "    <tr style=\"text-align: right;\">\n",
       "      <th></th>\n",
       "      <th>fixed acidity</th>\n",
       "      <th>volatile acidity</th>\n",
       "      <th>citric acid</th>\n",
       "      <th>residual sugar</th>\n",
       "      <th>chlorides</th>\n",
       "      <th>free sulfur dioxide</th>\n",
       "      <th>total sulfur dioxide</th>\n",
       "      <th>density</th>\n",
       "      <th>pH</th>\n",
       "      <th>sulphates</th>\n",
       "      <th>alcohol</th>\n",
       "      <th>quality</th>\n",
       "    </tr>\n",
       "  </thead>\n",
       "  <tbody>\n",
       "    <tr>\n",
       "      <th>0</th>\n",
       "      <td>7.0</td>\n",
       "      <td>0.27</td>\n",
       "      <td>0.36</td>\n",
       "      <td>20.7</td>\n",
       "      <td>0.045</td>\n",
       "      <td>45.0</td>\n",
       "      <td>170.0</td>\n",
       "      <td>1.0010</td>\n",
       "      <td>3.00</td>\n",
       "      <td>0.45</td>\n",
       "      <td>8.8</td>\n",
       "      <td>6</td>\n",
       "    </tr>\n",
       "    <tr>\n",
       "      <th>1</th>\n",
       "      <td>6.3</td>\n",
       "      <td>0.30</td>\n",
       "      <td>0.34</td>\n",
       "      <td>1.6</td>\n",
       "      <td>0.049</td>\n",
       "      <td>14.0</td>\n",
       "      <td>132.0</td>\n",
       "      <td>0.9940</td>\n",
       "      <td>3.30</td>\n",
       "      <td>0.49</td>\n",
       "      <td>9.5</td>\n",
       "      <td>6</td>\n",
       "    </tr>\n",
       "    <tr>\n",
       "      <th>2</th>\n",
       "      <td>8.1</td>\n",
       "      <td>0.28</td>\n",
       "      <td>0.40</td>\n",
       "      <td>6.9</td>\n",
       "      <td>0.050</td>\n",
       "      <td>30.0</td>\n",
       "      <td>97.0</td>\n",
       "      <td>0.9951</td>\n",
       "      <td>3.26</td>\n",
       "      <td>0.44</td>\n",
       "      <td>10.1</td>\n",
       "      <td>6</td>\n",
       "    </tr>\n",
       "    <tr>\n",
       "      <th>3</th>\n",
       "      <td>7.2</td>\n",
       "      <td>0.23</td>\n",
       "      <td>0.32</td>\n",
       "      <td>8.5</td>\n",
       "      <td>0.058</td>\n",
       "      <td>47.0</td>\n",
       "      <td>186.0</td>\n",
       "      <td>0.9956</td>\n",
       "      <td>3.19</td>\n",
       "      <td>0.40</td>\n",
       "      <td>9.9</td>\n",
       "      <td>6</td>\n",
       "    </tr>\n",
       "    <tr>\n",
       "      <th>4</th>\n",
       "      <td>7.2</td>\n",
       "      <td>0.23</td>\n",
       "      <td>0.32</td>\n",
       "      <td>8.5</td>\n",
       "      <td>0.058</td>\n",
       "      <td>47.0</td>\n",
       "      <td>186.0</td>\n",
       "      <td>0.9956</td>\n",
       "      <td>3.19</td>\n",
       "      <td>0.40</td>\n",
       "      <td>9.9</td>\n",
       "      <td>6</td>\n",
       "    </tr>\n",
       "  </tbody>\n",
       "</table>\n",
       "</div>"
      ],
      "text/plain": [
       "   fixed acidity  volatile acidity  citric acid  residual sugar  chlorides  \\\n",
       "0            7.0              0.27         0.36            20.7      0.045   \n",
       "1            6.3              0.30         0.34             1.6      0.049   \n",
       "2            8.1              0.28         0.40             6.9      0.050   \n",
       "3            7.2              0.23         0.32             8.5      0.058   \n",
       "4            7.2              0.23         0.32             8.5      0.058   \n",
       "\n",
       "   free sulfur dioxide  total sulfur dioxide  density    pH  sulphates  \\\n",
       "0                 45.0                 170.0   1.0010  3.00       0.45   \n",
       "1                 14.0                 132.0   0.9940  3.30       0.49   \n",
       "2                 30.0                  97.0   0.9951  3.26       0.44   \n",
       "3                 47.0                 186.0   0.9956  3.19       0.40   \n",
       "4                 47.0                 186.0   0.9956  3.19       0.40   \n",
       "\n",
       "   alcohol  quality  \n",
       "0      8.8        6  \n",
       "1      9.5        6  \n",
       "2     10.1        6  \n",
       "3      9.9        6  \n",
       "4      9.9        6  "
      ]
     },
     "execution_count": 41,
     "metadata": {},
     "output_type": "execute_result"
    }
   ],
   "source": [
    "df_White.head()"
   ]
  },
  {
   "cell_type": "code",
   "execution_count": 42,
   "id": "ef1dcf2e",
   "metadata": {
    "execution": {
     "iopub.execute_input": "2022-06-16T20:43:54.867927Z",
     "iopub.status.busy": "2022-06-16T20:43:54.867414Z",
     "iopub.status.idle": "2022-06-16T20:43:54.872765Z",
     "shell.execute_reply": "2022-06-16T20:43:54.872098Z"
    },
    "papermill": {
     "duration": 0.036685,
     "end_time": "2022-06-16T20:43:54.874893",
     "exception": false,
     "start_time": "2022-06-16T20:43:54.838208",
     "status": "completed"
    },
    "tags": []
   },
   "outputs": [],
   "source": [
    "df_White = pd.concat([df_White, dummy_White], axis=1)"
   ]
  },
  {
   "cell_type": "code",
   "execution_count": 43,
   "id": "82575367",
   "metadata": {
    "execution": {
     "iopub.execute_input": "2022-06-16T20:43:54.943160Z",
     "iopub.status.busy": "2022-06-16T20:43:54.942395Z",
     "iopub.status.idle": "2022-06-16T20:43:54.950697Z",
     "shell.execute_reply": "2022-06-16T20:43:54.948941Z"
    },
    "papermill": {
     "duration": 0.046938,
     "end_time": "2022-06-16T20:43:54.956369",
     "exception": false,
     "start_time": "2022-06-16T20:43:54.909431",
     "status": "completed"
    },
    "tags": []
   },
   "outputs": [],
   "source": [
    "df_White.drop(['quality'], axis=1, inplace=True)"
   ]
  },
  {
   "cell_type": "code",
   "execution_count": 44,
   "id": "be17e207",
   "metadata": {
    "execution": {
     "iopub.execute_input": "2022-06-16T20:43:55.024359Z",
     "iopub.status.busy": "2022-06-16T20:43:55.023647Z",
     "iopub.status.idle": "2022-06-16T20:43:55.032833Z",
     "shell.execute_reply": "2022-06-16T20:43:55.032151Z"
    },
    "papermill": {
     "duration": 0.047109,
     "end_time": "2022-06-16T20:43:55.035005",
     "exception": false,
     "start_time": "2022-06-16T20:43:54.987896",
     "status": "completed"
    },
    "tags": []
   },
   "outputs": [],
   "source": [
    "X = df_White.drop(df_White.iloc[:,-ys_w:], axis=1).values\n",
    "y = df_White.iloc[:,-ys_w:].values\n",
    "\n",
    "X_train, X_test, y_train, y_test = train_test_split(X, y, test_size=0.30, random_state=42)"
   ]
  },
  {
   "cell_type": "code",
   "execution_count": 45,
   "id": "1ad96f78",
   "metadata": {
    "execution": {
     "iopub.execute_input": "2022-06-16T20:43:55.092672Z",
     "iopub.status.busy": "2022-06-16T20:43:55.091952Z",
     "iopub.status.idle": "2022-06-16T20:43:55.097772Z",
     "shell.execute_reply": "2022-06-16T20:43:55.097035Z"
    },
    "papermill": {
     "duration": 0.036932,
     "end_time": "2022-06-16T20:43:55.099918",
     "exception": false,
     "start_time": "2022-06-16T20:43:55.062986",
     "status": "completed"
    },
    "tags": []
   },
   "outputs": [],
   "source": [
    "X_train = scaler.fit_transform(X_train)"
   ]
  },
  {
   "cell_type": "code",
   "execution_count": 46,
   "id": "6d2afcea",
   "metadata": {
    "execution": {
     "iopub.execute_input": "2022-06-16T20:43:55.157799Z",
     "iopub.status.busy": "2022-06-16T20:43:55.157184Z",
     "iopub.status.idle": "2022-06-16T20:43:55.162686Z",
     "shell.execute_reply": "2022-06-16T20:43:55.162079Z"
    },
    "papermill": {
     "duration": 0.036792,
     "end_time": "2022-06-16T20:43:55.164446",
     "exception": false,
     "start_time": "2022-06-16T20:43:55.127654",
     "status": "completed"
    },
    "tags": []
   },
   "outputs": [
    {
     "data": {
      "text/plain": [
       "6"
      ]
     },
     "execution_count": 46,
     "metadata": {},
     "output_type": "execute_result"
    }
   ],
   "source": [
    "np.round(X_train.shape[1]/2).astype('int32')"
   ]
  },
  {
   "cell_type": "code",
   "execution_count": 47,
   "id": "9236fd01",
   "metadata": {
    "execution": {
     "iopub.execute_input": "2022-06-16T20:43:55.224273Z",
     "iopub.status.busy": "2022-06-16T20:43:55.223612Z",
     "iopub.status.idle": "2022-06-16T20:43:55.227866Z",
     "shell.execute_reply": "2022-06-16T20:43:55.227182Z"
    },
    "papermill": {
     "duration": 0.037263,
     "end_time": "2022-06-16T20:43:55.230034",
     "exception": false,
     "start_time": "2022-06-16T20:43:55.192771",
     "status": "completed"
    },
    "tags": []
   },
   "outputs": [],
   "source": [
    "X_test = scaler.transform(X_test)"
   ]
  },
  {
   "cell_type": "code",
   "execution_count": 48,
   "id": "6be69a12",
   "metadata": {
    "execution": {
     "iopub.execute_input": "2022-06-16T20:43:55.289797Z",
     "iopub.status.busy": "2022-06-16T20:43:55.289388Z",
     "iopub.status.idle": "2022-06-16T20:43:55.294741Z",
     "shell.execute_reply": "2022-06-16T20:43:55.293765Z"
    },
    "papermill": {
     "duration": 0.037375,
     "end_time": "2022-06-16T20:43:55.296940",
     "exception": false,
     "start_time": "2022-06-16T20:43:55.259565",
     "status": "completed"
    },
    "tags": []
   },
   "outputs": [],
   "source": [
    "early_stop = EarlyStopping(monitor='val_loss', mode='min', verbose=1, patience=25)"
   ]
  },
  {
   "cell_type": "code",
   "execution_count": 49,
   "id": "ed0d6b9c",
   "metadata": {
    "execution": {
     "iopub.execute_input": "2022-06-16T20:43:55.356619Z",
     "iopub.status.busy": "2022-06-16T20:43:55.356232Z",
     "iopub.status.idle": "2022-06-16T20:43:55.454396Z",
     "shell.execute_reply": "2022-06-16T20:43:55.453343Z"
    },
    "papermill": {
     "duration": 0.131848,
     "end_time": "2022-06-16T20:43:55.457602",
     "exception": false,
     "start_time": "2022-06-16T20:43:55.325754",
     "status": "completed"
    },
    "tags": []
   },
   "outputs": [
    {
     "name": "stderr",
     "output_type": "stream",
     "text": [
      "2022-06-16 20:43:55.400331: I tensorflow/core/common_runtime/process_util.cc:146] Creating new thread pool with default inter op setting: 2. Tune using inter_op_parallelism_threads for best performance.\n"
     ]
    }
   ],
   "source": [
    "model = Sequential()\n",
    "\n",
    "model.add(Dense(units=X_train.shape[1], activation='relu'))\n",
    "model.add(Dropout(0.1))\n",
    "\n",
    "model.add(Dense(units=np.round(X_train.shape[1]/2).astype('int32'), activation='relu'))\n",
    "model.add(Dropout(0.1))\n",
    "\n",
    "model.add(Dense(units=y_train.shape[1], activation='softmax'))\n",
    "\n",
    "model.compile(loss='categorical_crossentropy', optimizer = 'adam', metrics=['accuracy'])"
   ]
  },
  {
   "cell_type": "code",
   "execution_count": 50,
   "id": "447d8fe1",
   "metadata": {
    "execution": {
     "iopub.execute_input": "2022-06-16T20:43:55.517098Z",
     "iopub.status.busy": "2022-06-16T20:43:55.516636Z",
     "iopub.status.idle": "2022-06-16T20:44:26.262853Z",
     "shell.execute_reply": "2022-06-16T20:44:26.261471Z"
    },
    "papermill": {
     "duration": 30.779056,
     "end_time": "2022-06-16T20:44:26.265638",
     "exception": false,
     "start_time": "2022-06-16T20:43:55.486582",
     "status": "completed"
    },
    "tags": []
   },
   "outputs": [
    {
     "name": "stderr",
     "output_type": "stream",
     "text": [
      "2022-06-16 20:43:55.607175: I tensorflow/compiler/mlir/mlir_graph_optimization_pass.cc:185] None of the MLIR Optimization Passes are enabled (registered 2)\n"
     ]
    },
    {
     "name": "stdout",
     "output_type": "stream",
     "text": [
      "Epoch 1/400\n",
      "13/13 [==============================] - 1s 22ms/step - loss: 1.6313 - accuracy: 0.1965 - val_loss: 1.6121 - val_accuracy: 0.1908\n",
      "Epoch 2/400\n",
      "13/13 [==============================] - 0s 5ms/step - loss: 1.6020 - accuracy: 0.2637 - val_loss: 1.5891 - val_accuracy: 0.2754\n",
      "Epoch 3/400\n",
      "13/13 [==============================] - 0s 5ms/step - loss: 1.5795 - accuracy: 0.3150 - val_loss: 1.5677 - val_accuracy: 0.2814\n",
      "Epoch 4/400\n",
      "13/13 [==============================] - 0s 6ms/step - loss: 1.5558 - accuracy: 0.3131 - val_loss: 1.5475 - val_accuracy: 0.2769\n",
      "Epoch 5/400\n",
      "13/13 [==============================] - 0s 6ms/step - loss: 1.5382 - accuracy: 0.3232 - val_loss: 1.5279 - val_accuracy: 0.2843\n",
      "Epoch 6/400\n",
      "13/13 [==============================] - 0s 5ms/step - loss: 1.5174 - accuracy: 0.3860 - val_loss: 1.5090 - val_accuracy: 0.4610\n",
      "Epoch 7/400\n",
      "13/13 [==============================] - 0s 5ms/step - loss: 1.4985 - accuracy: 0.4475 - val_loss: 1.4902 - val_accuracy: 0.4610\n",
      "Epoch 8/400\n",
      "13/13 [==============================] - 0s 5ms/step - loss: 1.4758 - accuracy: 0.4513 - val_loss: 1.4719 - val_accuracy: 0.4618\n",
      "Epoch 9/400\n",
      "13/13 [==============================] - 0s 5ms/step - loss: 1.4688 - accuracy: 0.4449 - val_loss: 1.4545 - val_accuracy: 0.4618\n",
      "Epoch 10/400\n",
      "13/13 [==============================] - 0s 6ms/step - loss: 1.4517 - accuracy: 0.4226 - val_loss: 1.4382 - val_accuracy: 0.4618\n",
      "Epoch 11/400\n",
      "13/13 [==============================] - 0s 6ms/step - loss: 1.4300 - accuracy: 0.4252 - val_loss: 1.4222 - val_accuracy: 0.4618\n",
      "Epoch 12/400\n",
      "13/13 [==============================] - 0s 5ms/step - loss: 1.4182 - accuracy: 0.4264 - val_loss: 1.4066 - val_accuracy: 0.4618\n",
      "Epoch 13/400\n",
      "13/13 [==============================] - 0s 7ms/step - loss: 1.4093 - accuracy: 0.4175 - val_loss: 1.3918 - val_accuracy: 0.4618\n",
      "Epoch 14/400\n",
      "13/13 [==============================] - 0s 6ms/step - loss: 1.3913 - accuracy: 0.4338 - val_loss: 1.3758 - val_accuracy: 0.4618\n",
      "Epoch 15/400\n",
      "13/13 [==============================] - 0s 5ms/step - loss: 1.3751 - accuracy: 0.4296 - val_loss: 1.3562 - val_accuracy: 0.4618\n",
      "Epoch 16/400\n",
      "13/13 [==============================] - 0s 5ms/step - loss: 1.3535 - accuracy: 0.4382 - val_loss: 1.3295 - val_accuracy: 0.4618\n",
      "Epoch 17/400\n",
      "13/13 [==============================] - 0s 5ms/step - loss: 1.3398 - accuracy: 0.4455 - val_loss: 1.3053 - val_accuracy: 0.4618\n",
      "Epoch 18/400\n",
      "13/13 [==============================] - 0s 5ms/step - loss: 1.3214 - accuracy: 0.4452 - val_loss: 1.2856 - val_accuracy: 0.4618\n",
      "Epoch 19/400\n",
      "13/13 [==============================] - 0s 5ms/step - loss: 1.3069 - accuracy: 0.4478 - val_loss: 1.2700 - val_accuracy: 0.4618\n",
      "Epoch 20/400\n",
      "13/13 [==============================] - 0s 5ms/step - loss: 1.2923 - accuracy: 0.4475 - val_loss: 1.2560 - val_accuracy: 0.4618\n",
      "Epoch 21/400\n",
      "13/13 [==============================] - 0s 5ms/step - loss: 1.2809 - accuracy: 0.4497 - val_loss: 1.2439 - val_accuracy: 0.4618\n",
      "Epoch 22/400\n",
      "13/13 [==============================] - 0s 6ms/step - loss: 1.2681 - accuracy: 0.4357 - val_loss: 1.2326 - val_accuracy: 0.4618\n",
      "Epoch 23/400\n",
      "13/13 [==============================] - 0s 5ms/step - loss: 1.2624 - accuracy: 0.4287 - val_loss: 1.2222 - val_accuracy: 0.4618\n",
      "Epoch 24/400\n",
      "13/13 [==============================] - 0s 6ms/step - loss: 1.2533 - accuracy: 0.4392 - val_loss: 1.2139 - val_accuracy: 0.4618\n",
      "Epoch 25/400\n",
      "13/13 [==============================] - 0s 5ms/step - loss: 1.2429 - accuracy: 0.4446 - val_loss: 1.2054 - val_accuracy: 0.4618\n",
      "Epoch 26/400\n",
      "13/13 [==============================] - 0s 5ms/step - loss: 1.2420 - accuracy: 0.4344 - val_loss: 1.1994 - val_accuracy: 0.4610\n",
      "Epoch 27/400\n",
      "13/13 [==============================] - 0s 5ms/step - loss: 1.2406 - accuracy: 0.4309 - val_loss: 1.1942 - val_accuracy: 0.4647\n",
      "Epoch 28/400\n",
      "13/13 [==============================] - 0s 5ms/step - loss: 1.2294 - accuracy: 0.4360 - val_loss: 1.1898 - val_accuracy: 0.4677\n",
      "Epoch 29/400\n",
      "13/13 [==============================] - 0s 5ms/step - loss: 1.2226 - accuracy: 0.4420 - val_loss: 1.1837 - val_accuracy: 0.4729\n",
      "Epoch 30/400\n",
      "13/13 [==============================] - 0s 5ms/step - loss: 1.2170 - accuracy: 0.4583 - val_loss: 1.1764 - val_accuracy: 0.4818\n",
      "Epoch 31/400\n",
      "13/13 [==============================] - 0s 5ms/step - loss: 1.2117 - accuracy: 0.4621 - val_loss: 1.1706 - val_accuracy: 0.4929\n",
      "Epoch 32/400\n",
      "13/13 [==============================] - 0s 5ms/step - loss: 1.2075 - accuracy: 0.4532 - val_loss: 1.1666 - val_accuracy: 0.4974\n",
      "Epoch 33/400\n",
      "13/13 [==============================] - 0s 5ms/step - loss: 1.2070 - accuracy: 0.4627 - val_loss: 1.1626 - val_accuracy: 0.5048\n",
      "Epoch 34/400\n",
      "13/13 [==============================] - 0s 5ms/step - loss: 1.2028 - accuracy: 0.4554 - val_loss: 1.1588 - val_accuracy: 0.5004\n",
      "Epoch 35/400\n",
      "13/13 [==============================] - 0s 6ms/step - loss: 1.2036 - accuracy: 0.4608 - val_loss: 1.1566 - val_accuracy: 0.5041\n",
      "Epoch 36/400\n",
      "13/13 [==============================] - 0s 6ms/step - loss: 1.1891 - accuracy: 0.4669 - val_loss: 1.1522 - val_accuracy: 0.5093\n",
      "Epoch 37/400\n",
      "13/13 [==============================] - 0s 6ms/step - loss: 1.1863 - accuracy: 0.4675 - val_loss: 1.1493 - val_accuracy: 0.5093\n",
      "Epoch 38/400\n",
      "13/13 [==============================] - 0s 5ms/step - loss: 1.1881 - accuracy: 0.4682 - val_loss: 1.1463 - val_accuracy: 0.5122\n",
      "Epoch 39/400\n",
      "13/13 [==============================] - 0s 5ms/step - loss: 1.1887 - accuracy: 0.4726 - val_loss: 1.1438 - val_accuracy: 0.5085\n",
      "Epoch 40/400\n",
      "13/13 [==============================] - 0s 6ms/step - loss: 1.1902 - accuracy: 0.4678 - val_loss: 1.1422 - val_accuracy: 0.5160\n",
      "Epoch 41/400\n",
      "13/13 [==============================] - 0s 5ms/step - loss: 1.1798 - accuracy: 0.4844 - val_loss: 1.1399 - val_accuracy: 0.5078\n",
      "Epoch 42/400\n",
      "13/13 [==============================] - 0s 5ms/step - loss: 1.1745 - accuracy: 0.4764 - val_loss: 1.1377 - val_accuracy: 0.5108\n",
      "Epoch 43/400\n",
      "13/13 [==============================] - 0s 6ms/step - loss: 1.1735 - accuracy: 0.4774 - val_loss: 1.1354 - val_accuracy: 0.5137\n",
      "Epoch 44/400\n",
      "13/13 [==============================] - 0s 6ms/step - loss: 1.1719 - accuracy: 0.4936 - val_loss: 1.1331 - val_accuracy: 0.5145\n",
      "Epoch 45/400\n",
      "13/13 [==============================] - 0s 5ms/step - loss: 1.1753 - accuracy: 0.4857 - val_loss: 1.1320 - val_accuracy: 0.5167\n",
      "Epoch 46/400\n",
      "13/13 [==============================] - 0s 5ms/step - loss: 1.1631 - accuracy: 0.4885 - val_loss: 1.1300 - val_accuracy: 0.5182\n",
      "Epoch 47/400\n",
      "13/13 [==============================] - 0s 6ms/step - loss: 1.1578 - accuracy: 0.4946 - val_loss: 1.1274 - val_accuracy: 0.5145\n",
      "Epoch 48/400\n",
      "13/13 [==============================] - 0s 5ms/step - loss: 1.1602 - accuracy: 0.4882 - val_loss: 1.1243 - val_accuracy: 0.5145\n",
      "Epoch 49/400\n",
      "13/13 [==============================] - 0s 5ms/step - loss: 1.1583 - accuracy: 0.4981 - val_loss: 1.1233 - val_accuracy: 0.5145\n",
      "Epoch 50/400\n",
      "13/13 [==============================] - 0s 5ms/step - loss: 1.1539 - accuracy: 0.4927 - val_loss: 1.1228 - val_accuracy: 0.5130\n",
      "Epoch 51/400\n",
      "13/13 [==============================] - 0s 5ms/step - loss: 1.1610 - accuracy: 0.4917 - val_loss: 1.1212 - val_accuracy: 0.5174\n",
      "Epoch 52/400\n",
      "13/13 [==============================] - 0s 6ms/step - loss: 1.1531 - accuracy: 0.4939 - val_loss: 1.1196 - val_accuracy: 0.5145\n",
      "Epoch 53/400\n",
      "13/13 [==============================] - 0s 6ms/step - loss: 1.1542 - accuracy: 0.4885 - val_loss: 1.1184 - val_accuracy: 0.5152\n",
      "Epoch 54/400\n",
      "13/13 [==============================] - 0s 6ms/step - loss: 1.1492 - accuracy: 0.5029 - val_loss: 1.1162 - val_accuracy: 0.5152\n",
      "Epoch 55/400\n",
      "13/13 [==============================] - 0s 5ms/step - loss: 1.1470 - accuracy: 0.5000 - val_loss: 1.1153 - val_accuracy: 0.5167\n",
      "Epoch 56/400\n",
      "13/13 [==============================] - 0s 6ms/step - loss: 1.1538 - accuracy: 0.4917 - val_loss: 1.1142 - val_accuracy: 0.5189\n",
      "Epoch 57/400\n",
      "13/13 [==============================] - 0s 6ms/step - loss: 1.1490 - accuracy: 0.4987 - val_loss: 1.1127 - val_accuracy: 0.5152\n",
      "Epoch 58/400\n",
      "13/13 [==============================] - 0s 7ms/step - loss: 1.1517 - accuracy: 0.4968 - val_loss: 1.1126 - val_accuracy: 0.5137\n",
      "Epoch 59/400\n",
      "13/13 [==============================] - 0s 6ms/step - loss: 1.1517 - accuracy: 0.4920 - val_loss: 1.1114 - val_accuracy: 0.5167\n",
      "Epoch 60/400\n",
      "13/13 [==============================] - 0s 7ms/step - loss: 1.1466 - accuracy: 0.5006 - val_loss: 1.1105 - val_accuracy: 0.5204\n",
      "Epoch 61/400\n",
      "13/13 [==============================] - 0s 8ms/step - loss: 1.1380 - accuracy: 0.4952 - val_loss: 1.1097 - val_accuracy: 0.5145\n",
      "Epoch 62/400\n",
      "13/13 [==============================] - 0s 8ms/step - loss: 1.1403 - accuracy: 0.4920 - val_loss: 1.1083 - val_accuracy: 0.5182\n",
      "Epoch 63/400\n",
      "13/13 [==============================] - 0s 8ms/step - loss: 1.1409 - accuracy: 0.5111 - val_loss: 1.1072 - val_accuracy: 0.5226\n",
      "Epoch 64/400\n",
      "13/13 [==============================] - 0s 8ms/step - loss: 1.1418 - accuracy: 0.4933 - val_loss: 1.1066 - val_accuracy: 0.5145\n",
      "Epoch 65/400\n",
      "13/13 [==============================] - 0s 7ms/step - loss: 1.1303 - accuracy: 0.5067 - val_loss: 1.1063 - val_accuracy: 0.5226\n",
      "Epoch 66/400\n",
      "13/13 [==============================] - 0s 5ms/step - loss: 1.1345 - accuracy: 0.5150 - val_loss: 1.1046 - val_accuracy: 0.5093\n",
      "Epoch 67/400\n",
      "13/13 [==============================] - 0s 5ms/step - loss: 1.1372 - accuracy: 0.5003 - val_loss: 1.1039 - val_accuracy: 0.5137\n",
      "Epoch 68/400\n",
      "13/13 [==============================] - 0s 5ms/step - loss: 1.1404 - accuracy: 0.5067 - val_loss: 1.1027 - val_accuracy: 0.5115\n",
      "Epoch 69/400\n",
      "13/13 [==============================] - 0s 5ms/step - loss: 1.1404 - accuracy: 0.4965 - val_loss: 1.1024 - val_accuracy: 0.5197\n",
      "Epoch 70/400\n",
      "13/13 [==============================] - 0s 5ms/step - loss: 1.1458 - accuracy: 0.4936 - val_loss: 1.1017 - val_accuracy: 0.5122\n",
      "Epoch 71/400\n",
      "13/13 [==============================] - 0s 5ms/step - loss: 1.1383 - accuracy: 0.5083 - val_loss: 1.1012 - val_accuracy: 0.5219\n",
      "Epoch 72/400\n",
      "13/13 [==============================] - 0s 5ms/step - loss: 1.1302 - accuracy: 0.5029 - val_loss: 1.1005 - val_accuracy: 0.5182\n",
      "Epoch 73/400\n",
      "13/13 [==============================] - 0s 5ms/step - loss: 1.1306 - accuracy: 0.5108 - val_loss: 1.0997 - val_accuracy: 0.5182\n",
      "Epoch 74/400\n",
      "13/13 [==============================] - 0s 5ms/step - loss: 1.1272 - accuracy: 0.5083 - val_loss: 1.0987 - val_accuracy: 0.5130\n",
      "Epoch 75/400\n",
      "13/13 [==============================] - 0s 5ms/step - loss: 1.1401 - accuracy: 0.5080 - val_loss: 1.0984 - val_accuracy: 0.5189\n",
      "Epoch 76/400\n",
      "13/13 [==============================] - 0s 5ms/step - loss: 1.1249 - accuracy: 0.5035 - val_loss: 1.0981 - val_accuracy: 0.5145\n",
      "Epoch 77/400\n",
      "13/13 [==============================] - 0s 5ms/step - loss: 1.1274 - accuracy: 0.5054 - val_loss: 1.0969 - val_accuracy: 0.5167\n",
      "Epoch 78/400\n",
      "13/13 [==============================] - 0s 5ms/step - loss: 1.1207 - accuracy: 0.5143 - val_loss: 1.0957 - val_accuracy: 0.5174\n",
      "Epoch 79/400\n",
      "13/13 [==============================] - 0s 5ms/step - loss: 1.1320 - accuracy: 0.5013 - val_loss: 1.0951 - val_accuracy: 0.5167\n",
      "Epoch 80/400\n",
      "13/13 [==============================] - 0s 5ms/step - loss: 1.1296 - accuracy: 0.5134 - val_loss: 1.0952 - val_accuracy: 0.5145\n",
      "Epoch 81/400\n",
      "13/13 [==============================] - 0s 5ms/step - loss: 1.1294 - accuracy: 0.5022 - val_loss: 1.0943 - val_accuracy: 0.5174\n",
      "Epoch 82/400\n",
      "13/13 [==============================] - 0s 5ms/step - loss: 1.1277 - accuracy: 0.5067 - val_loss: 1.0934 - val_accuracy: 0.5137\n",
      "Epoch 83/400\n",
      "13/13 [==============================] - 0s 5ms/step - loss: 1.1345 - accuracy: 0.4978 - val_loss: 1.0942 - val_accuracy: 0.5160\n",
      "Epoch 84/400\n",
      "13/13 [==============================] - 0s 5ms/step - loss: 1.1326 - accuracy: 0.5067 - val_loss: 1.0940 - val_accuracy: 0.5152\n",
      "Epoch 85/400\n",
      "13/13 [==============================] - 0s 6ms/step - loss: 1.1185 - accuracy: 0.5178 - val_loss: 1.0927 - val_accuracy: 0.5152\n",
      "Epoch 86/400\n",
      "13/13 [==============================] - 0s 5ms/step - loss: 1.1255 - accuracy: 0.5153 - val_loss: 1.0921 - val_accuracy: 0.5189\n",
      "Epoch 87/400\n",
      "13/13 [==============================] - 0s 5ms/step - loss: 1.1264 - accuracy: 0.5080 - val_loss: 1.0921 - val_accuracy: 0.5152\n",
      "Epoch 88/400\n",
      "13/13 [==============================] - 0s 5ms/step - loss: 1.1212 - accuracy: 0.5080 - val_loss: 1.0913 - val_accuracy: 0.5197\n",
      "Epoch 89/400\n",
      "13/13 [==============================] - 0s 5ms/step - loss: 1.1223 - accuracy: 0.5045 - val_loss: 1.0915 - val_accuracy: 0.5182\n",
      "Epoch 90/400\n",
      "13/13 [==============================] - 0s 6ms/step - loss: 1.1280 - accuracy: 0.5045 - val_loss: 1.0905 - val_accuracy: 0.5197\n",
      "Epoch 91/400\n",
      "13/13 [==============================] - 0s 5ms/step - loss: 1.1221 - accuracy: 0.5076 - val_loss: 1.0898 - val_accuracy: 0.5174\n",
      "Epoch 92/400\n",
      "13/13 [==============================] - 0s 5ms/step - loss: 1.1186 - accuracy: 0.5054 - val_loss: 1.0893 - val_accuracy: 0.5204\n",
      "Epoch 93/400\n",
      "13/13 [==============================] - 0s 5ms/step - loss: 1.1191 - accuracy: 0.5175 - val_loss: 1.0889 - val_accuracy: 0.5174\n",
      "Epoch 94/400\n",
      "13/13 [==============================] - 0s 5ms/step - loss: 1.1194 - accuracy: 0.5092 - val_loss: 1.0885 - val_accuracy: 0.5212\n",
      "Epoch 95/400\n",
      "13/13 [==============================] - 0s 5ms/step - loss: 1.1243 - accuracy: 0.4981 - val_loss: 1.0878 - val_accuracy: 0.5160\n",
      "Epoch 96/400\n",
      "13/13 [==============================] - 0s 5ms/step - loss: 1.1175 - accuracy: 0.5115 - val_loss: 1.0876 - val_accuracy: 0.5152\n",
      "Epoch 97/400\n",
      "13/13 [==============================] - 0s 5ms/step - loss: 1.1213 - accuracy: 0.5089 - val_loss: 1.0874 - val_accuracy: 0.5152\n",
      "Epoch 98/400\n",
      "13/13 [==============================] - 0s 5ms/step - loss: 1.1168 - accuracy: 0.5096 - val_loss: 1.0877 - val_accuracy: 0.5160\n",
      "Epoch 99/400\n",
      "13/13 [==============================] - 0s 5ms/step - loss: 1.1166 - accuracy: 0.5064 - val_loss: 1.0861 - val_accuracy: 0.5182\n",
      "Epoch 100/400\n",
      "13/13 [==============================] - 0s 5ms/step - loss: 1.1215 - accuracy: 0.5080 - val_loss: 1.0863 - val_accuracy: 0.5160\n",
      "Epoch 101/400\n",
      "13/13 [==============================] - 0s 5ms/step - loss: 1.1218 - accuracy: 0.5108 - val_loss: 1.0853 - val_accuracy: 0.5182\n",
      "Epoch 102/400\n",
      "13/13 [==============================] - 0s 5ms/step - loss: 1.1182 - accuracy: 0.5041 - val_loss: 1.0853 - val_accuracy: 0.5167\n",
      "Epoch 103/400\n",
      "13/13 [==============================] - 0s 5ms/step - loss: 1.1134 - accuracy: 0.5111 - val_loss: 1.0853 - val_accuracy: 0.5145\n",
      "Epoch 104/400\n",
      "13/13 [==============================] - 0s 5ms/step - loss: 1.1140 - accuracy: 0.5083 - val_loss: 1.0840 - val_accuracy: 0.5145\n",
      "Epoch 105/400\n",
      "13/13 [==============================] - 0s 5ms/step - loss: 1.1174 - accuracy: 0.5080 - val_loss: 1.0833 - val_accuracy: 0.5174\n",
      "Epoch 106/400\n",
      "13/13 [==============================] - 0s 5ms/step - loss: 1.1225 - accuracy: 0.5019 - val_loss: 1.0839 - val_accuracy: 0.5174\n",
      "Epoch 107/400\n",
      "13/13 [==============================] - 0s 5ms/step - loss: 1.1150 - accuracy: 0.5150 - val_loss: 1.0834 - val_accuracy: 0.5130\n",
      "Epoch 108/400\n",
      "13/13 [==============================] - 0s 5ms/step - loss: 1.1157 - accuracy: 0.5134 - val_loss: 1.0822 - val_accuracy: 0.5152\n",
      "Epoch 109/400\n",
      "13/13 [==============================] - 0s 5ms/step - loss: 1.1108 - accuracy: 0.5099 - val_loss: 1.0822 - val_accuracy: 0.5152\n",
      "Epoch 110/400\n",
      "13/13 [==============================] - 0s 5ms/step - loss: 1.1206 - accuracy: 0.5137 - val_loss: 1.0822 - val_accuracy: 0.5167\n",
      "Epoch 111/400\n",
      "13/13 [==============================] - 0s 5ms/step - loss: 1.1103 - accuracy: 0.5140 - val_loss: 1.0820 - val_accuracy: 0.5130\n",
      "Epoch 112/400\n",
      "13/13 [==============================] - 0s 5ms/step - loss: 1.1076 - accuracy: 0.5137 - val_loss: 1.0812 - val_accuracy: 0.5174\n",
      "Epoch 113/400\n",
      "13/13 [==============================] - 0s 5ms/step - loss: 1.1121 - accuracy: 0.5127 - val_loss: 1.0810 - val_accuracy: 0.5145\n",
      "Epoch 114/400\n",
      "13/13 [==============================] - 0s 6ms/step - loss: 1.1124 - accuracy: 0.5111 - val_loss: 1.0801 - val_accuracy: 0.5189\n",
      "Epoch 115/400\n",
      "13/13 [==============================] - 0s 5ms/step - loss: 1.1180 - accuracy: 0.5124 - val_loss: 1.0801 - val_accuracy: 0.5197\n",
      "Epoch 116/400\n",
      "13/13 [==============================] - 0s 5ms/step - loss: 1.1118 - accuracy: 0.5162 - val_loss: 1.0803 - val_accuracy: 0.5189\n",
      "Epoch 117/400\n",
      "13/13 [==============================] - 0s 5ms/step - loss: 1.1080 - accuracy: 0.5178 - val_loss: 1.0797 - val_accuracy: 0.5182\n",
      "Epoch 118/400\n",
      "13/13 [==============================] - 0s 5ms/step - loss: 1.1045 - accuracy: 0.5162 - val_loss: 1.0788 - val_accuracy: 0.5167\n",
      "Epoch 119/400\n",
      "13/13 [==============================] - 0s 5ms/step - loss: 1.1090 - accuracy: 0.5051 - val_loss: 1.0784 - val_accuracy: 0.5152\n",
      "Epoch 120/400\n",
      "13/13 [==============================] - 0s 5ms/step - loss: 1.1184 - accuracy: 0.5099 - val_loss: 1.0787 - val_accuracy: 0.5174\n",
      "Epoch 121/400\n",
      "13/13 [==============================] - 0s 5ms/step - loss: 1.1109 - accuracy: 0.5143 - val_loss: 1.0797 - val_accuracy: 0.5122\n",
      "Epoch 122/400\n",
      "13/13 [==============================] - 0s 5ms/step - loss: 1.1091 - accuracy: 0.5099 - val_loss: 1.0780 - val_accuracy: 0.5174\n",
      "Epoch 123/400\n",
      "13/13 [==============================] - 0s 5ms/step - loss: 1.1034 - accuracy: 0.5207 - val_loss: 1.0775 - val_accuracy: 0.5197\n",
      "Epoch 124/400\n",
      "13/13 [==============================] - 0s 5ms/step - loss: 1.1078 - accuracy: 0.5096 - val_loss: 1.0765 - val_accuracy: 0.5182\n",
      "Epoch 125/400\n",
      "13/13 [==============================] - 0s 5ms/step - loss: 1.1077 - accuracy: 0.5124 - val_loss: 1.0758 - val_accuracy: 0.5189\n",
      "Epoch 126/400\n",
      "13/13 [==============================] - 0s 5ms/step - loss: 1.1116 - accuracy: 0.5038 - val_loss: 1.0765 - val_accuracy: 0.5174\n",
      "Epoch 127/400\n",
      "13/13 [==============================] - 0s 5ms/step - loss: 1.1040 - accuracy: 0.5137 - val_loss: 1.0761 - val_accuracy: 0.5160\n",
      "Epoch 128/400\n",
      "13/13 [==============================] - 0s 5ms/step - loss: 1.1028 - accuracy: 0.5178 - val_loss: 1.0753 - val_accuracy: 0.5189\n",
      "Epoch 129/400\n",
      "13/13 [==============================] - 0s 5ms/step - loss: 1.1127 - accuracy: 0.5134 - val_loss: 1.0766 - val_accuracy: 0.5182\n",
      "Epoch 130/400\n",
      "13/13 [==============================] - 0s 5ms/step - loss: 1.0930 - accuracy: 0.5156 - val_loss: 1.0752 - val_accuracy: 0.5189\n",
      "Epoch 131/400\n",
      "13/13 [==============================] - 0s 8ms/step - loss: 1.1043 - accuracy: 0.5121 - val_loss: 1.0743 - val_accuracy: 0.5167\n",
      "Epoch 132/400\n",
      "13/13 [==============================] - 0s 6ms/step - loss: 1.1027 - accuracy: 0.5108 - val_loss: 1.0733 - val_accuracy: 0.5189\n",
      "Epoch 133/400\n",
      "13/13 [==============================] - 0s 6ms/step - loss: 1.1015 - accuracy: 0.5108 - val_loss: 1.0748 - val_accuracy: 0.5137\n",
      "Epoch 134/400\n",
      "13/13 [==============================] - 0s 5ms/step - loss: 1.0967 - accuracy: 0.5178 - val_loss: 1.0736 - val_accuracy: 0.5204\n",
      "Epoch 135/400\n",
      "13/13 [==============================] - 0s 5ms/step - loss: 1.1076 - accuracy: 0.5159 - val_loss: 1.0731 - val_accuracy: 0.5204\n",
      "Epoch 136/400\n",
      "13/13 [==============================] - 0s 6ms/step - loss: 1.1012 - accuracy: 0.5156 - val_loss: 1.0725 - val_accuracy: 0.5174\n",
      "Epoch 137/400\n",
      "13/13 [==============================] - 0s 5ms/step - loss: 1.1019 - accuracy: 0.5121 - val_loss: 1.0723 - val_accuracy: 0.5160\n",
      "Epoch 138/400\n",
      "13/13 [==============================] - 0s 5ms/step - loss: 1.1041 - accuracy: 0.5108 - val_loss: 1.0720 - val_accuracy: 0.5182\n",
      "Epoch 139/400\n",
      "13/13 [==============================] - 0s 6ms/step - loss: 1.0974 - accuracy: 0.5146 - val_loss: 1.0721 - val_accuracy: 0.5189\n",
      "Epoch 140/400\n",
      "13/13 [==============================] - 0s 6ms/step - loss: 1.1121 - accuracy: 0.5006 - val_loss: 1.0720 - val_accuracy: 0.5167\n",
      "Epoch 141/400\n",
      "13/13 [==============================] - 0s 5ms/step - loss: 1.1050 - accuracy: 0.5108 - val_loss: 1.0716 - val_accuracy: 0.5197\n",
      "Epoch 142/400\n",
      "13/13 [==============================] - 0s 5ms/step - loss: 1.1077 - accuracy: 0.4997 - val_loss: 1.0716 - val_accuracy: 0.5212\n",
      "Epoch 143/400\n",
      "13/13 [==============================] - 0s 5ms/step - loss: 1.0995 - accuracy: 0.5067 - val_loss: 1.0710 - val_accuracy: 0.5182\n",
      "Epoch 144/400\n",
      "13/13 [==============================] - 0s 5ms/step - loss: 1.1042 - accuracy: 0.5061 - val_loss: 1.0717 - val_accuracy: 0.5152\n",
      "Epoch 145/400\n",
      "13/13 [==============================] - 0s 6ms/step - loss: 1.1003 - accuracy: 0.5150 - val_loss: 1.0701 - val_accuracy: 0.5182\n",
      "Epoch 146/400\n",
      "13/13 [==============================] - 0s 5ms/step - loss: 1.0949 - accuracy: 0.5245 - val_loss: 1.0693 - val_accuracy: 0.5189\n",
      "Epoch 147/400\n",
      "13/13 [==============================] - 0s 5ms/step - loss: 1.1010 - accuracy: 0.5070 - val_loss: 1.0695 - val_accuracy: 0.5152\n",
      "Epoch 148/400\n",
      "13/13 [==============================] - 0s 5ms/step - loss: 1.1034 - accuracy: 0.5169 - val_loss: 1.0695 - val_accuracy: 0.5167\n",
      "Epoch 149/400\n",
      "13/13 [==============================] - 0s 5ms/step - loss: 1.1011 - accuracy: 0.5099 - val_loss: 1.0688 - val_accuracy: 0.5160\n",
      "Epoch 150/400\n",
      "13/13 [==============================] - 0s 5ms/step - loss: 1.0908 - accuracy: 0.5182 - val_loss: 1.0686 - val_accuracy: 0.5167\n",
      "Epoch 151/400\n",
      "13/13 [==============================] - 0s 5ms/step - loss: 1.1046 - accuracy: 0.5048 - val_loss: 1.0686 - val_accuracy: 0.5130\n",
      "Epoch 152/400\n",
      "13/13 [==============================] - 0s 5ms/step - loss: 1.1021 - accuracy: 0.5166 - val_loss: 1.0676 - val_accuracy: 0.5152\n",
      "Epoch 153/400\n",
      "13/13 [==============================] - 0s 5ms/step - loss: 1.0968 - accuracy: 0.5115 - val_loss: 1.0675 - val_accuracy: 0.5189\n",
      "Epoch 154/400\n",
      "13/13 [==============================] - 0s 5ms/step - loss: 1.0972 - accuracy: 0.5169 - val_loss: 1.0673 - val_accuracy: 0.5197\n",
      "Epoch 155/400\n",
      "13/13 [==============================] - 0s 5ms/step - loss: 1.0937 - accuracy: 0.5080 - val_loss: 1.0671 - val_accuracy: 0.5189\n",
      "Epoch 156/400\n",
      "13/13 [==============================] - 0s 5ms/step - loss: 1.0975 - accuracy: 0.5045 - val_loss: 1.0671 - val_accuracy: 0.5182\n",
      "Epoch 157/400\n",
      "13/13 [==============================] - 0s 5ms/step - loss: 1.0906 - accuracy: 0.5188 - val_loss: 1.0665 - val_accuracy: 0.5167\n",
      "Epoch 158/400\n",
      "13/13 [==============================] - 0s 5ms/step - loss: 1.0988 - accuracy: 0.5108 - val_loss: 1.0669 - val_accuracy: 0.5174\n",
      "Epoch 159/400\n",
      "13/13 [==============================] - 0s 5ms/step - loss: 1.0964 - accuracy: 0.5121 - val_loss: 1.0673 - val_accuracy: 0.5174\n",
      "Epoch 160/400\n",
      "13/13 [==============================] - 0s 6ms/step - loss: 1.1004 - accuracy: 0.5086 - val_loss: 1.0662 - val_accuracy: 0.5189\n",
      "Epoch 161/400\n",
      "13/13 [==============================] - 0s 5ms/step - loss: 1.0967 - accuracy: 0.5064 - val_loss: 1.0658 - val_accuracy: 0.5167\n",
      "Epoch 162/400\n",
      "13/13 [==============================] - 0s 5ms/step - loss: 1.0982 - accuracy: 0.5080 - val_loss: 1.0651 - val_accuracy: 0.5167\n",
      "Epoch 163/400\n",
      "13/13 [==============================] - 0s 5ms/step - loss: 1.0948 - accuracy: 0.5111 - val_loss: 1.0648 - val_accuracy: 0.5167\n",
      "Epoch 164/400\n",
      "13/13 [==============================] - 0s 5ms/step - loss: 1.0968 - accuracy: 0.5162 - val_loss: 1.0648 - val_accuracy: 0.5189\n",
      "Epoch 165/400\n",
      "13/13 [==============================] - 0s 5ms/step - loss: 1.1055 - accuracy: 0.5111 - val_loss: 1.0649 - val_accuracy: 0.5182\n",
      "Epoch 166/400\n",
      "13/13 [==============================] - 0s 5ms/step - loss: 1.0945 - accuracy: 0.5118 - val_loss: 1.0646 - val_accuracy: 0.5167\n",
      "Epoch 167/400\n",
      "13/13 [==============================] - 0s 5ms/step - loss: 1.0944 - accuracy: 0.5146 - val_loss: 1.0644 - val_accuracy: 0.5182\n",
      "Epoch 168/400\n",
      "13/13 [==============================] - 0s 5ms/step - loss: 1.0960 - accuracy: 0.5159 - val_loss: 1.0643 - val_accuracy: 0.5197\n",
      "Epoch 169/400\n",
      "13/13 [==============================] - 0s 5ms/step - loss: 1.0849 - accuracy: 0.5083 - val_loss: 1.0639 - val_accuracy: 0.5189\n",
      "Epoch 170/400\n",
      "13/13 [==============================] - 0s 5ms/step - loss: 1.0975 - accuracy: 0.5162 - val_loss: 1.0636 - val_accuracy: 0.5174\n",
      "Epoch 171/400\n",
      "13/13 [==============================] - 0s 5ms/step - loss: 1.0966 - accuracy: 0.5191 - val_loss: 1.0632 - val_accuracy: 0.5174\n",
      "Epoch 172/400\n",
      "13/13 [==============================] - 0s 5ms/step - loss: 1.0897 - accuracy: 0.5143 - val_loss: 1.0628 - val_accuracy: 0.5174\n",
      "Epoch 173/400\n",
      "13/13 [==============================] - 0s 6ms/step - loss: 1.0882 - accuracy: 0.5182 - val_loss: 1.0627 - val_accuracy: 0.5167\n",
      "Epoch 174/400\n",
      "13/13 [==============================] - 0s 6ms/step - loss: 1.0973 - accuracy: 0.5166 - val_loss: 1.0621 - val_accuracy: 0.5160\n",
      "Epoch 175/400\n",
      "13/13 [==============================] - 0s 6ms/step - loss: 1.0963 - accuracy: 0.5146 - val_loss: 1.0621 - val_accuracy: 0.5174\n",
      "Epoch 176/400\n",
      "13/13 [==============================] - 0s 6ms/step - loss: 1.0917 - accuracy: 0.5197 - val_loss: 1.0620 - val_accuracy: 0.5174\n",
      "Epoch 177/400\n",
      "13/13 [==============================] - 0s 6ms/step - loss: 1.0899 - accuracy: 0.5150 - val_loss: 1.0615 - val_accuracy: 0.5152\n",
      "Epoch 178/400\n",
      "13/13 [==============================] - 0s 5ms/step - loss: 1.0873 - accuracy: 0.5169 - val_loss: 1.0610 - val_accuracy: 0.5137\n",
      "Epoch 179/400\n",
      "13/13 [==============================] - 0s 5ms/step - loss: 1.0867 - accuracy: 0.5213 - val_loss: 1.0599 - val_accuracy: 0.5182\n",
      "Epoch 180/400\n",
      "13/13 [==============================] - 0s 5ms/step - loss: 1.0911 - accuracy: 0.5118 - val_loss: 1.0595 - val_accuracy: 0.5167\n",
      "Epoch 181/400\n",
      "13/13 [==============================] - 0s 6ms/step - loss: 1.0861 - accuracy: 0.5204 - val_loss: 1.0593 - val_accuracy: 0.5182\n",
      "Epoch 182/400\n",
      "13/13 [==============================] - 0s 5ms/step - loss: 1.0893 - accuracy: 0.5232 - val_loss: 1.0587 - val_accuracy: 0.5167\n",
      "Epoch 183/400\n",
      "13/13 [==============================] - 0s 5ms/step - loss: 1.0873 - accuracy: 0.5178 - val_loss: 1.0591 - val_accuracy: 0.5174\n",
      "Epoch 184/400\n",
      "13/13 [==============================] - 0s 5ms/step - loss: 1.0830 - accuracy: 0.5220 - val_loss: 1.0581 - val_accuracy: 0.5204\n",
      "Epoch 185/400\n",
      "13/13 [==============================] - 0s 5ms/step - loss: 1.0901 - accuracy: 0.5229 - val_loss: 1.0579 - val_accuracy: 0.5219\n",
      "Epoch 186/400\n",
      "13/13 [==============================] - 0s 6ms/step - loss: 1.0910 - accuracy: 0.5159 - val_loss: 1.0579 - val_accuracy: 0.5256\n",
      "Epoch 187/400\n",
      "13/13 [==============================] - 0s 5ms/step - loss: 1.0894 - accuracy: 0.5217 - val_loss: 1.0586 - val_accuracy: 0.5219\n",
      "Epoch 188/400\n",
      "13/13 [==============================] - 0s 5ms/step - loss: 1.0855 - accuracy: 0.5261 - val_loss: 1.0583 - val_accuracy: 0.5182\n",
      "Epoch 189/400\n",
      "13/13 [==============================] - 0s 5ms/step - loss: 1.0871 - accuracy: 0.5217 - val_loss: 1.0576 - val_accuracy: 0.5204\n",
      "Epoch 190/400\n",
      "13/13 [==============================] - 0s 5ms/step - loss: 1.0779 - accuracy: 0.5287 - val_loss: 1.0559 - val_accuracy: 0.5241\n",
      "Epoch 191/400\n",
      "13/13 [==============================] - 0s 5ms/step - loss: 1.0860 - accuracy: 0.5185 - val_loss: 1.0556 - val_accuracy: 0.5219\n",
      "Epoch 192/400\n",
      "13/13 [==============================] - 0s 5ms/step - loss: 1.0879 - accuracy: 0.5258 - val_loss: 1.0567 - val_accuracy: 0.5189\n",
      "Epoch 193/400\n",
      "13/13 [==============================] - 0s 5ms/step - loss: 1.0781 - accuracy: 0.5283 - val_loss: 1.0555 - val_accuracy: 0.5204\n",
      "Epoch 194/400\n",
      "13/13 [==============================] - 0s 5ms/step - loss: 1.0760 - accuracy: 0.5404 - val_loss: 1.0538 - val_accuracy: 0.5219\n",
      "Epoch 195/400\n",
      "13/13 [==============================] - 0s 5ms/step - loss: 1.0727 - accuracy: 0.5287 - val_loss: 1.0534 - val_accuracy: 0.5226\n",
      "Epoch 196/400\n",
      "13/13 [==============================] - 0s 5ms/step - loss: 1.0806 - accuracy: 0.5315 - val_loss: 1.0530 - val_accuracy: 0.5226\n",
      "Epoch 197/400\n",
      "13/13 [==============================] - 0s 5ms/step - loss: 1.0753 - accuracy: 0.5287 - val_loss: 1.0522 - val_accuracy: 0.5234\n",
      "Epoch 198/400\n",
      "13/13 [==============================] - 0s 5ms/step - loss: 1.0813 - accuracy: 0.5271 - val_loss: 1.0539 - val_accuracy: 0.5219\n",
      "Epoch 199/400\n",
      "13/13 [==============================] - 0s 5ms/step - loss: 1.0746 - accuracy: 0.5315 - val_loss: 1.0526 - val_accuracy: 0.5226\n",
      "Epoch 200/400\n",
      "13/13 [==============================] - 0s 5ms/step - loss: 1.0756 - accuracy: 0.5287 - val_loss: 1.0513 - val_accuracy: 0.5249\n",
      "Epoch 201/400\n",
      "13/13 [==============================] - 0s 5ms/step - loss: 1.0766 - accuracy: 0.5354 - val_loss: 1.0511 - val_accuracy: 0.5249\n",
      "Epoch 202/400\n",
      "13/13 [==============================] - 0s 5ms/step - loss: 1.0811 - accuracy: 0.5287 - val_loss: 1.0511 - val_accuracy: 0.5264\n",
      "Epoch 203/400\n",
      "13/13 [==============================] - 0s 5ms/step - loss: 1.0780 - accuracy: 0.5264 - val_loss: 1.0512 - val_accuracy: 0.5241\n",
      "Epoch 204/400\n",
      "13/13 [==============================] - 0s 5ms/step - loss: 1.0809 - accuracy: 0.5280 - val_loss: 1.0515 - val_accuracy: 0.5241\n",
      "Epoch 205/400\n",
      "13/13 [==============================] - 0s 5ms/step - loss: 1.0828 - accuracy: 0.5255 - val_loss: 1.0515 - val_accuracy: 0.5249\n",
      "Epoch 206/400\n",
      "13/13 [==============================] - 0s 5ms/step - loss: 1.0736 - accuracy: 0.5376 - val_loss: 1.0511 - val_accuracy: 0.5271\n",
      "Epoch 207/400\n",
      "13/13 [==============================] - 0s 5ms/step - loss: 1.0742 - accuracy: 0.5341 - val_loss: 1.0501 - val_accuracy: 0.5278\n",
      "Epoch 208/400\n",
      "13/13 [==============================] - 0s 5ms/step - loss: 1.0705 - accuracy: 0.5223 - val_loss: 1.0500 - val_accuracy: 0.5278\n",
      "Epoch 209/400\n",
      "13/13 [==============================] - 0s 5ms/step - loss: 1.0746 - accuracy: 0.5347 - val_loss: 1.0496 - val_accuracy: 0.5271\n",
      "Epoch 210/400\n",
      "13/13 [==============================] - 0s 5ms/step - loss: 1.0743 - accuracy: 0.5328 - val_loss: 1.0486 - val_accuracy: 0.5249\n",
      "Epoch 211/400\n",
      "13/13 [==============================] - 0s 5ms/step - loss: 1.0731 - accuracy: 0.5357 - val_loss: 1.0486 - val_accuracy: 0.5241\n",
      "Epoch 212/400\n",
      "13/13 [==============================] - 0s 6ms/step - loss: 1.0634 - accuracy: 0.5468 - val_loss: 1.0480 - val_accuracy: 0.5234\n",
      "Epoch 213/400\n",
      "13/13 [==============================] - 0s 5ms/step - loss: 1.0737 - accuracy: 0.5258 - val_loss: 1.0478 - val_accuracy: 0.5219\n",
      "Epoch 214/400\n",
      "13/13 [==============================] - 0s 5ms/step - loss: 1.0735 - accuracy: 0.5296 - val_loss: 1.0480 - val_accuracy: 0.5249\n",
      "Epoch 215/400\n",
      "13/13 [==============================] - 0s 5ms/step - loss: 1.0725 - accuracy: 0.5299 - val_loss: 1.0473 - val_accuracy: 0.5249\n",
      "Epoch 216/400\n",
      "13/13 [==============================] - 0s 5ms/step - loss: 1.0708 - accuracy: 0.5363 - val_loss: 1.0475 - val_accuracy: 0.5301\n",
      "Epoch 217/400\n",
      "13/13 [==============================] - 0s 5ms/step - loss: 1.0645 - accuracy: 0.5389 - val_loss: 1.0475 - val_accuracy: 0.5264\n",
      "Epoch 218/400\n",
      "13/13 [==============================] - 0s 5ms/step - loss: 1.0735 - accuracy: 0.5318 - val_loss: 1.0470 - val_accuracy: 0.5301\n",
      "Epoch 219/400\n",
      "13/13 [==============================] - 0s 5ms/step - loss: 1.0623 - accuracy: 0.5404 - val_loss: 1.0461 - val_accuracy: 0.5293\n",
      "Epoch 220/400\n",
      "13/13 [==============================] - 0s 5ms/step - loss: 1.0710 - accuracy: 0.5395 - val_loss: 1.0461 - val_accuracy: 0.5264\n",
      "Epoch 221/400\n",
      "13/13 [==============================] - 0s 5ms/step - loss: 1.0676 - accuracy: 0.5338 - val_loss: 1.0462 - val_accuracy: 0.5249\n",
      "Epoch 222/400\n",
      "13/13 [==============================] - 0s 6ms/step - loss: 1.0645 - accuracy: 0.5325 - val_loss: 1.0460 - val_accuracy: 0.5234\n",
      "Epoch 223/400\n",
      "13/13 [==============================] - 0s 5ms/step - loss: 1.0575 - accuracy: 0.5436 - val_loss: 1.0457 - val_accuracy: 0.5249\n",
      "Epoch 224/400\n",
      "13/13 [==============================] - 0s 5ms/step - loss: 1.0665 - accuracy: 0.5385 - val_loss: 1.0448 - val_accuracy: 0.5316\n",
      "Epoch 225/400\n",
      "13/13 [==============================] - 0s 5ms/step - loss: 1.0680 - accuracy: 0.5309 - val_loss: 1.0465 - val_accuracy: 0.5226\n",
      "Epoch 226/400\n",
      "13/13 [==============================] - 0s 5ms/step - loss: 1.0665 - accuracy: 0.5328 - val_loss: 1.0450 - val_accuracy: 0.5330\n",
      "Epoch 227/400\n",
      "13/13 [==============================] - 0s 5ms/step - loss: 1.0623 - accuracy: 0.5306 - val_loss: 1.0441 - val_accuracy: 0.5323\n",
      "Epoch 228/400\n",
      "13/13 [==============================] - 0s 5ms/step - loss: 1.0592 - accuracy: 0.5545 - val_loss: 1.0441 - val_accuracy: 0.5301\n",
      "Epoch 229/400\n",
      "13/13 [==============================] - 0s 5ms/step - loss: 1.0669 - accuracy: 0.5427 - val_loss: 1.0438 - val_accuracy: 0.5330\n",
      "Epoch 230/400\n",
      "13/13 [==============================] - 0s 5ms/step - loss: 1.0656 - accuracy: 0.5354 - val_loss: 1.0449 - val_accuracy: 0.5256\n",
      "Epoch 231/400\n",
      "13/13 [==============================] - 0s 5ms/step - loss: 1.0610 - accuracy: 0.5414 - val_loss: 1.0452 - val_accuracy: 0.5278\n",
      "Epoch 232/400\n",
      "13/13 [==============================] - 0s 5ms/step - loss: 1.0647 - accuracy: 0.5258 - val_loss: 1.0432 - val_accuracy: 0.5316\n",
      "Epoch 233/400\n",
      "13/13 [==============================] - 0s 5ms/step - loss: 1.0591 - accuracy: 0.5389 - val_loss: 1.0428 - val_accuracy: 0.5330\n",
      "Epoch 234/400\n",
      "13/13 [==============================] - 0s 5ms/step - loss: 1.0681 - accuracy: 0.5392 - val_loss: 1.0428 - val_accuracy: 0.5338\n",
      "Epoch 235/400\n",
      "13/13 [==============================] - 0s 5ms/step - loss: 1.0624 - accuracy: 0.5354 - val_loss: 1.0430 - val_accuracy: 0.5323\n",
      "Epoch 236/400\n",
      "13/13 [==============================] - 0s 5ms/step - loss: 1.0581 - accuracy: 0.5462 - val_loss: 1.0429 - val_accuracy: 0.5308\n",
      "Epoch 237/400\n",
      "13/13 [==============================] - 0s 5ms/step - loss: 1.0663 - accuracy: 0.5325 - val_loss: 1.0428 - val_accuracy: 0.5323\n",
      "Epoch 238/400\n",
      "13/13 [==============================] - 0s 5ms/step - loss: 1.0586 - accuracy: 0.5382 - val_loss: 1.0422 - val_accuracy: 0.5367\n",
      "Epoch 239/400\n",
      "13/13 [==============================] - 0s 5ms/step - loss: 1.0548 - accuracy: 0.5385 - val_loss: 1.0427 - val_accuracy: 0.5353\n",
      "Epoch 240/400\n",
      "13/13 [==============================] - 0s 5ms/step - loss: 1.0545 - accuracy: 0.5404 - val_loss: 1.0416 - val_accuracy: 0.5316\n",
      "Epoch 241/400\n",
      "13/13 [==============================] - 0s 5ms/step - loss: 1.0565 - accuracy: 0.5443 - val_loss: 1.0421 - val_accuracy: 0.5360\n",
      "Epoch 242/400\n",
      "13/13 [==============================] - 0s 5ms/step - loss: 1.0581 - accuracy: 0.5468 - val_loss: 1.0417 - val_accuracy: 0.5330\n",
      "Epoch 243/400\n",
      "13/13 [==============================] - 0s 5ms/step - loss: 1.0519 - accuracy: 0.5484 - val_loss: 1.0416 - val_accuracy: 0.5345\n",
      "Epoch 244/400\n",
      "13/13 [==============================] - 0s 5ms/step - loss: 1.0536 - accuracy: 0.5417 - val_loss: 1.0415 - val_accuracy: 0.5330\n",
      "Epoch 245/400\n",
      "13/13 [==============================] - 0s 5ms/step - loss: 1.0592 - accuracy: 0.5404 - val_loss: 1.0403 - val_accuracy: 0.5330\n",
      "Epoch 246/400\n",
      "13/13 [==============================] - 0s 5ms/step - loss: 1.0554 - accuracy: 0.5350 - val_loss: 1.0407 - val_accuracy: 0.5345\n",
      "Epoch 247/400\n",
      "13/13 [==============================] - 0s 5ms/step - loss: 1.0552 - accuracy: 0.5379 - val_loss: 1.0406 - val_accuracy: 0.5316\n",
      "Epoch 248/400\n",
      "13/13 [==============================] - 0s 6ms/step - loss: 1.0497 - accuracy: 0.5516 - val_loss: 1.0404 - val_accuracy: 0.5293\n",
      "Epoch 249/400\n",
      "13/13 [==============================] - 0s 5ms/step - loss: 1.0621 - accuracy: 0.5379 - val_loss: 1.0405 - val_accuracy: 0.5330\n",
      "Epoch 250/400\n",
      "13/13 [==============================] - 0s 5ms/step - loss: 1.0569 - accuracy: 0.5408 - val_loss: 1.0404 - val_accuracy: 0.5308\n",
      "Epoch 251/400\n",
      "13/13 [==============================] - 0s 5ms/step - loss: 1.0599 - accuracy: 0.5392 - val_loss: 1.0393 - val_accuracy: 0.5338\n",
      "Epoch 252/400\n",
      "13/13 [==============================] - 0s 5ms/step - loss: 1.0562 - accuracy: 0.5497 - val_loss: 1.0404 - val_accuracy: 0.5323\n",
      "Epoch 253/400\n",
      "13/13 [==============================] - 0s 5ms/step - loss: 1.0548 - accuracy: 0.5347 - val_loss: 1.0400 - val_accuracy: 0.5360\n",
      "Epoch 254/400\n",
      "13/13 [==============================] - 0s 5ms/step - loss: 1.0511 - accuracy: 0.5376 - val_loss: 1.0391 - val_accuracy: 0.5345\n",
      "Epoch 255/400\n",
      "13/13 [==============================] - 0s 5ms/step - loss: 1.0469 - accuracy: 0.5401 - val_loss: 1.0407 - val_accuracy: 0.5338\n",
      "Epoch 256/400\n",
      "13/13 [==============================] - 0s 6ms/step - loss: 1.0507 - accuracy: 0.5554 - val_loss: 1.0396 - val_accuracy: 0.5345\n",
      "Epoch 257/400\n",
      "13/13 [==============================] - 0s 5ms/step - loss: 1.0527 - accuracy: 0.5436 - val_loss: 1.0400 - val_accuracy: 0.5360\n",
      "Epoch 258/400\n",
      "13/13 [==============================] - 0s 5ms/step - loss: 1.0524 - accuracy: 0.5424 - val_loss: 1.0390 - val_accuracy: 0.5330\n",
      "Epoch 259/400\n",
      "13/13 [==============================] - 0s 5ms/step - loss: 1.0520 - accuracy: 0.5401 - val_loss: 1.0382 - val_accuracy: 0.5367\n",
      "Epoch 260/400\n",
      "13/13 [==============================] - 0s 5ms/step - loss: 1.0469 - accuracy: 0.5449 - val_loss: 1.0385 - val_accuracy: 0.5375\n",
      "Epoch 261/400\n",
      "13/13 [==============================] - 0s 5ms/step - loss: 1.0527 - accuracy: 0.5487 - val_loss: 1.0385 - val_accuracy: 0.5360\n",
      "Epoch 262/400\n",
      "13/13 [==============================] - 0s 5ms/step - loss: 1.0559 - accuracy: 0.5490 - val_loss: 1.0390 - val_accuracy: 0.5397\n",
      "Epoch 263/400\n",
      "13/13 [==============================] - 0s 5ms/step - loss: 1.0474 - accuracy: 0.5430 - val_loss: 1.0381 - val_accuracy: 0.5367\n",
      "Epoch 264/400\n",
      "13/13 [==============================] - 0s 5ms/step - loss: 1.0484 - accuracy: 0.5436 - val_loss: 1.0380 - val_accuracy: 0.5397\n",
      "Epoch 265/400\n",
      "13/13 [==============================] - 0s 5ms/step - loss: 1.0540 - accuracy: 0.5408 - val_loss: 1.0386 - val_accuracy: 0.5390\n",
      "Epoch 266/400\n",
      "13/13 [==============================] - 0s 5ms/step - loss: 1.0528 - accuracy: 0.5446 - val_loss: 1.0386 - val_accuracy: 0.5375\n",
      "Epoch 267/400\n",
      "13/13 [==============================] - 0s 5ms/step - loss: 1.0477 - accuracy: 0.5478 - val_loss: 1.0383 - val_accuracy: 0.5367\n",
      "Epoch 268/400\n",
      "13/13 [==============================] - 0s 6ms/step - loss: 1.0473 - accuracy: 0.5478 - val_loss: 1.0385 - val_accuracy: 0.5367\n",
      "Epoch 269/400\n",
      "13/13 [==============================] - 0s 5ms/step - loss: 1.0440 - accuracy: 0.5369 - val_loss: 1.0389 - val_accuracy: 0.5375\n",
      "Epoch 270/400\n",
      "13/13 [==============================] - 0s 5ms/step - loss: 1.0493 - accuracy: 0.5506 - val_loss: 1.0383 - val_accuracy: 0.5375\n",
      "Epoch 271/400\n",
      "13/13 [==============================] - 0s 5ms/step - loss: 1.0432 - accuracy: 0.5468 - val_loss: 1.0369 - val_accuracy: 0.5375\n",
      "Epoch 272/400\n",
      "13/13 [==============================] - 0s 6ms/step - loss: 1.0422 - accuracy: 0.5516 - val_loss: 1.0356 - val_accuracy: 0.5353\n",
      "Epoch 273/400\n",
      "13/13 [==============================] - 0s 5ms/step - loss: 1.0421 - accuracy: 0.5513 - val_loss: 1.0355 - val_accuracy: 0.5375\n",
      "Epoch 274/400\n",
      "13/13 [==============================] - 0s 5ms/step - loss: 1.0488 - accuracy: 0.5475 - val_loss: 1.0361 - val_accuracy: 0.5382\n",
      "Epoch 275/400\n",
      "13/13 [==============================] - 0s 6ms/step - loss: 1.0413 - accuracy: 0.5490 - val_loss: 1.0356 - val_accuracy: 0.5375\n",
      "Epoch 276/400\n",
      "13/13 [==============================] - 0s 6ms/step - loss: 1.0465 - accuracy: 0.5468 - val_loss: 1.0357 - val_accuracy: 0.5345\n",
      "Epoch 277/400\n",
      "13/13 [==============================] - 0s 6ms/step - loss: 1.0439 - accuracy: 0.5420 - val_loss: 1.0351 - val_accuracy: 0.5338\n",
      "Epoch 278/400\n",
      "13/13 [==============================] - 0s 6ms/step - loss: 1.0496 - accuracy: 0.5398 - val_loss: 1.0351 - val_accuracy: 0.5397\n",
      "Epoch 279/400\n",
      "13/13 [==============================] - 0s 5ms/step - loss: 1.0433 - accuracy: 0.5443 - val_loss: 1.0352 - val_accuracy: 0.5382\n",
      "Epoch 280/400\n",
      "13/13 [==============================] - 0s 5ms/step - loss: 1.0479 - accuracy: 0.5411 - val_loss: 1.0350 - val_accuracy: 0.5360\n",
      "Epoch 281/400\n",
      "13/13 [==============================] - 0s 5ms/step - loss: 1.0480 - accuracy: 0.5385 - val_loss: 1.0353 - val_accuracy: 0.5412\n",
      "Epoch 282/400\n",
      "13/13 [==============================] - 0s 5ms/step - loss: 1.0486 - accuracy: 0.5478 - val_loss: 1.0361 - val_accuracy: 0.5390\n",
      "Epoch 283/400\n",
      "13/13 [==============================] - 0s 5ms/step - loss: 1.0392 - accuracy: 0.5503 - val_loss: 1.0349 - val_accuracy: 0.5405\n",
      "Epoch 284/400\n",
      "13/13 [==============================] - 0s 5ms/step - loss: 1.0453 - accuracy: 0.5354 - val_loss: 1.0349 - val_accuracy: 0.5360\n",
      "Epoch 285/400\n",
      "13/13 [==============================] - 0s 6ms/step - loss: 1.0420 - accuracy: 0.5519 - val_loss: 1.0349 - val_accuracy: 0.5412\n",
      "Epoch 286/400\n",
      "13/13 [==============================] - 0s 5ms/step - loss: 1.0444 - accuracy: 0.5439 - val_loss: 1.0351 - val_accuracy: 0.5367\n",
      "Epoch 287/400\n",
      "13/13 [==============================] - 0s 5ms/step - loss: 1.0415 - accuracy: 0.5510 - val_loss: 1.0352 - val_accuracy: 0.5434\n",
      "Epoch 288/400\n",
      "13/13 [==============================] - 0s 6ms/step - loss: 1.0451 - accuracy: 0.5465 - val_loss: 1.0353 - val_accuracy: 0.5390\n",
      "Epoch 289/400\n",
      "13/13 [==============================] - 0s 9ms/step - loss: 1.0409 - accuracy: 0.5427 - val_loss: 1.0347 - val_accuracy: 0.5397\n",
      "Epoch 290/400\n",
      "13/13 [==============================] - 0s 7ms/step - loss: 1.0459 - accuracy: 0.5424 - val_loss: 1.0342 - val_accuracy: 0.5427\n",
      "Epoch 291/400\n",
      "13/13 [==============================] - 0s 7ms/step - loss: 1.0361 - accuracy: 0.5452 - val_loss: 1.0345 - val_accuracy: 0.5405\n",
      "Epoch 292/400\n",
      "13/13 [==============================] - 0s 7ms/step - loss: 1.0350 - accuracy: 0.5551 - val_loss: 1.0344 - val_accuracy: 0.5434\n",
      "Epoch 293/400\n",
      "13/13 [==============================] - 0s 7ms/step - loss: 1.0447 - accuracy: 0.5404 - val_loss: 1.0342 - val_accuracy: 0.5412\n",
      "Epoch 294/400\n",
      "13/13 [==============================] - 0s 6ms/step - loss: 1.0427 - accuracy: 0.5529 - val_loss: 1.0344 - val_accuracy: 0.5419\n",
      "Epoch 295/400\n",
      "13/13 [==============================] - 0s 6ms/step - loss: 1.0421 - accuracy: 0.5554 - val_loss: 1.0345 - val_accuracy: 0.5405\n",
      "Epoch 296/400\n",
      "13/13 [==============================] - 0s 6ms/step - loss: 1.0418 - accuracy: 0.5439 - val_loss: 1.0349 - val_accuracy: 0.5434\n",
      "Epoch 297/400\n",
      "13/13 [==============================] - 0s 6ms/step - loss: 1.0417 - accuracy: 0.5529 - val_loss: 1.0347 - val_accuracy: 0.5464\n",
      "Epoch 298/400\n",
      "13/13 [==============================] - 0s 6ms/step - loss: 1.0442 - accuracy: 0.5411 - val_loss: 1.0345 - val_accuracy: 0.5412\n",
      "Epoch 299/400\n",
      "13/13 [==============================] - 0s 6ms/step - loss: 1.0408 - accuracy: 0.5497 - val_loss: 1.0349 - val_accuracy: 0.5427\n",
      "Epoch 300/400\n",
      "13/13 [==============================] - 0s 6ms/step - loss: 1.0466 - accuracy: 0.5490 - val_loss: 1.0338 - val_accuracy: 0.5479\n",
      "Epoch 301/400\n",
      "13/13 [==============================] - 0s 6ms/step - loss: 1.0441 - accuracy: 0.5411 - val_loss: 1.0345 - val_accuracy: 0.5449\n",
      "Epoch 302/400\n",
      "13/13 [==============================] - 0s 7ms/step - loss: 1.0356 - accuracy: 0.5446 - val_loss: 1.0345 - val_accuracy: 0.5442\n",
      "Epoch 303/400\n",
      "13/13 [==============================] - 0s 6ms/step - loss: 1.0392 - accuracy: 0.5462 - val_loss: 1.0338 - val_accuracy: 0.5419\n",
      "Epoch 304/400\n",
      "13/13 [==============================] - 0s 6ms/step - loss: 1.0445 - accuracy: 0.5408 - val_loss: 1.0343 - val_accuracy: 0.5457\n",
      "Epoch 305/400\n",
      "13/13 [==============================] - 0s 6ms/step - loss: 1.0367 - accuracy: 0.5484 - val_loss: 1.0344 - val_accuracy: 0.5442\n",
      "Epoch 306/400\n",
      "13/13 [==============================] - 0s 6ms/step - loss: 1.0469 - accuracy: 0.5427 - val_loss: 1.0350 - val_accuracy: 0.5397\n",
      "Epoch 307/400\n",
      "13/13 [==============================] - 0s 6ms/step - loss: 1.0422 - accuracy: 0.5494 - val_loss: 1.0354 - val_accuracy: 0.5375\n",
      "Epoch 308/400\n",
      "13/13 [==============================] - 0s 6ms/step - loss: 1.0445 - accuracy: 0.5481 - val_loss: 1.0351 - val_accuracy: 0.5427\n",
      "Epoch 309/400\n",
      "13/13 [==============================] - 0s 6ms/step - loss: 1.0407 - accuracy: 0.5475 - val_loss: 1.0350 - val_accuracy: 0.5471\n",
      "Epoch 310/400\n",
      "13/13 [==============================] - 0s 7ms/step - loss: 1.0372 - accuracy: 0.5529 - val_loss: 1.0335 - val_accuracy: 0.5412\n",
      "Epoch 311/400\n",
      "13/13 [==============================] - 0s 7ms/step - loss: 1.0431 - accuracy: 0.5443 - val_loss: 1.0331 - val_accuracy: 0.5397\n",
      "Epoch 312/400\n",
      "13/13 [==============================] - 0s 7ms/step - loss: 1.0358 - accuracy: 0.5497 - val_loss: 1.0331 - val_accuracy: 0.5471\n",
      "Epoch 313/400\n",
      "13/13 [==============================] - 0s 7ms/step - loss: 1.0409 - accuracy: 0.5446 - val_loss: 1.0336 - val_accuracy: 0.5464\n",
      "Epoch 314/400\n",
      "13/13 [==============================] - 0s 8ms/step - loss: 1.0416 - accuracy: 0.5541 - val_loss: 1.0337 - val_accuracy: 0.5457\n",
      "Epoch 315/400\n",
      "13/13 [==============================] - 0s 8ms/step - loss: 1.0385 - accuracy: 0.5592 - val_loss: 1.0331 - val_accuracy: 0.5457\n",
      "Epoch 316/400\n",
      "13/13 [==============================] - 0s 8ms/step - loss: 1.0381 - accuracy: 0.5494 - val_loss: 1.0331 - val_accuracy: 0.5397\n",
      "Epoch 317/400\n",
      "13/13 [==============================] - 0s 16ms/step - loss: 1.0389 - accuracy: 0.5525 - val_loss: 1.0331 - val_accuracy: 0.5471\n",
      "Epoch 318/400\n",
      "13/13 [==============================] - 0s 16ms/step - loss: 1.0420 - accuracy: 0.5551 - val_loss: 1.0329 - val_accuracy: 0.5412\n",
      "Epoch 319/400\n",
      "13/13 [==============================] - 0s 18ms/step - loss: 1.0411 - accuracy: 0.5401 - val_loss: 1.0332 - val_accuracy: 0.5427\n",
      "Epoch 320/400\n",
      "13/13 [==============================] - 0s 16ms/step - loss: 1.0385 - accuracy: 0.5484 - val_loss: 1.0324 - val_accuracy: 0.5479\n",
      "Epoch 321/400\n",
      "13/13 [==============================] - 0s 12ms/step - loss: 1.0395 - accuracy: 0.5446 - val_loss: 1.0320 - val_accuracy: 0.5427\n",
      "Epoch 322/400\n",
      "13/13 [==============================] - 0s 8ms/step - loss: 1.0378 - accuracy: 0.5522 - val_loss: 1.0323 - val_accuracy: 0.5449\n",
      "Epoch 323/400\n",
      "13/13 [==============================] - 0s 6ms/step - loss: 1.0379 - accuracy: 0.5475 - val_loss: 1.0324 - val_accuracy: 0.5486\n",
      "Epoch 324/400\n",
      "13/13 [==============================] - 0s 6ms/step - loss: 1.0406 - accuracy: 0.5443 - val_loss: 1.0322 - val_accuracy: 0.5471\n",
      "Epoch 325/400\n",
      "13/13 [==============================] - 0s 6ms/step - loss: 1.0459 - accuracy: 0.5430 - val_loss: 1.0323 - val_accuracy: 0.5419\n",
      "Epoch 326/400\n",
      "13/13 [==============================] - 0s 6ms/step - loss: 1.0375 - accuracy: 0.5497 - val_loss: 1.0324 - val_accuracy: 0.5457\n",
      "Epoch 327/400\n",
      "13/13 [==============================] - 0s 6ms/step - loss: 1.0395 - accuracy: 0.5475 - val_loss: 1.0322 - val_accuracy: 0.5449\n",
      "Epoch 328/400\n",
      "13/13 [==============================] - 0s 6ms/step - loss: 1.0436 - accuracy: 0.5513 - val_loss: 1.0325 - val_accuracy: 0.5457\n",
      "Epoch 329/400\n",
      "13/13 [==============================] - 0s 7ms/step - loss: 1.0312 - accuracy: 0.5510 - val_loss: 1.0325 - val_accuracy: 0.5449\n",
      "Epoch 330/400\n",
      "13/13 [==============================] - 0s 7ms/step - loss: 1.0368 - accuracy: 0.5529 - val_loss: 1.0324 - val_accuracy: 0.5464\n",
      "Epoch 331/400\n",
      "13/13 [==============================] - 0s 6ms/step - loss: 1.0373 - accuracy: 0.5398 - val_loss: 1.0329 - val_accuracy: 0.5479\n",
      "Epoch 332/400\n",
      "13/13 [==============================] - 0s 6ms/step - loss: 1.0390 - accuracy: 0.5449 - val_loss: 1.0325 - val_accuracy: 0.5434\n",
      "Epoch 333/400\n",
      "13/13 [==============================] - 0s 7ms/step - loss: 1.0431 - accuracy: 0.5481 - val_loss: 1.0325 - val_accuracy: 0.5471\n",
      "Epoch 334/400\n",
      "13/13 [==============================] - 0s 6ms/step - loss: 1.0342 - accuracy: 0.5561 - val_loss: 1.0318 - val_accuracy: 0.5471\n",
      "Epoch 335/400\n",
      "13/13 [==============================] - 0s 6ms/step - loss: 1.0355 - accuracy: 0.5459 - val_loss: 1.0315 - val_accuracy: 0.5486\n",
      "Epoch 336/400\n",
      "13/13 [==============================] - 0s 6ms/step - loss: 1.0268 - accuracy: 0.5487 - val_loss: 1.0312 - val_accuracy: 0.5509\n",
      "Epoch 337/400\n",
      "13/13 [==============================] - 0s 6ms/step - loss: 1.0348 - accuracy: 0.5538 - val_loss: 1.0312 - val_accuracy: 0.5516\n",
      "Epoch 338/400\n",
      "13/13 [==============================] - 0s 6ms/step - loss: 1.0315 - accuracy: 0.5557 - val_loss: 1.0308 - val_accuracy: 0.5479\n",
      "Epoch 339/400\n",
      "13/13 [==============================] - 0s 6ms/step - loss: 1.0375 - accuracy: 0.5506 - val_loss: 1.0313 - val_accuracy: 0.5494\n",
      "Epoch 340/400\n",
      "13/13 [==============================] - 0s 5ms/step - loss: 1.0317 - accuracy: 0.5532 - val_loss: 1.0316 - val_accuracy: 0.5479\n",
      "Epoch 341/400\n",
      "13/13 [==============================] - 0s 5ms/step - loss: 1.0309 - accuracy: 0.5567 - val_loss: 1.0317 - val_accuracy: 0.5449\n",
      "Epoch 342/400\n",
      "13/13 [==============================] - 0s 5ms/step - loss: 1.0329 - accuracy: 0.5522 - val_loss: 1.0315 - val_accuracy: 0.5523\n",
      "Epoch 343/400\n",
      "13/13 [==============================] - 0s 5ms/step - loss: 1.0348 - accuracy: 0.5506 - val_loss: 1.0312 - val_accuracy: 0.5501\n",
      "Epoch 344/400\n",
      "13/13 [==============================] - 0s 6ms/step - loss: 1.0356 - accuracy: 0.5516 - val_loss: 1.0307 - val_accuracy: 0.5516\n",
      "Epoch 345/400\n",
      "13/13 [==============================] - 0s 6ms/step - loss: 1.0338 - accuracy: 0.5541 - val_loss: 1.0304 - val_accuracy: 0.5501\n",
      "Epoch 346/400\n",
      "13/13 [==============================] - 0s 6ms/step - loss: 1.0299 - accuracy: 0.5551 - val_loss: 1.0308 - val_accuracy: 0.5471\n",
      "Epoch 347/400\n",
      "13/13 [==============================] - 0s 6ms/step - loss: 1.0275 - accuracy: 0.5538 - val_loss: 1.0302 - val_accuracy: 0.5479\n",
      "Epoch 348/400\n",
      "13/13 [==============================] - 0s 6ms/step - loss: 1.0327 - accuracy: 0.5554 - val_loss: 1.0298 - val_accuracy: 0.5486\n",
      "Epoch 349/400\n",
      "13/13 [==============================] - 0s 5ms/step - loss: 1.0382 - accuracy: 0.5465 - val_loss: 1.0299 - val_accuracy: 0.5479\n",
      "Epoch 350/400\n",
      "13/13 [==============================] - 0s 6ms/step - loss: 1.0290 - accuracy: 0.5535 - val_loss: 1.0301 - val_accuracy: 0.5509\n",
      "Epoch 351/400\n",
      "13/13 [==============================] - 0s 6ms/step - loss: 1.0316 - accuracy: 0.5433 - val_loss: 1.0301 - val_accuracy: 0.5501\n",
      "Epoch 352/400\n",
      "13/13 [==============================] - 0s 6ms/step - loss: 1.0328 - accuracy: 0.5570 - val_loss: 1.0301 - val_accuracy: 0.5486\n",
      "Epoch 353/400\n",
      "13/13 [==============================] - 0s 6ms/step - loss: 1.0354 - accuracy: 0.5541 - val_loss: 1.0297 - val_accuracy: 0.5471\n",
      "Epoch 354/400\n",
      "13/13 [==============================] - 0s 6ms/step - loss: 1.0258 - accuracy: 0.5541 - val_loss: 1.0291 - val_accuracy: 0.5494\n",
      "Epoch 355/400\n",
      "13/13 [==============================] - 0s 5ms/step - loss: 1.0354 - accuracy: 0.5430 - val_loss: 1.0291 - val_accuracy: 0.5494\n",
      "Epoch 356/400\n",
      "13/13 [==============================] - 0s 5ms/step - loss: 1.0268 - accuracy: 0.5522 - val_loss: 1.0290 - val_accuracy: 0.5471\n",
      "Epoch 357/400\n",
      "13/13 [==============================] - 0s 5ms/step - loss: 1.0278 - accuracy: 0.5522 - val_loss: 1.0287 - val_accuracy: 0.5457\n",
      "Epoch 358/400\n",
      "13/13 [==============================] - 0s 6ms/step - loss: 1.0273 - accuracy: 0.5557 - val_loss: 1.0291 - val_accuracy: 0.5509\n",
      "Epoch 359/400\n",
      "13/13 [==============================] - 0s 6ms/step - loss: 1.0333 - accuracy: 0.5535 - val_loss: 1.0288 - val_accuracy: 0.5479\n",
      "Epoch 360/400\n",
      "13/13 [==============================] - 0s 6ms/step - loss: 1.0290 - accuracy: 0.5538 - val_loss: 1.0288 - val_accuracy: 0.5442\n",
      "Epoch 361/400\n",
      "13/13 [==============================] - 0s 7ms/step - loss: 1.0339 - accuracy: 0.5538 - val_loss: 1.0289 - val_accuracy: 0.5509\n",
      "Epoch 362/400\n",
      "13/13 [==============================] - 0s 7ms/step - loss: 1.0290 - accuracy: 0.5567 - val_loss: 1.0293 - val_accuracy: 0.5501\n",
      "Epoch 363/400\n",
      "13/13 [==============================] - 0s 5ms/step - loss: 1.0393 - accuracy: 0.5510 - val_loss: 1.0289 - val_accuracy: 0.5501\n",
      "Epoch 364/400\n",
      "13/13 [==============================] - 0s 5ms/step - loss: 1.0328 - accuracy: 0.5487 - val_loss: 1.0293 - val_accuracy: 0.5486\n",
      "Epoch 365/400\n",
      "13/13 [==============================] - 0s 5ms/step - loss: 1.0319 - accuracy: 0.5538 - val_loss: 1.0296 - val_accuracy: 0.5509\n",
      "Epoch 366/400\n",
      "13/13 [==============================] - 0s 5ms/step - loss: 1.0284 - accuracy: 0.5468 - val_loss: 1.0289 - val_accuracy: 0.5516\n",
      "Epoch 367/400\n",
      "13/13 [==============================] - 0s 5ms/step - loss: 1.0311 - accuracy: 0.5455 - val_loss: 1.0285 - val_accuracy: 0.5516\n",
      "Epoch 368/400\n",
      "13/13 [==============================] - 0s 5ms/step - loss: 1.0266 - accuracy: 0.5462 - val_loss: 1.0282 - val_accuracy: 0.5516\n",
      "Epoch 369/400\n",
      "13/13 [==============================] - 0s 5ms/step - loss: 1.0404 - accuracy: 0.5414 - val_loss: 1.0279 - val_accuracy: 0.5501\n",
      "Epoch 370/400\n",
      "13/13 [==============================] - 0s 5ms/step - loss: 1.0330 - accuracy: 0.5538 - val_loss: 1.0284 - val_accuracy: 0.5509\n",
      "Epoch 371/400\n",
      "13/13 [==============================] - 0s 5ms/step - loss: 1.0278 - accuracy: 0.5567 - val_loss: 1.0285 - val_accuracy: 0.5486\n",
      "Epoch 372/400\n",
      "13/13 [==============================] - 0s 5ms/step - loss: 1.0423 - accuracy: 0.5459 - val_loss: 1.0280 - val_accuracy: 0.5471\n",
      "Epoch 373/400\n",
      "13/13 [==============================] - 0s 5ms/step - loss: 1.0327 - accuracy: 0.5484 - val_loss: 1.0281 - val_accuracy: 0.5509\n",
      "Epoch 374/400\n",
      "13/13 [==============================] - 0s 6ms/step - loss: 1.0360 - accuracy: 0.5535 - val_loss: 1.0277 - val_accuracy: 0.5464\n",
      "Epoch 375/400\n",
      "13/13 [==============================] - 0s 6ms/step - loss: 1.0341 - accuracy: 0.5490 - val_loss: 1.0286 - val_accuracy: 0.5523\n",
      "Epoch 376/400\n",
      "13/13 [==============================] - 0s 5ms/step - loss: 1.0343 - accuracy: 0.5433 - val_loss: 1.0282 - val_accuracy: 0.5516\n",
      "Epoch 377/400\n",
      "13/13 [==============================] - 0s 5ms/step - loss: 1.0263 - accuracy: 0.5532 - val_loss: 1.0276 - val_accuracy: 0.5516\n",
      "Epoch 378/400\n",
      "13/13 [==============================] - 0s 5ms/step - loss: 1.0298 - accuracy: 0.5554 - val_loss: 1.0272 - val_accuracy: 0.5546\n",
      "Epoch 379/400\n",
      "13/13 [==============================] - 0s 6ms/step - loss: 1.0292 - accuracy: 0.5471 - val_loss: 1.0274 - val_accuracy: 0.5509\n",
      "Epoch 380/400\n",
      "13/13 [==============================] - 0s 6ms/step - loss: 1.0224 - accuracy: 0.5554 - val_loss: 1.0272 - val_accuracy: 0.5494\n",
      "Epoch 381/400\n",
      "13/13 [==============================] - 0s 6ms/step - loss: 1.0250 - accuracy: 0.5449 - val_loss: 1.0274 - val_accuracy: 0.5523\n",
      "Epoch 382/400\n",
      "13/13 [==============================] - 0s 6ms/step - loss: 1.0294 - accuracy: 0.5455 - val_loss: 1.0271 - val_accuracy: 0.5509\n",
      "Epoch 383/400\n",
      "13/13 [==============================] - 0s 6ms/step - loss: 1.0315 - accuracy: 0.5459 - val_loss: 1.0273 - val_accuracy: 0.5486\n",
      "Epoch 384/400\n",
      "13/13 [==============================] - 0s 6ms/step - loss: 1.0293 - accuracy: 0.5557 - val_loss: 1.0280 - val_accuracy: 0.5523\n",
      "Epoch 385/400\n",
      "13/13 [==============================] - 0s 6ms/step - loss: 1.0335 - accuracy: 0.5513 - val_loss: 1.0274 - val_accuracy: 0.5501\n",
      "Epoch 386/400\n",
      "13/13 [==============================] - 0s 6ms/step - loss: 1.0297 - accuracy: 0.5541 - val_loss: 1.0279 - val_accuracy: 0.5486\n",
      "Epoch 387/400\n",
      "13/13 [==============================] - 0s 5ms/step - loss: 1.0285 - accuracy: 0.5541 - val_loss: 1.0274 - val_accuracy: 0.5516\n",
      "Epoch 388/400\n",
      "13/13 [==============================] - 0s 6ms/step - loss: 1.0355 - accuracy: 0.5497 - val_loss: 1.0276 - val_accuracy: 0.5479\n",
      "Epoch 389/400\n",
      "13/13 [==============================] - 0s 6ms/step - loss: 1.0252 - accuracy: 0.5567 - val_loss: 1.0273 - val_accuracy: 0.5464\n",
      "Epoch 390/400\n",
      "13/13 [==============================] - 0s 6ms/step - loss: 1.0353 - accuracy: 0.5404 - val_loss: 1.0270 - val_accuracy: 0.5479\n",
      "Epoch 391/400\n",
      "13/13 [==============================] - 0s 6ms/step - loss: 1.0266 - accuracy: 0.5452 - val_loss: 1.0276 - val_accuracy: 0.5442\n",
      "Epoch 392/400\n",
      "13/13 [==============================] - 0s 6ms/step - loss: 1.0249 - accuracy: 0.5465 - val_loss: 1.0274 - val_accuracy: 0.5523\n",
      "Epoch 393/400\n",
      "13/13 [==============================] - 0s 6ms/step - loss: 1.0341 - accuracy: 0.5522 - val_loss: 1.0272 - val_accuracy: 0.5546\n",
      "Epoch 394/400\n",
      "13/13 [==============================] - 0s 6ms/step - loss: 1.0281 - accuracy: 0.5465 - val_loss: 1.0266 - val_accuracy: 0.5501\n",
      "Epoch 395/400\n",
      "13/13 [==============================] - 0s 7ms/step - loss: 1.0301 - accuracy: 0.5452 - val_loss: 1.0266 - val_accuracy: 0.5538\n",
      "Epoch 396/400\n",
      "13/13 [==============================] - 0s 6ms/step - loss: 1.0319 - accuracy: 0.5497 - val_loss: 1.0270 - val_accuracy: 0.5479\n",
      "Epoch 397/400\n",
      "13/13 [==============================] - 0s 6ms/step - loss: 1.0270 - accuracy: 0.5525 - val_loss: 1.0267 - val_accuracy: 0.5494\n",
      "Epoch 398/400\n",
      "13/13 [==============================] - 0s 5ms/step - loss: 1.0335 - accuracy: 0.5475 - val_loss: 1.0269 - val_accuracy: 0.5509\n",
      "Epoch 399/400\n",
      "13/13 [==============================] - 0s 6ms/step - loss: 1.0278 - accuracy: 0.5525 - val_loss: 1.0272 - val_accuracy: 0.5449\n",
      "Epoch 400/400\n",
      "13/13 [==============================] - 0s 6ms/step - loss: 1.0296 - accuracy: 0.5561 - val_loss: 1.0267 - val_accuracy: 0.5479\n"
     ]
    },
    {
     "data": {
      "text/plain": [
       "<keras.callbacks.History at 0x7fe8cc367810>"
      ]
     },
     "execution_count": 50,
     "metadata": {},
     "output_type": "execute_result"
    }
   ],
   "source": [
    "model.fit(x=X_train, \n",
    "          y=y_train,\n",
    "          epochs=400,\n",
    "          validation_data=(X_test, y_test),\n",
    "          batch_size = 256,\n",
    "          callbacks=[early_stop]\n",
    "          )"
   ]
  },
  {
   "cell_type": "code",
   "execution_count": 51,
   "id": "d080b0b9",
   "metadata": {
    "execution": {
     "iopub.execute_input": "2022-06-16T20:44:26.455543Z",
     "iopub.status.busy": "2022-06-16T20:44:26.453964Z",
     "iopub.status.idle": "2022-06-16T20:44:26.460744Z",
     "shell.execute_reply": "2022-06-16T20:44:26.460074Z"
    },
    "papermill": {
     "duration": 0.105685,
     "end_time": "2022-06-16T20:44:26.462886",
     "exception": false,
     "start_time": "2022-06-16T20:44:26.357201",
     "status": "completed"
    },
    "tags": []
   },
   "outputs": [],
   "source": [
    "model_loss_do = pd.DataFrame(model.history.history)"
   ]
  },
  {
   "cell_type": "code",
   "execution_count": 52,
   "id": "e72f2435",
   "metadata": {
    "execution": {
     "iopub.execute_input": "2022-06-16T20:44:26.652288Z",
     "iopub.status.busy": "2022-06-16T20:44:26.650518Z",
     "iopub.status.idle": "2022-06-16T20:44:26.929142Z",
     "shell.execute_reply": "2022-06-16T20:44:26.927977Z"
    },
    "papermill": {
     "duration": 0.375662,
     "end_time": "2022-06-16T20:44:26.931535",
     "exception": false,
     "start_time": "2022-06-16T20:44:26.555873",
     "status": "completed"
    },
    "tags": []
   },
   "outputs": [
    {
     "data": {
      "text/plain": [
       "<AxesSubplot:>"
      ]
     },
     "execution_count": 52,
     "metadata": {},
     "output_type": "execute_result"
    },
    {
     "data": {
      "image/png": "[encoded data removed]",
      "text/plain": [
       "<Figure size 864x432 with 1 Axes>"
      ]
     },
     "metadata": {
      "needs_background": "light"
     },
     "output_type": "display_data"
    }
   ],
   "source": [
    "model_loss_do.plot(figsize=(12,6))"
   ]
  },
  {
   "cell_type": "code",
   "execution_count": 53,
   "id": "930a4b19",
   "metadata": {
    "execution": {
     "iopub.execute_input": "2022-06-16T20:44:27.121864Z",
     "iopub.status.busy": "2022-06-16T20:44:27.121461Z",
     "iopub.status.idle": "2022-06-16T20:44:27.304345Z",
     "shell.execute_reply": "2022-06-16T20:44:27.303238Z"
    },
    "papermill": {
     "duration": 0.279111,
     "end_time": "2022-06-16T20:44:27.306857",
     "exception": false,
     "start_time": "2022-06-16T20:44:27.027746",
     "status": "completed"
    },
    "tags": []
   },
   "outputs": [],
   "source": [
    "pred_DO_White = (model.predict(X_test))"
   ]
  },
  {
   "cell_type": "code",
   "execution_count": 54,
   "id": "e92ffc2d",
   "metadata": {
    "execution": {
     "iopub.execute_input": "2022-06-16T20:44:27.494751Z",
     "iopub.status.busy": "2022-06-16T20:44:27.493653Z",
     "iopub.status.idle": "2022-06-16T20:44:27.500673Z",
     "shell.execute_reply": "2022-06-16T20:44:27.499821Z"
    },
    "papermill": {
     "duration": 0.103778,
     "end_time": "2022-06-16T20:44:27.502518",
     "exception": false,
     "start_time": "2022-06-16T20:44:27.398740",
     "status": "completed"
    },
    "scrolled": true,
    "tags": []
   },
   "outputs": [
    {
     "data": {
      "text/plain": [
       "array([[0.01268571, 0.06296661, 0.35785237, 0.44640106, 0.12009427],\n",
       "       [0.00530453, 0.06090126, 0.4790722 , 0.37725246, 0.07746956],\n",
       "       [0.01652889, 0.10675278, 0.4848717 , 0.3185561 , 0.07329059],\n",
       "       ...,\n",
       "       [0.02805599, 0.21347946, 0.5346519 , 0.19312222, 0.0306904 ],\n",
       "       [0.0110849 , 0.14554699, 0.54013276, 0.25546753, 0.04776775],\n",
       "       [0.00192104, 0.02220149, 0.34053925, 0.5208016 , 0.11453661]],\n",
       "      dtype=float32)"
      ]
     },
     "execution_count": 54,
     "metadata": {},
     "output_type": "execute_result"
    }
   ],
   "source": [
    "pred_DO_White"
   ]
  },
  {
   "cell_type": "code",
   "execution_count": 55,
   "id": "495d1e9d",
   "metadata": {
    "execution": {
     "iopub.execute_input": "2022-06-16T20:44:27.692599Z",
     "iopub.status.busy": "2022-06-16T20:44:27.691809Z",
     "iopub.status.idle": "2022-06-16T20:44:27.697543Z",
     "shell.execute_reply": "2022-06-16T20:44:27.696610Z"
    },
    "papermill": {
     "duration": 0.104077,
     "end_time": "2022-06-16T20:44:27.699959",
     "exception": false,
     "start_time": "2022-06-16T20:44:27.595882",
     "status": "completed"
    },
    "tags": []
   },
   "outputs": [],
   "source": [
    "from keras.wrappers.scikit_learn import KerasClassifier\n",
    "from sklearn.model_selection import cross_val_score"
   ]
  },
  {
   "cell_type": "code",
   "execution_count": 56,
   "id": "04697ac1",
   "metadata": {
    "execution": {
     "iopub.execute_input": "2022-06-16T20:44:27.890738Z",
     "iopub.status.busy": "2022-06-16T20:44:27.889783Z",
     "iopub.status.idle": "2022-06-16T20:44:28.154040Z",
     "shell.execute_reply": "2022-06-16T20:44:28.153157Z"
    },
    "papermill": {
     "duration": 0.363974,
     "end_time": "2022-06-16T20:44:28.156652",
     "exception": false,
     "start_time": "2022-06-16T20:44:27.792678",
     "status": "completed"
    },
    "tags": []
   },
   "outputs": [],
   "source": [
    "score = model.evaluate(X_train, y_train, verbose=0)"
   ]
  },
  {
   "cell_type": "code",
   "execution_count": 57,
   "id": "84e466cc",
   "metadata": {
    "execution": {
     "iopub.execute_input": "2022-06-16T20:44:28.356861Z",
     "iopub.status.busy": "2022-06-16T20:44:28.356149Z",
     "iopub.status.idle": "2022-06-16T20:44:28.496250Z",
     "shell.execute_reply": "2022-06-16T20:44:28.494926Z"
    },
    "papermill": {
     "duration": 0.242409,
     "end_time": "2022-06-16T20:44:28.499475",
     "exception": false,
     "start_time": "2022-06-16T20:44:28.257066",
     "status": "completed"
    },
    "tags": []
   },
   "outputs": [],
   "source": [
    "score2 = model.evaluate(X_test, y_test, verbose=0)"
   ]
  },
  {
   "cell_type": "code",
   "execution_count": 58,
   "id": "c43c5105",
   "metadata": {
    "execution": {
     "iopub.execute_input": "2022-06-16T20:44:28.694886Z",
     "iopub.status.busy": "2022-06-16T20:44:28.694321Z",
     "iopub.status.idle": "2022-06-16T20:44:28.700282Z",
     "shell.execute_reply": "2022-06-16T20:44:28.699056Z"
    },
    "papermill": {
     "duration": 0.106143,
     "end_time": "2022-06-16T20:44:28.702509",
     "exception": false,
     "start_time": "2022-06-16T20:44:28.596366",
     "status": "completed"
    },
    "scrolled": true,
    "tags": []
   },
   "outputs": [
    {
     "name": "stdout",
     "output_type": "stream",
     "text": [
      "0.5681528449058533 0.43184715509414673\n"
     ]
    }
   ],
   "source": [
    "print('{} {}'.format(score[1], 1 - score[1]))"
   ]
  },
  {
   "cell_type": "code",
   "execution_count": 59,
   "id": "33a7a6ad",
   "metadata": {
    "execution": {
     "iopub.execute_input": "2022-06-16T20:44:28.889544Z",
     "iopub.status.busy": "2022-06-16T20:44:28.888884Z",
     "iopub.status.idle": "2022-06-16T20:44:28.894822Z",
     "shell.execute_reply": "2022-06-16T20:44:28.893601Z"
    },
    "papermill": {
     "duration": 0.100774,
     "end_time": "2022-06-16T20:44:28.897026",
     "exception": false,
     "start_time": "2022-06-16T20:44:28.796252",
     "status": "completed"
    },
    "tags": []
   },
   "outputs": [
    {
     "name": "stdout",
     "output_type": "stream",
     "text": [
      "0.5478841662406921 0.45211583375930786\n"
     ]
    }
   ],
   "source": [
    "print('{} {}'.format(score2[1], 1 - score2[1]))"
   ]
  },
  {
   "cell_type": "markdown",
   "id": "f0faa78a",
   "metadata": {
    "papermill": {
     "duration": 0.091732,
     "end_time": "2022-06-16T20:44:29.084184",
     "exception": false,
     "start_time": "2022-06-16T20:44:28.992452",
     "status": "completed"
    },
    "tags": []
   },
   "source": [
    "## Red"
   ]
  },
  {
   "cell_type": "code",
   "execution_count": 60,
   "id": "daff6b74",
   "metadata": {
    "execution": {
     "iopub.execute_input": "2022-06-16T20:44:29.336961Z",
     "iopub.status.busy": "2022-06-16T20:44:29.336513Z",
     "iopub.status.idle": "2022-06-16T20:44:29.361861Z",
     "shell.execute_reply": "2022-06-16T20:44:29.361185Z"
    },
    "papermill": {
     "duration": 0.187407,
     "end_time": "2022-06-16T20:44:29.363722",
     "exception": false,
     "start_time": "2022-06-16T20:44:29.176315",
     "status": "completed"
    },
    "tags": []
   },
   "outputs": [
    {
     "data": {
      "text/html": [
       "<div>\n",
       "<style scoped>\n",
       "    .dataframe tbody tr th:only-of-type {\n",
       "        vertical-align: middle;\n",
       "    }\n",
       "\n",
       "    .dataframe tbody tr th {\n",
       "        vertical-align: top;\n",
       "    }\n",
       "\n",
       "    .dataframe thead th {\n",
       "        text-align: right;\n",
       "    }\n",
       "</style>\n",
       "<table border=\"1\" class=\"dataframe\">\n",
       "  <thead>\n",
       "    <tr style=\"text-align: right;\">\n",
       "      <th></th>\n",
       "      <th>fixed acidity</th>\n",
       "      <th>volatile acidity</th>\n",
       "      <th>citric acid</th>\n",
       "      <th>residual sugar</th>\n",
       "      <th>chlorides</th>\n",
       "      <th>free sulfur dioxide</th>\n",
       "      <th>total sulfur dioxide</th>\n",
       "      <th>density</th>\n",
       "      <th>pH</th>\n",
       "      <th>sulphates</th>\n",
       "      <th>alcohol</th>\n",
       "      <th>quality</th>\n",
       "      <th>4</th>\n",
       "      <th>5</th>\n",
       "      <th>6</th>\n",
       "      <th>7</th>\n",
       "      <th>8</th>\n",
       "    </tr>\n",
       "  </thead>\n",
       "  <tbody>\n",
       "    <tr>\n",
       "      <th>0</th>\n",
       "      <td>7.4</td>\n",
       "      <td>0.70</td>\n",
       "      <td>0.00</td>\n",
       "      <td>1.9</td>\n",
       "      <td>0.076</td>\n",
       "      <td>11.0</td>\n",
       "      <td>34.0</td>\n",
       "      <td>0.9978</td>\n",
       "      <td>3.51</td>\n",
       "      <td>0.56</td>\n",
       "      <td>9.4</td>\n",
       "      <td>5</td>\n",
       "      <td>0</td>\n",
       "      <td>1</td>\n",
       "      <td>0</td>\n",
       "      <td>0</td>\n",
       "      <td>0</td>\n",
       "    </tr>\n",
       "    <tr>\n",
       "      <th>1</th>\n",
       "      <td>7.8</td>\n",
       "      <td>0.88</td>\n",
       "      <td>0.00</td>\n",
       "      <td>2.6</td>\n",
       "      <td>0.098</td>\n",
       "      <td>25.0</td>\n",
       "      <td>67.0</td>\n",
       "      <td>0.9968</td>\n",
       "      <td>3.20</td>\n",
       "      <td>0.68</td>\n",
       "      <td>9.8</td>\n",
       "      <td>5</td>\n",
       "      <td>0</td>\n",
       "      <td>1</td>\n",
       "      <td>0</td>\n",
       "      <td>0</td>\n",
       "      <td>0</td>\n",
       "    </tr>\n",
       "    <tr>\n",
       "      <th>2</th>\n",
       "      <td>7.8</td>\n",
       "      <td>0.76</td>\n",
       "      <td>0.04</td>\n",
       "      <td>2.3</td>\n",
       "      <td>0.092</td>\n",
       "      <td>15.0</td>\n",
       "      <td>54.0</td>\n",
       "      <td>0.9970</td>\n",
       "      <td>3.26</td>\n",
       "      <td>0.65</td>\n",
       "      <td>9.8</td>\n",
       "      <td>5</td>\n",
       "      <td>0</td>\n",
       "      <td>1</td>\n",
       "      <td>0</td>\n",
       "      <td>0</td>\n",
       "      <td>0</td>\n",
       "    </tr>\n",
       "    <tr>\n",
       "      <th>3</th>\n",
       "      <td>11.2</td>\n",
       "      <td>0.28</td>\n",
       "      <td>0.56</td>\n",
       "      <td>1.9</td>\n",
       "      <td>0.075</td>\n",
       "      <td>17.0</td>\n",
       "      <td>60.0</td>\n",
       "      <td>0.9980</td>\n",
       "      <td>3.16</td>\n",
       "      <td>0.58</td>\n",
       "      <td>9.8</td>\n",
       "      <td>6</td>\n",
       "      <td>0</td>\n",
       "      <td>0</td>\n",
       "      <td>1</td>\n",
       "      <td>0</td>\n",
       "      <td>0</td>\n",
       "    </tr>\n",
       "    <tr>\n",
       "      <th>4</th>\n",
       "      <td>7.4</td>\n",
       "      <td>0.70</td>\n",
       "      <td>0.00</td>\n",
       "      <td>1.9</td>\n",
       "      <td>0.076</td>\n",
       "      <td>11.0</td>\n",
       "      <td>34.0</td>\n",
       "      <td>0.9978</td>\n",
       "      <td>3.51</td>\n",
       "      <td>0.56</td>\n",
       "      <td>9.4</td>\n",
       "      <td>5</td>\n",
       "      <td>0</td>\n",
       "      <td>1</td>\n",
       "      <td>0</td>\n",
       "      <td>0</td>\n",
       "      <td>0</td>\n",
       "    </tr>\n",
       "  </tbody>\n",
       "</table>\n",
       "</div>"
      ],
      "text/plain": [
       "   fixed acidity  volatile acidity  citric acid  residual sugar  chlorides  \\\n",
       "0            7.4              0.70         0.00             1.9      0.076   \n",
       "1            7.8              0.88         0.00             2.6      0.098   \n",
       "2            7.8              0.76         0.04             2.3      0.092   \n",
       "3           11.2              0.28         0.56             1.9      0.075   \n",
       "4            7.4              0.70         0.00             1.9      0.076   \n",
       "\n",
       "   free sulfur dioxide  total sulfur dioxide  density    pH  sulphates  \\\n",
       "0                 11.0                  34.0   0.9978  3.51       0.56   \n",
       "1                 25.0                  67.0   0.9968  3.20       0.68   \n",
       "2                 15.0                  54.0   0.9970  3.26       0.65   \n",
       "3                 17.0                  60.0   0.9980  3.16       0.58   \n",
       "4                 11.0                  34.0   0.9978  3.51       0.56   \n",
       "\n",
       "   alcohol  quality  4  5  6  7  8  \n",
       "0      9.4        5  0  1  0  0  0  \n",
       "1      9.8        5  0  1  0  0  0  \n",
       "2      9.8        5  0  1  0  0  0  \n",
       "3      9.8        6  0  0  1  0  0  \n",
       "4      9.4        5  0  1  0  0  0  "
      ]
     },
     "execution_count": 60,
     "metadata": {},
     "output_type": "execute_result"
    }
   ],
   "source": [
    "dummy_Red = pd.get_dummies(df_Red['quality'], drop_first=False)\n",
    "\n",
    "df_Red = pd.concat([df_Red, dummy_Red], axis=1)\n",
    "\n",
    "df_Red.head()"
   ]
  },
  {
   "cell_type": "code",
   "execution_count": 61,
   "id": "6b8143d2",
   "metadata": {
    "execution": {
     "iopub.execute_input": "2022-06-16T20:44:29.556938Z",
     "iopub.status.busy": "2022-06-16T20:44:29.556313Z",
     "iopub.status.idle": "2022-06-16T20:44:29.562327Z",
     "shell.execute_reply": "2022-06-16T20:44:29.561643Z"
    },
    "papermill": {
     "duration": 0.102151,
     "end_time": "2022-06-16T20:44:29.564072",
     "exception": false,
     "start_time": "2022-06-16T20:44:29.461921",
     "status": "completed"
    },
    "tags": []
   },
   "outputs": [
    {
     "data": {
      "text/plain": [
       "5"
      ]
     },
     "execution_count": 61,
     "metadata": {},
     "output_type": "execute_result"
    }
   ],
   "source": [
    "ys_r = df_Red['quality'].nunique()\n",
    "ys_r"
   ]
  },
  {
   "cell_type": "code",
   "execution_count": 62,
   "id": "12434cf3",
   "metadata": {
    "execution": {
     "iopub.execute_input": "2022-06-16T20:44:29.749893Z",
     "iopub.status.busy": "2022-06-16T20:44:29.749522Z",
     "iopub.status.idle": "2022-06-16T20:44:29.779778Z",
     "shell.execute_reply": "2022-06-16T20:44:29.778894Z"
    },
    "papermill": {
     "duration": 0.125626,
     "end_time": "2022-06-16T20:44:29.781829",
     "exception": false,
     "start_time": "2022-06-16T20:44:29.656203",
     "status": "completed"
    },
    "tags": []
   },
   "outputs": [
    {
     "data": {
      "text/html": [
       "<div>\n",
       "<style scoped>\n",
       "    .dataframe tbody tr th:only-of-type {\n",
       "        vertical-align: middle;\n",
       "    }\n",
       "\n",
       "    .dataframe tbody tr th {\n",
       "        vertical-align: top;\n",
       "    }\n",
       "\n",
       "    .dataframe thead th {\n",
       "        text-align: right;\n",
       "    }\n",
       "</style>\n",
       "<table border=\"1\" class=\"dataframe\">\n",
       "  <thead>\n",
       "    <tr style=\"text-align: right;\">\n",
       "      <th></th>\n",
       "      <th>fixed acidity</th>\n",
       "      <th>volatile acidity</th>\n",
       "      <th>citric acid</th>\n",
       "      <th>residual sugar</th>\n",
       "      <th>chlorides</th>\n",
       "      <th>free sulfur dioxide</th>\n",
       "      <th>total sulfur dioxide</th>\n",
       "      <th>density</th>\n",
       "      <th>pH</th>\n",
       "      <th>sulphates</th>\n",
       "      <th>alcohol</th>\n",
       "    </tr>\n",
       "  </thead>\n",
       "  <tbody>\n",
       "    <tr>\n",
       "      <th>0</th>\n",
       "      <td>7.4</td>\n",
       "      <td>0.700</td>\n",
       "      <td>0.00</td>\n",
       "      <td>1.9</td>\n",
       "      <td>0.076</td>\n",
       "      <td>11.0</td>\n",
       "      <td>34.0</td>\n",
       "      <td>0.99780</td>\n",
       "      <td>3.51</td>\n",
       "      <td>0.56</td>\n",
       "      <td>9.4</td>\n",
       "    </tr>\n",
       "    <tr>\n",
       "      <th>1</th>\n",
       "      <td>7.8</td>\n",
       "      <td>0.880</td>\n",
       "      <td>0.00</td>\n",
       "      <td>2.6</td>\n",
       "      <td>0.098</td>\n",
       "      <td>25.0</td>\n",
       "      <td>67.0</td>\n",
       "      <td>0.99680</td>\n",
       "      <td>3.20</td>\n",
       "      <td>0.68</td>\n",
       "      <td>9.8</td>\n",
       "    </tr>\n",
       "    <tr>\n",
       "      <th>2</th>\n",
       "      <td>7.8</td>\n",
       "      <td>0.760</td>\n",
       "      <td>0.04</td>\n",
       "      <td>2.3</td>\n",
       "      <td>0.092</td>\n",
       "      <td>15.0</td>\n",
       "      <td>54.0</td>\n",
       "      <td>0.99700</td>\n",
       "      <td>3.26</td>\n",
       "      <td>0.65</td>\n",
       "      <td>9.8</td>\n",
       "    </tr>\n",
       "    <tr>\n",
       "      <th>3</th>\n",
       "      <td>11.2</td>\n",
       "      <td>0.280</td>\n",
       "      <td>0.56</td>\n",
       "      <td>1.9</td>\n",
       "      <td>0.075</td>\n",
       "      <td>17.0</td>\n",
       "      <td>60.0</td>\n",
       "      <td>0.99800</td>\n",
       "      <td>3.16</td>\n",
       "      <td>0.58</td>\n",
       "      <td>9.8</td>\n",
       "    </tr>\n",
       "    <tr>\n",
       "      <th>4</th>\n",
       "      <td>7.4</td>\n",
       "      <td>0.700</td>\n",
       "      <td>0.00</td>\n",
       "      <td>1.9</td>\n",
       "      <td>0.076</td>\n",
       "      <td>11.0</td>\n",
       "      <td>34.0</td>\n",
       "      <td>0.99780</td>\n",
       "      <td>3.51</td>\n",
       "      <td>0.56</td>\n",
       "      <td>9.4</td>\n",
       "    </tr>\n",
       "    <tr>\n",
       "      <th>...</th>\n",
       "      <td>...</td>\n",
       "      <td>...</td>\n",
       "      <td>...</td>\n",
       "      <td>...</td>\n",
       "      <td>...</td>\n",
       "      <td>...</td>\n",
       "      <td>...</td>\n",
       "      <td>...</td>\n",
       "      <td>...</td>\n",
       "      <td>...</td>\n",
       "      <td>...</td>\n",
       "    </tr>\n",
       "    <tr>\n",
       "      <th>1594</th>\n",
       "      <td>6.2</td>\n",
       "      <td>0.600</td>\n",
       "      <td>0.08</td>\n",
       "      <td>2.0</td>\n",
       "      <td>0.090</td>\n",
       "      <td>32.0</td>\n",
       "      <td>44.0</td>\n",
       "      <td>0.99490</td>\n",
       "      <td>3.45</td>\n",
       "      <td>0.58</td>\n",
       "      <td>10.5</td>\n",
       "    </tr>\n",
       "    <tr>\n",
       "      <th>1595</th>\n",
       "      <td>5.9</td>\n",
       "      <td>0.550</td>\n",
       "      <td>0.10</td>\n",
       "      <td>2.2</td>\n",
       "      <td>0.062</td>\n",
       "      <td>39.0</td>\n",
       "      <td>51.0</td>\n",
       "      <td>0.99512</td>\n",
       "      <td>3.52</td>\n",
       "      <td>0.76</td>\n",
       "      <td>11.2</td>\n",
       "    </tr>\n",
       "    <tr>\n",
       "      <th>1596</th>\n",
       "      <td>6.3</td>\n",
       "      <td>0.510</td>\n",
       "      <td>0.13</td>\n",
       "      <td>2.3</td>\n",
       "      <td>0.076</td>\n",
       "      <td>29.0</td>\n",
       "      <td>40.0</td>\n",
       "      <td>0.99574</td>\n",
       "      <td>3.42</td>\n",
       "      <td>0.75</td>\n",
       "      <td>11.0</td>\n",
       "    </tr>\n",
       "    <tr>\n",
       "      <th>1597</th>\n",
       "      <td>5.9</td>\n",
       "      <td>0.645</td>\n",
       "      <td>0.12</td>\n",
       "      <td>2.0</td>\n",
       "      <td>0.075</td>\n",
       "      <td>32.0</td>\n",
       "      <td>44.0</td>\n",
       "      <td>0.99547</td>\n",
       "      <td>3.57</td>\n",
       "      <td>0.71</td>\n",
       "      <td>10.2</td>\n",
       "    </tr>\n",
       "    <tr>\n",
       "      <th>1598</th>\n",
       "      <td>6.0</td>\n",
       "      <td>0.310</td>\n",
       "      <td>0.47</td>\n",
       "      <td>3.6</td>\n",
       "      <td>0.067</td>\n",
       "      <td>18.0</td>\n",
       "      <td>42.0</td>\n",
       "      <td>0.99549</td>\n",
       "      <td>3.39</td>\n",
       "      <td>0.66</td>\n",
       "      <td>11.0</td>\n",
       "    </tr>\n",
       "  </tbody>\n",
       "</table>\n",
       "<p>1451 rows × 11 columns</p>\n",
       "</div>"
      ],
      "text/plain": [
       "      fixed acidity  volatile acidity  citric acid  residual sugar  chlorides  \\\n",
       "0               7.4             0.700         0.00             1.9      0.076   \n",
       "1               7.8             0.880         0.00             2.6      0.098   \n",
       "2               7.8             0.760         0.04             2.3      0.092   \n",
       "3              11.2             0.280         0.56             1.9      0.075   \n",
       "4               7.4             0.700         0.00             1.9      0.076   \n",
       "...             ...               ...          ...             ...        ...   \n",
       "1594            6.2             0.600         0.08             2.0      0.090   \n",
       "1595            5.9             0.550         0.10             2.2      0.062   \n",
       "1596            6.3             0.510         0.13             2.3      0.076   \n",
       "1597            5.9             0.645         0.12             2.0      0.075   \n",
       "1598            6.0             0.310         0.47             3.6      0.067   \n",
       "\n",
       "      free sulfur dioxide  total sulfur dioxide  density    pH  sulphates  \\\n",
       "0                    11.0                  34.0  0.99780  3.51       0.56   \n",
       "1                    25.0                  67.0  0.99680  3.20       0.68   \n",
       "2                    15.0                  54.0  0.99700  3.26       0.65   \n",
       "3                    17.0                  60.0  0.99800  3.16       0.58   \n",
       "4                    11.0                  34.0  0.99780  3.51       0.56   \n",
       "...                   ...                   ...      ...   ...        ...   \n",
       "1594                 32.0                  44.0  0.99490  3.45       0.58   \n",
       "1595                 39.0                  51.0  0.99512  3.52       0.76   \n",
       "1596                 29.0                  40.0  0.99574  3.42       0.75   \n",
       "1597                 32.0                  44.0  0.99547  3.57       0.71   \n",
       "1598                 18.0                  42.0  0.99549  3.39       0.66   \n",
       "\n",
       "      alcohol  \n",
       "0         9.4  \n",
       "1         9.8  \n",
       "2         9.8  \n",
       "3         9.8  \n",
       "4         9.4  \n",
       "...       ...  \n",
       "1594     10.5  \n",
       "1595     11.2  \n",
       "1596     11.0  \n",
       "1597     10.2  \n",
       "1598     11.0  \n",
       "\n",
       "[1451 rows x 11 columns]"
      ]
     },
     "execution_count": 62,
     "metadata": {},
     "output_type": "execute_result"
    }
   ],
   "source": [
    "df_Red.drop(['quality'], axis=1, inplace=True)\n",
    "\n",
    "df_Red.drop(df_Red.iloc[:,-ys_r:], axis=1)"
   ]
  },
  {
   "cell_type": "code",
   "execution_count": 63,
   "id": "c8b3632f",
   "metadata": {
    "execution": {
     "iopub.execute_input": "2022-06-16T20:44:29.969731Z",
     "iopub.status.busy": "2022-06-16T20:44:29.968980Z",
     "iopub.status.idle": "2022-06-16T20:44:29.978237Z",
     "shell.execute_reply": "2022-06-16T20:44:29.977439Z"
    },
    "papermill": {
     "duration": 0.106065,
     "end_time": "2022-06-16T20:44:29.980447",
     "exception": false,
     "start_time": "2022-06-16T20:44:29.874382",
     "status": "completed"
    },
    "tags": []
   },
   "outputs": [],
   "source": [
    "X = df_Red.drop(df_Red.iloc[:,-ys_r:], axis=1).values\n",
    "y = df_Red.iloc[:,-ys_r:].values\n",
    "\n",
    "X_train, X_test, y_train, y_test = train_test_split(X, y, test_size=0.30, random_state=42)\n",
    "\n",
    "X_train = scaler.fit_transform(X_train)"
   ]
  },
  {
   "cell_type": "code",
   "execution_count": 64,
   "id": "94c745a5",
   "metadata": {
    "execution": {
     "iopub.execute_input": "2022-06-16T20:44:30.167769Z",
     "iopub.status.busy": "2022-06-16T20:44:30.167183Z",
     "iopub.status.idle": "2022-06-16T20:44:30.174457Z",
     "shell.execute_reply": "2022-06-16T20:44:30.173546Z"
    },
    "papermill": {
     "duration": 0.103602,
     "end_time": "2022-06-16T20:44:30.176645",
     "exception": false,
     "start_time": "2022-06-16T20:44:30.073043",
     "status": "completed"
    },
    "tags": []
   },
   "outputs": [
    {
     "data": {
      "text/plain": [
       "6"
      ]
     },
     "execution_count": 64,
     "metadata": {},
     "output_type": "execute_result"
    }
   ],
   "source": [
    "np.round(X_train.shape[1]/2).astype('int32')"
   ]
  },
  {
   "cell_type": "code",
   "execution_count": 65,
   "id": "601153d8",
   "metadata": {
    "execution": {
     "iopub.execute_input": "2022-06-16T20:44:30.366968Z",
     "iopub.status.busy": "2022-06-16T20:44:30.366574Z",
     "iopub.status.idle": "2022-06-16T20:44:30.371553Z",
     "shell.execute_reply": "2022-06-16T20:44:30.370932Z"
    },
    "papermill": {
     "duration": 0.100888,
     "end_time": "2022-06-16T20:44:30.373393",
     "exception": false,
     "start_time": "2022-06-16T20:44:30.272505",
     "status": "completed"
    },
    "tags": []
   },
   "outputs": [],
   "source": [
    "X_test = scaler.transform(X_test)\n",
    "\n",
    "early_stop = EarlyStopping(monitor='val_loss', mode='min', verbose=1, patience=25)"
   ]
  },
  {
   "cell_type": "code",
   "execution_count": 66,
   "id": "a8ada9fd",
   "metadata": {
    "execution": {
     "iopub.execute_input": "2022-06-16T20:44:30.559722Z",
     "iopub.status.busy": "2022-06-16T20:44:30.559342Z",
     "iopub.status.idle": "2022-06-16T20:44:30.578442Z",
     "shell.execute_reply": "2022-06-16T20:44:30.577463Z"
    },
    "papermill": {
     "duration": 0.115476,
     "end_time": "2022-06-16T20:44:30.580865",
     "exception": false,
     "start_time": "2022-06-16T20:44:30.465389",
     "status": "completed"
    },
    "tags": []
   },
   "outputs": [],
   "source": [
    "model = Sequential()\n",
    "\n",
    "model.add(Dense(units=X_train.shape[1], activation='relu'))\n",
    "model.add(Dropout(0.1))\n",
    "\n",
    "model.add(Dense(units=np.round(X_train.shape[1]/2).astype('int32'), activation='relu'))\n",
    "model.add(Dropout(0.1))\n",
    "\n",
    "model.add(Dense(units=y_train.shape[1], activation='softmax'))\n",
    "\n",
    "model.compile(loss='categorical_crossentropy', optimizer = 'adam', metrics=['accuracy'])"
   ]
  },
  {
   "cell_type": "code",
   "execution_count": 67,
   "id": "ed64bd43",
   "metadata": {
    "execution": {
     "iopub.execute_input": "2022-06-16T20:44:30.770457Z",
     "iopub.status.busy": "2022-06-16T20:44:30.769887Z",
     "iopub.status.idle": "2022-06-16T20:44:53.413119Z",
     "shell.execute_reply": "2022-06-16T20:44:53.412087Z"
    },
    "papermill": {
     "duration": 22.741706,
     "end_time": "2022-06-16T20:44:53.415553",
     "exception": false,
     "start_time": "2022-06-16T20:44:30.673847",
     "status": "completed"
    },
    "tags": []
   },
   "outputs": [
    {
     "name": "stdout",
     "output_type": "stream",
     "text": [
      "Epoch 1/400\n",
      "4/4 [==============================] - 1s 66ms/step - loss: 1.7169 - accuracy: 0.1064 - val_loss: 1.6738 - val_accuracy: 0.0917\n",
      "Epoch 2/400\n",
      "4/4 [==============================] - 0s 13ms/step - loss: 1.6839 - accuracy: 0.1626 - val_loss: 1.6443 - val_accuracy: 0.1674\n",
      "Epoch 3/400\n",
      "4/4 [==============================] - 0s 14ms/step - loss: 1.6567 - accuracy: 0.2039 - val_loss: 1.6192 - val_accuracy: 0.2271\n",
      "Epoch 4/400\n",
      "4/4 [==============================] - 0s 14ms/step - loss: 1.6303 - accuracy: 0.2355 - val_loss: 1.5987 - val_accuracy: 0.2890\n",
      "Epoch 5/400\n",
      "4/4 [==============================] - 0s 14ms/step - loss: 1.6069 - accuracy: 0.2837 - val_loss: 1.5822 - val_accuracy: 0.3234\n",
      "Epoch 6/400\n",
      "4/4 [==============================] - 0s 14ms/step - loss: 1.5943 - accuracy: 0.3143 - val_loss: 1.5689 - val_accuracy: 0.3417\n",
      "Epoch 7/400\n",
      "4/4 [==============================] - 0s 14ms/step - loss: 1.5818 - accuracy: 0.3330 - val_loss: 1.5576 - val_accuracy: 0.3693\n",
      "Epoch 8/400\n",
      "4/4 [==============================] - 0s 14ms/step - loss: 1.5670 - accuracy: 0.3616 - val_loss: 1.5475 - val_accuracy: 0.3899\n",
      "Epoch 9/400\n",
      "4/4 [==============================] - 0s 14ms/step - loss: 1.5566 - accuracy: 0.3626 - val_loss: 1.5384 - val_accuracy: 0.3945\n",
      "Epoch 10/400\n",
      "4/4 [==============================] - 0s 14ms/step - loss: 1.5447 - accuracy: 0.3655 - val_loss: 1.5299 - val_accuracy: 0.3968\n",
      "Epoch 11/400\n",
      "4/4 [==============================] - 0s 15ms/step - loss: 1.5318 - accuracy: 0.3813 - val_loss: 1.5220 - val_accuracy: 0.3991\n",
      "Epoch 12/400\n",
      "4/4 [==============================] - 0s 15ms/step - loss: 1.5280 - accuracy: 0.3951 - val_loss: 1.5146 - val_accuracy: 0.4060\n",
      "Epoch 13/400\n",
      "4/4 [==============================] - 0s 14ms/step - loss: 1.5173 - accuracy: 0.3872 - val_loss: 1.5075 - val_accuracy: 0.4083\n",
      "Epoch 14/400\n",
      "4/4 [==============================] - 0s 15ms/step - loss: 1.5144 - accuracy: 0.4049 - val_loss: 1.5005 - val_accuracy: 0.4083\n",
      "Epoch 15/400\n",
      "4/4 [==============================] - 0s 14ms/step - loss: 1.5075 - accuracy: 0.3921 - val_loss: 1.4938 - val_accuracy: 0.4106\n",
      "Epoch 16/400\n",
      "4/4 [==============================] - 0s 13ms/step - loss: 1.5066 - accuracy: 0.3901 - val_loss: 1.4873 - val_accuracy: 0.4106\n",
      "Epoch 17/400\n",
      "4/4 [==============================] - 0s 14ms/step - loss: 1.4872 - accuracy: 0.4030 - val_loss: 1.4808 - val_accuracy: 0.4106\n",
      "Epoch 18/400\n",
      "4/4 [==============================] - 0s 14ms/step - loss: 1.4855 - accuracy: 0.4099 - val_loss: 1.4744 - val_accuracy: 0.4106\n",
      "Epoch 19/400\n",
      "4/4 [==============================] - 0s 14ms/step - loss: 1.4914 - accuracy: 0.3862 - val_loss: 1.4681 - val_accuracy: 0.4106\n",
      "Epoch 20/400\n",
      "4/4 [==============================] - 0s 14ms/step - loss: 1.4683 - accuracy: 0.4177 - val_loss: 1.4618 - val_accuracy: 0.4106\n",
      "Epoch 21/400\n",
      "4/4 [==============================] - 0s 14ms/step - loss: 1.4818 - accuracy: 0.4039 - val_loss: 1.4556 - val_accuracy: 0.4106\n",
      "Epoch 22/400\n",
      "4/4 [==============================] - 0s 14ms/step - loss: 1.4582 - accuracy: 0.4079 - val_loss: 1.4495 - val_accuracy: 0.4106\n",
      "Epoch 23/400\n",
      "4/4 [==============================] - 0s 15ms/step - loss: 1.4518 - accuracy: 0.4069 - val_loss: 1.4433 - val_accuracy: 0.4106\n",
      "Epoch 24/400\n",
      "4/4 [==============================] - 0s 14ms/step - loss: 1.4408 - accuracy: 0.4177 - val_loss: 1.4371 - val_accuracy: 0.4106\n",
      "Epoch 25/400\n",
      "4/4 [==============================] - 0s 14ms/step - loss: 1.4389 - accuracy: 0.4177 - val_loss: 1.4309 - val_accuracy: 0.4106\n",
      "Epoch 26/400\n",
      "4/4 [==============================] - 0s 14ms/step - loss: 1.4407 - accuracy: 0.4148 - val_loss: 1.4249 - val_accuracy: 0.4106\n",
      "Epoch 27/400\n",
      "4/4 [==============================] - 0s 15ms/step - loss: 1.4282 - accuracy: 0.3980 - val_loss: 1.4188 - val_accuracy: 0.4106\n",
      "Epoch 28/400\n",
      "4/4 [==============================] - 0s 14ms/step - loss: 1.4263 - accuracy: 0.4296 - val_loss: 1.4127 - val_accuracy: 0.4106\n",
      "Epoch 29/400\n",
      "4/4 [==============================] - 0s 14ms/step - loss: 1.4164 - accuracy: 0.4217 - val_loss: 1.4068 - val_accuracy: 0.4106\n",
      "Epoch 30/400\n",
      "4/4 [==============================] - 0s 14ms/step - loss: 1.4096 - accuracy: 0.4187 - val_loss: 1.4009 - val_accuracy: 0.4106\n",
      "Epoch 31/400\n",
      "4/4 [==============================] - 0s 14ms/step - loss: 1.4079 - accuracy: 0.4227 - val_loss: 1.3949 - val_accuracy: 0.4106\n",
      "Epoch 32/400\n",
      "4/4 [==============================] - 0s 14ms/step - loss: 1.3987 - accuracy: 0.4148 - val_loss: 1.3889 - val_accuracy: 0.4106\n",
      "Epoch 33/400\n",
      "4/4 [==============================] - 0s 15ms/step - loss: 1.3896 - accuracy: 0.4305 - val_loss: 1.3830 - val_accuracy: 0.4106\n",
      "Epoch 34/400\n",
      "4/4 [==============================] - 0s 15ms/step - loss: 1.3921 - accuracy: 0.4276 - val_loss: 1.3771 - val_accuracy: 0.4106\n",
      "Epoch 35/400\n",
      "4/4 [==============================] - 0s 14ms/step - loss: 1.3715 - accuracy: 0.4227 - val_loss: 1.3713 - val_accuracy: 0.4106\n",
      "Epoch 36/400\n",
      "4/4 [==============================] - 0s 14ms/step - loss: 1.3703 - accuracy: 0.4325 - val_loss: 1.3655 - val_accuracy: 0.4106\n",
      "Epoch 37/400\n",
      "4/4 [==============================] - 0s 15ms/step - loss: 1.3705 - accuracy: 0.4158 - val_loss: 1.3598 - val_accuracy: 0.4106\n",
      "Epoch 38/400\n",
      "4/4 [==============================] - 0s 15ms/step - loss: 1.3520 - accuracy: 0.4365 - val_loss: 1.3541 - val_accuracy: 0.4106\n",
      "Epoch 39/400\n",
      "4/4 [==============================] - 0s 15ms/step - loss: 1.3551 - accuracy: 0.4335 - val_loss: 1.3484 - val_accuracy: 0.4106\n",
      "Epoch 40/400\n",
      "4/4 [==============================] - 0s 14ms/step - loss: 1.3536 - accuracy: 0.4286 - val_loss: 1.3429 - val_accuracy: 0.4106\n",
      "Epoch 41/400\n",
      "4/4 [==============================] - 0s 14ms/step - loss: 1.3417 - accuracy: 0.4276 - val_loss: 1.3373 - val_accuracy: 0.4106\n",
      "Epoch 42/400\n",
      "4/4 [==============================] - 0s 14ms/step - loss: 1.3359 - accuracy: 0.4296 - val_loss: 1.3318 - val_accuracy: 0.4106\n",
      "Epoch 43/400\n",
      "4/4 [==============================] - 0s 13ms/step - loss: 1.3397 - accuracy: 0.4227 - val_loss: 1.3264 - val_accuracy: 0.4106\n",
      "Epoch 44/400\n",
      "4/4 [==============================] - 0s 15ms/step - loss: 1.3330 - accuracy: 0.4335 - val_loss: 1.3209 - val_accuracy: 0.4106\n",
      "Epoch 45/400\n",
      "4/4 [==============================] - 0s 15ms/step - loss: 1.3250 - accuracy: 0.4394 - val_loss: 1.3155 - val_accuracy: 0.4106\n",
      "Epoch 46/400\n",
      "4/4 [==============================] - 0s 14ms/step - loss: 1.3104 - accuracy: 0.4384 - val_loss: 1.3101 - val_accuracy: 0.4106\n",
      "Epoch 47/400\n",
      "4/4 [==============================] - 0s 14ms/step - loss: 1.3055 - accuracy: 0.4374 - val_loss: 1.3047 - val_accuracy: 0.4106\n",
      "Epoch 48/400\n",
      "4/4 [==============================] - 0s 14ms/step - loss: 1.3056 - accuracy: 0.4325 - val_loss: 1.2992 - val_accuracy: 0.4106\n",
      "Epoch 49/400\n",
      "4/4 [==============================] - 0s 13ms/step - loss: 1.3073 - accuracy: 0.4296 - val_loss: 1.2938 - val_accuracy: 0.4106\n",
      "Epoch 50/400\n",
      "4/4 [==============================] - 0s 14ms/step - loss: 1.2920 - accuracy: 0.4355 - val_loss: 1.2884 - val_accuracy: 0.4106\n",
      "Epoch 51/400\n",
      "4/4 [==============================] - 0s 14ms/step - loss: 1.2780 - accuracy: 0.4404 - val_loss: 1.2829 - val_accuracy: 0.4106\n",
      "Epoch 52/400\n",
      "4/4 [==============================] - 0s 15ms/step - loss: 1.2795 - accuracy: 0.4394 - val_loss: 1.2774 - val_accuracy: 0.4106\n",
      "Epoch 53/400\n",
      "4/4 [==============================] - 0s 14ms/step - loss: 1.2760 - accuracy: 0.4335 - val_loss: 1.2718 - val_accuracy: 0.4106\n",
      "Epoch 54/400\n",
      "4/4 [==============================] - 0s 13ms/step - loss: 1.2854 - accuracy: 0.4394 - val_loss: 1.2662 - val_accuracy: 0.4106\n",
      "Epoch 55/400\n",
      "4/4 [==============================] - 0s 14ms/step - loss: 1.2656 - accuracy: 0.4384 - val_loss: 1.2606 - val_accuracy: 0.4106\n",
      "Epoch 56/400\n",
      "4/4 [==============================] - 0s 18ms/step - loss: 1.2589 - accuracy: 0.4355 - val_loss: 1.2550 - val_accuracy: 0.4106\n",
      "Epoch 57/400\n",
      "4/4 [==============================] - 0s 13ms/step - loss: 1.2588 - accuracy: 0.4355 - val_loss: 1.2495 - val_accuracy: 0.4106\n",
      "Epoch 58/400\n",
      "4/4 [==============================] - 0s 14ms/step - loss: 1.2467 - accuracy: 0.4286 - val_loss: 1.2440 - val_accuracy: 0.4106\n",
      "Epoch 59/400\n",
      "4/4 [==============================] - 0s 14ms/step - loss: 1.2530 - accuracy: 0.4433 - val_loss: 1.2384 - val_accuracy: 0.4106\n",
      "Epoch 60/400\n",
      "4/4 [==============================] - 0s 14ms/step - loss: 1.2418 - accuracy: 0.4305 - val_loss: 1.2330 - val_accuracy: 0.4106\n",
      "Epoch 61/400\n",
      "4/4 [==============================] - 0s 15ms/step - loss: 1.2313 - accuracy: 0.4345 - val_loss: 1.2273 - val_accuracy: 0.4106\n",
      "Epoch 62/400\n",
      "4/4 [==============================] - 0s 14ms/step - loss: 1.2394 - accuracy: 0.4305 - val_loss: 1.2216 - val_accuracy: 0.4106\n",
      "Epoch 63/400\n",
      "4/4 [==============================] - 0s 14ms/step - loss: 1.2213 - accuracy: 0.4365 - val_loss: 1.2161 - val_accuracy: 0.4106\n",
      "Epoch 64/400\n",
      "4/4 [==============================] - 0s 15ms/step - loss: 1.2218 - accuracy: 0.4394 - val_loss: 1.2105 - val_accuracy: 0.4128\n",
      "Epoch 65/400\n",
      "4/4 [==============================] - 0s 14ms/step - loss: 1.2055 - accuracy: 0.4355 - val_loss: 1.2050 - val_accuracy: 0.4174\n",
      "Epoch 66/400\n",
      "4/4 [==============================] - 0s 14ms/step - loss: 1.2007 - accuracy: 0.4483 - val_loss: 1.1994 - val_accuracy: 0.4174\n",
      "Epoch 67/400\n",
      "4/4 [==============================] - 0s 14ms/step - loss: 1.2084 - accuracy: 0.4493 - val_loss: 1.1939 - val_accuracy: 0.4312\n",
      "Epoch 68/400\n",
      "4/4 [==============================] - 0s 14ms/step - loss: 1.1980 - accuracy: 0.4522 - val_loss: 1.1886 - val_accuracy: 0.4450\n",
      "Epoch 69/400\n",
      "4/4 [==============================] - 0s 15ms/step - loss: 1.1907 - accuracy: 0.4729 - val_loss: 1.1832 - val_accuracy: 0.4771\n",
      "Epoch 70/400\n",
      "4/4 [==============================] - 0s 14ms/step - loss: 1.1924 - accuracy: 0.4798 - val_loss: 1.1779 - val_accuracy: 0.4817\n",
      "Epoch 71/400\n",
      "4/4 [==============================] - 0s 14ms/step - loss: 1.1835 - accuracy: 0.5005 - val_loss: 1.1726 - val_accuracy: 0.4885\n",
      "Epoch 72/400\n",
      "4/4 [==============================] - 0s 15ms/step - loss: 1.1872 - accuracy: 0.4956 - val_loss: 1.1674 - val_accuracy: 0.4977\n",
      "Epoch 73/400\n",
      "4/4 [==============================] - 0s 14ms/step - loss: 1.1610 - accuracy: 0.5261 - val_loss: 1.1623 - val_accuracy: 0.5115\n",
      "Epoch 74/400\n",
      "4/4 [==============================] - 0s 14ms/step - loss: 1.1823 - accuracy: 0.5064 - val_loss: 1.1572 - val_accuracy: 0.5229\n",
      "Epoch 75/400\n",
      "4/4 [==============================] - 0s 14ms/step - loss: 1.1670 - accuracy: 0.4857 - val_loss: 1.1523 - val_accuracy: 0.5275\n",
      "Epoch 76/400\n",
      "4/4 [==============================] - 0s 14ms/step - loss: 1.1680 - accuracy: 0.5015 - val_loss: 1.1475 - val_accuracy: 0.5252\n",
      "Epoch 77/400\n",
      "4/4 [==============================] - 0s 14ms/step - loss: 1.1564 - accuracy: 0.4887 - val_loss: 1.1427 - val_accuracy: 0.5321\n",
      "Epoch 78/400\n",
      "4/4 [==============================] - 0s 15ms/step - loss: 1.1456 - accuracy: 0.5015 - val_loss: 1.1378 - val_accuracy: 0.5413\n",
      "Epoch 79/400\n",
      "4/4 [==============================] - 0s 14ms/step - loss: 1.1547 - accuracy: 0.5044 - val_loss: 1.1332 - val_accuracy: 0.5436\n",
      "Epoch 80/400\n",
      "4/4 [==============================] - 0s 14ms/step - loss: 1.1528 - accuracy: 0.4956 - val_loss: 1.1287 - val_accuracy: 0.5413\n",
      "Epoch 81/400\n",
      "4/4 [==============================] - 0s 15ms/step - loss: 1.1424 - accuracy: 0.4985 - val_loss: 1.1244 - val_accuracy: 0.5436\n",
      "Epoch 82/400\n",
      "4/4 [==============================] - 0s 14ms/step - loss: 1.1364 - accuracy: 0.4985 - val_loss: 1.1202 - val_accuracy: 0.5436\n",
      "Epoch 83/400\n",
      "4/4 [==============================] - 0s 14ms/step - loss: 1.1284 - accuracy: 0.5123 - val_loss: 1.1162 - val_accuracy: 0.5459\n",
      "Epoch 84/400\n",
      "4/4 [==============================] - 0s 14ms/step - loss: 1.1405 - accuracy: 0.4946 - val_loss: 1.1124 - val_accuracy: 0.5482\n",
      "Epoch 85/400\n",
      "4/4 [==============================] - 0s 14ms/step - loss: 1.1202 - accuracy: 0.5123 - val_loss: 1.1086 - val_accuracy: 0.5459\n",
      "Epoch 86/400\n",
      "4/4 [==============================] - 0s 14ms/step - loss: 1.1262 - accuracy: 0.5222 - val_loss: 1.1050 - val_accuracy: 0.5482\n",
      "Epoch 87/400\n",
      "4/4 [==============================] - 0s 14ms/step - loss: 1.1277 - accuracy: 0.5212 - val_loss: 1.1013 - val_accuracy: 0.5459\n",
      "Epoch 88/400\n",
      "4/4 [==============================] - 0s 14ms/step - loss: 1.1180 - accuracy: 0.4975 - val_loss: 1.0979 - val_accuracy: 0.5459\n",
      "Epoch 89/400\n",
      "4/4 [==============================] - 0s 15ms/step - loss: 1.1104 - accuracy: 0.4975 - val_loss: 1.0945 - val_accuracy: 0.5436\n",
      "Epoch 90/400\n",
      "4/4 [==============================] - 0s 14ms/step - loss: 1.1093 - accuracy: 0.5222 - val_loss: 1.0911 - val_accuracy: 0.5459\n",
      "Epoch 91/400\n",
      "4/4 [==============================] - 0s 14ms/step - loss: 1.1074 - accuracy: 0.5241 - val_loss: 1.0877 - val_accuracy: 0.5482\n",
      "Epoch 92/400\n",
      "4/4 [==============================] - 0s 14ms/step - loss: 1.1123 - accuracy: 0.5163 - val_loss: 1.0846 - val_accuracy: 0.5459\n",
      "Epoch 93/400\n",
      "4/4 [==============================] - 0s 14ms/step - loss: 1.1174 - accuracy: 0.4926 - val_loss: 1.0814 - val_accuracy: 0.5482\n",
      "Epoch 94/400\n",
      "4/4 [==============================] - 0s 14ms/step - loss: 1.1088 - accuracy: 0.5153 - val_loss: 1.0787 - val_accuracy: 0.5482\n",
      "Epoch 95/400\n",
      "4/4 [==============================] - 0s 14ms/step - loss: 1.0953 - accuracy: 0.5163 - val_loss: 1.0760 - val_accuracy: 0.5459\n",
      "Epoch 96/400\n",
      "4/4 [==============================] - 0s 14ms/step - loss: 1.0845 - accuracy: 0.5340 - val_loss: 1.0733 - val_accuracy: 0.5505\n",
      "Epoch 97/400\n",
      "4/4 [==============================] - 0s 14ms/step - loss: 1.1060 - accuracy: 0.5025 - val_loss: 1.0707 - val_accuracy: 0.5459\n",
      "Epoch 98/400\n",
      "4/4 [==============================] - 0s 14ms/step - loss: 1.1002 - accuracy: 0.5084 - val_loss: 1.0681 - val_accuracy: 0.5505\n",
      "Epoch 99/400\n",
      "4/4 [==============================] - 0s 16ms/step - loss: 1.0999 - accuracy: 0.5133 - val_loss: 1.0657 - val_accuracy: 0.5596\n",
      "Epoch 100/400\n",
      "4/4 [==============================] - 0s 18ms/step - loss: 1.0870 - accuracy: 0.5271 - val_loss: 1.0634 - val_accuracy: 0.5573\n",
      "Epoch 101/400\n",
      "4/4 [==============================] - 0s 18ms/step - loss: 1.0871 - accuracy: 0.5291 - val_loss: 1.0611 - val_accuracy: 0.5573\n",
      "Epoch 102/400\n",
      "4/4 [==============================] - 0s 17ms/step - loss: 1.0958 - accuracy: 0.5153 - val_loss: 1.0589 - val_accuracy: 0.5550\n",
      "Epoch 103/400\n",
      "4/4 [==============================] - 0s 15ms/step - loss: 1.0635 - accuracy: 0.5537 - val_loss: 1.0567 - val_accuracy: 0.5573\n",
      "Epoch 104/400\n",
      "4/4 [==============================] - 0s 17ms/step - loss: 1.0862 - accuracy: 0.5123 - val_loss: 1.0545 - val_accuracy: 0.5550\n",
      "Epoch 105/400\n",
      "4/4 [==============================] - 0s 17ms/step - loss: 1.0638 - accuracy: 0.5458 - val_loss: 1.0524 - val_accuracy: 0.5596\n",
      "Epoch 106/400\n",
      "4/4 [==============================] - 0s 16ms/step - loss: 1.0745 - accuracy: 0.5419 - val_loss: 1.0503 - val_accuracy: 0.5619\n",
      "Epoch 107/400\n",
      "4/4 [==============================] - 0s 16ms/step - loss: 1.0750 - accuracy: 0.5369 - val_loss: 1.0484 - val_accuracy: 0.5665\n",
      "Epoch 108/400\n",
      "4/4 [==============================] - 0s 17ms/step - loss: 1.0757 - accuracy: 0.5300 - val_loss: 1.0469 - val_accuracy: 0.5596\n",
      "Epoch 109/400\n",
      "4/4 [==============================] - 0s 16ms/step - loss: 1.0706 - accuracy: 0.5330 - val_loss: 1.0455 - val_accuracy: 0.5596\n",
      "Epoch 110/400\n",
      "4/4 [==============================] - 0s 15ms/step - loss: 1.0690 - accuracy: 0.5202 - val_loss: 1.0439 - val_accuracy: 0.5665\n",
      "Epoch 111/400\n",
      "4/4 [==============================] - 0s 15ms/step - loss: 1.0641 - accuracy: 0.5419 - val_loss: 1.0424 - val_accuracy: 0.5619\n",
      "Epoch 112/400\n",
      "4/4 [==============================] - 0s 15ms/step - loss: 1.0708 - accuracy: 0.5655 - val_loss: 1.0410 - val_accuracy: 0.5619\n",
      "Epoch 113/400\n",
      "4/4 [==============================] - 0s 14ms/step - loss: 1.0745 - accuracy: 0.5350 - val_loss: 1.0397 - val_accuracy: 0.5619\n",
      "Epoch 114/400\n",
      "4/4 [==============================] - 0s 15ms/step - loss: 1.0642 - accuracy: 0.5379 - val_loss: 1.0386 - val_accuracy: 0.5619\n",
      "Epoch 115/400\n",
      "4/4 [==============================] - 0s 14ms/step - loss: 1.0697 - accuracy: 0.5300 - val_loss: 1.0377 - val_accuracy: 0.5642\n",
      "Epoch 116/400\n",
      "4/4 [==============================] - 0s 14ms/step - loss: 1.0745 - accuracy: 0.5202 - val_loss: 1.0368 - val_accuracy: 0.5619\n",
      "Epoch 117/400\n",
      "4/4 [==============================] - 0s 14ms/step - loss: 1.0676 - accuracy: 0.5517 - val_loss: 1.0359 - val_accuracy: 0.5619\n",
      "Epoch 118/400\n",
      "4/4 [==============================] - 0s 14ms/step - loss: 1.0559 - accuracy: 0.5537 - val_loss: 1.0349 - val_accuracy: 0.5619\n",
      "Epoch 119/400\n",
      "4/4 [==============================] - 0s 14ms/step - loss: 1.0645 - accuracy: 0.5498 - val_loss: 1.0340 - val_accuracy: 0.5619\n",
      "Epoch 120/400\n",
      "4/4 [==============================] - 0s 14ms/step - loss: 1.0440 - accuracy: 0.5369 - val_loss: 1.0328 - val_accuracy: 0.5619\n",
      "Epoch 121/400\n",
      "4/4 [==============================] - 0s 14ms/step - loss: 1.0621 - accuracy: 0.5241 - val_loss: 1.0316 - val_accuracy: 0.5642\n",
      "Epoch 122/400\n",
      "4/4 [==============================] - 0s 13ms/step - loss: 1.0558 - accuracy: 0.5320 - val_loss: 1.0306 - val_accuracy: 0.5619\n",
      "Epoch 123/400\n",
      "4/4 [==============================] - 0s 14ms/step - loss: 1.0353 - accuracy: 0.5498 - val_loss: 1.0294 - val_accuracy: 0.5642\n",
      "Epoch 124/400\n",
      "4/4 [==============================] - 0s 14ms/step - loss: 1.0478 - accuracy: 0.5567 - val_loss: 1.0283 - val_accuracy: 0.5642\n",
      "Epoch 125/400\n",
      "4/4 [==============================] - 0s 15ms/step - loss: 1.0386 - accuracy: 0.5527 - val_loss: 1.0274 - val_accuracy: 0.5619\n",
      "Epoch 126/400\n",
      "4/4 [==============================] - 0s 15ms/step - loss: 1.0596 - accuracy: 0.5409 - val_loss: 1.0265 - val_accuracy: 0.5619\n",
      "Epoch 127/400\n",
      "4/4 [==============================] - 0s 15ms/step - loss: 1.0650 - accuracy: 0.5281 - val_loss: 1.0259 - val_accuracy: 0.5619\n",
      "Epoch 128/400\n",
      "4/4 [==============================] - 0s 15ms/step - loss: 1.0729 - accuracy: 0.5172 - val_loss: 1.0255 - val_accuracy: 0.5619\n",
      "Epoch 129/400\n",
      "4/4 [==============================] - 0s 15ms/step - loss: 1.0377 - accuracy: 0.5409 - val_loss: 1.0247 - val_accuracy: 0.5642\n",
      "Epoch 130/400\n",
      "4/4 [==============================] - 0s 16ms/step - loss: 1.0455 - accuracy: 0.5369 - val_loss: 1.0238 - val_accuracy: 0.5642\n",
      "Epoch 131/400\n",
      "4/4 [==============================] - 0s 15ms/step - loss: 1.0292 - accuracy: 0.5665 - val_loss: 1.0229 - val_accuracy: 0.5619\n",
      "Epoch 132/400\n",
      "4/4 [==============================] - 0s 15ms/step - loss: 1.0288 - accuracy: 0.5626 - val_loss: 1.0220 - val_accuracy: 0.5619\n",
      "Epoch 133/400\n",
      "4/4 [==============================] - 0s 15ms/step - loss: 1.0449 - accuracy: 0.5153 - val_loss: 1.0211 - val_accuracy: 0.5619\n",
      "Epoch 134/400\n",
      "4/4 [==============================] - 0s 15ms/step - loss: 1.0260 - accuracy: 0.5419 - val_loss: 1.0203 - val_accuracy: 0.5619\n",
      "Epoch 135/400\n",
      "4/4 [==============================] - 0s 15ms/step - loss: 1.0384 - accuracy: 0.5419 - val_loss: 1.0195 - val_accuracy: 0.5596\n",
      "Epoch 136/400\n",
      "4/4 [==============================] - 0s 15ms/step - loss: 1.0491 - accuracy: 0.5300 - val_loss: 1.0189 - val_accuracy: 0.5596\n",
      "Epoch 137/400\n",
      "4/4 [==============================] - 0s 16ms/step - loss: 1.0434 - accuracy: 0.5379 - val_loss: 1.0183 - val_accuracy: 0.5596\n",
      "Epoch 138/400\n",
      "4/4 [==============================] - 0s 17ms/step - loss: 1.0445 - accuracy: 0.5448 - val_loss: 1.0176 - val_accuracy: 0.5596\n",
      "Epoch 139/400\n",
      "4/4 [==============================] - 0s 15ms/step - loss: 1.0300 - accuracy: 0.5478 - val_loss: 1.0169 - val_accuracy: 0.5596\n",
      "Epoch 140/400\n",
      "4/4 [==============================] - 0s 16ms/step - loss: 1.0554 - accuracy: 0.5251 - val_loss: 1.0163 - val_accuracy: 0.5573\n",
      "Epoch 141/400\n",
      "4/4 [==============================] - 0s 15ms/step - loss: 1.0353 - accuracy: 0.5507 - val_loss: 1.0157 - val_accuracy: 0.5573\n",
      "Epoch 142/400\n",
      "4/4 [==============================] - 0s 15ms/step - loss: 1.0379 - accuracy: 0.5498 - val_loss: 1.0151 - val_accuracy: 0.5573\n",
      "Epoch 143/400\n",
      "4/4 [==============================] - 0s 15ms/step - loss: 1.0358 - accuracy: 0.5527 - val_loss: 1.0144 - val_accuracy: 0.5573\n",
      "Epoch 144/400\n",
      "4/4 [==============================] - 0s 15ms/step - loss: 1.0372 - accuracy: 0.5478 - val_loss: 1.0138 - val_accuracy: 0.5573\n",
      "Epoch 145/400\n",
      "4/4 [==============================] - 0s 15ms/step - loss: 1.0338 - accuracy: 0.5350 - val_loss: 1.0132 - val_accuracy: 0.5573\n",
      "Epoch 146/400\n",
      "4/4 [==============================] - 0s 16ms/step - loss: 1.0390 - accuracy: 0.5409 - val_loss: 1.0128 - val_accuracy: 0.5596\n",
      "Epoch 147/400\n",
      "4/4 [==============================] - 0s 15ms/step - loss: 1.0210 - accuracy: 0.5478 - val_loss: 1.0123 - val_accuracy: 0.5573\n",
      "Epoch 148/400\n",
      "4/4 [==============================] - 0s 21ms/step - loss: 1.0310 - accuracy: 0.5498 - val_loss: 1.0119 - val_accuracy: 0.5573\n",
      "Epoch 149/400\n",
      "4/4 [==============================] - 0s 20ms/step - loss: 1.0228 - accuracy: 0.5507 - val_loss: 1.0112 - val_accuracy: 0.5573\n",
      "Epoch 150/400\n",
      "4/4 [==============================] - 0s 14ms/step - loss: 1.0264 - accuracy: 0.5399 - val_loss: 1.0106 - val_accuracy: 0.5596\n",
      "Epoch 151/400\n",
      "4/4 [==============================] - 0s 14ms/step - loss: 1.0220 - accuracy: 0.5507 - val_loss: 1.0100 - val_accuracy: 0.5596\n",
      "Epoch 152/400\n",
      "4/4 [==============================] - 0s 14ms/step - loss: 1.0187 - accuracy: 0.5616 - val_loss: 1.0093 - val_accuracy: 0.5596\n",
      "Epoch 153/400\n",
      "4/4 [==============================] - 0s 14ms/step - loss: 1.0243 - accuracy: 0.5537 - val_loss: 1.0087 - val_accuracy: 0.5596\n",
      "Epoch 154/400\n",
      "4/4 [==============================] - 0s 14ms/step - loss: 1.0244 - accuracy: 0.5557 - val_loss: 1.0082 - val_accuracy: 0.5573\n",
      "Epoch 155/400\n",
      "4/4 [==============================] - 0s 14ms/step - loss: 1.0177 - accuracy: 0.5507 - val_loss: 1.0076 - val_accuracy: 0.5596\n",
      "Epoch 156/400\n",
      "4/4 [==============================] - 0s 15ms/step - loss: 1.0256 - accuracy: 0.5606 - val_loss: 1.0069 - val_accuracy: 0.5573\n",
      "Epoch 157/400\n",
      "4/4 [==============================] - 0s 15ms/step - loss: 1.0266 - accuracy: 0.5468 - val_loss: 1.0063 - val_accuracy: 0.5596\n",
      "Epoch 158/400\n",
      "4/4 [==============================] - 0s 15ms/step - loss: 1.0204 - accuracy: 0.5478 - val_loss: 1.0058 - val_accuracy: 0.5596\n",
      "Epoch 159/400\n",
      "4/4 [==============================] - 0s 15ms/step - loss: 1.0053 - accuracy: 0.5586 - val_loss: 1.0052 - val_accuracy: 0.5619\n",
      "Epoch 160/400\n",
      "4/4 [==============================] - 0s 14ms/step - loss: 1.0308 - accuracy: 0.5665 - val_loss: 1.0048 - val_accuracy: 0.5596\n",
      "Epoch 161/400\n",
      "4/4 [==============================] - 0s 14ms/step - loss: 1.0089 - accuracy: 0.5517 - val_loss: 1.0042 - val_accuracy: 0.5619\n",
      "Epoch 162/400\n",
      "4/4 [==============================] - 0s 14ms/step - loss: 1.0052 - accuracy: 0.5823 - val_loss: 1.0035 - val_accuracy: 0.5642\n",
      "Epoch 163/400\n",
      "4/4 [==============================] - 0s 14ms/step - loss: 1.0182 - accuracy: 0.5468 - val_loss: 1.0029 - val_accuracy: 0.5642\n",
      "Epoch 164/400\n",
      "4/4 [==============================] - 0s 15ms/step - loss: 1.0134 - accuracy: 0.5675 - val_loss: 1.0023 - val_accuracy: 0.5619\n",
      "Epoch 165/400\n",
      "4/4 [==============================] - 0s 14ms/step - loss: 1.0087 - accuracy: 0.5488 - val_loss: 1.0019 - val_accuracy: 0.5619\n",
      "Epoch 166/400\n",
      "4/4 [==============================] - 0s 14ms/step - loss: 1.0197 - accuracy: 0.5537 - val_loss: 1.0015 - val_accuracy: 0.5642\n",
      "Epoch 167/400\n",
      "4/4 [==============================] - 0s 14ms/step - loss: 1.0131 - accuracy: 0.5596 - val_loss: 1.0010 - val_accuracy: 0.5596\n",
      "Epoch 168/400\n",
      "4/4 [==============================] - 0s 14ms/step - loss: 1.0097 - accuracy: 0.5596 - val_loss: 1.0007 - val_accuracy: 0.5619\n",
      "Epoch 169/400\n",
      "4/4 [==============================] - 0s 14ms/step - loss: 0.9961 - accuracy: 0.5557 - val_loss: 1.0001 - val_accuracy: 0.5573\n",
      "Epoch 170/400\n",
      "4/4 [==============================] - 0s 15ms/step - loss: 1.0087 - accuracy: 0.5576 - val_loss: 0.9994 - val_accuracy: 0.5642\n",
      "Epoch 171/400\n",
      "4/4 [==============================] - 0s 14ms/step - loss: 1.0083 - accuracy: 0.5616 - val_loss: 0.9989 - val_accuracy: 0.5642\n",
      "Epoch 172/400\n",
      "4/4 [==============================] - 0s 14ms/step - loss: 1.0077 - accuracy: 0.5704 - val_loss: 0.9984 - val_accuracy: 0.5665\n",
      "Epoch 173/400\n",
      "4/4 [==============================] - 0s 14ms/step - loss: 1.0221 - accuracy: 0.5468 - val_loss: 0.9979 - val_accuracy: 0.5642\n",
      "Epoch 174/400\n",
      "4/4 [==============================] - 0s 14ms/step - loss: 1.0027 - accuracy: 0.5773 - val_loss: 0.9974 - val_accuracy: 0.5665\n",
      "Epoch 175/400\n",
      "4/4 [==============================] - 0s 14ms/step - loss: 1.0033 - accuracy: 0.5626 - val_loss: 0.9969 - val_accuracy: 0.5665\n",
      "Epoch 176/400\n",
      "4/4 [==============================] - 0s 14ms/step - loss: 0.9852 - accuracy: 0.5665 - val_loss: 0.9963 - val_accuracy: 0.5642\n",
      "Epoch 177/400\n",
      "4/4 [==============================] - 0s 15ms/step - loss: 1.0204 - accuracy: 0.5655 - val_loss: 0.9959 - val_accuracy: 0.5642\n",
      "Epoch 178/400\n",
      "4/4 [==============================] - 0s 14ms/step - loss: 1.0019 - accuracy: 0.5596 - val_loss: 0.9957 - val_accuracy: 0.5642\n",
      "Epoch 179/400\n",
      "4/4 [==============================] - 0s 14ms/step - loss: 0.9909 - accuracy: 0.5626 - val_loss: 0.9953 - val_accuracy: 0.5642\n",
      "Epoch 180/400\n",
      "4/4 [==============================] - 0s 15ms/step - loss: 0.9935 - accuracy: 0.5773 - val_loss: 0.9947 - val_accuracy: 0.5688\n",
      "Epoch 181/400\n",
      "4/4 [==============================] - 0s 14ms/step - loss: 0.9977 - accuracy: 0.5576 - val_loss: 0.9943 - val_accuracy: 0.5688\n",
      "Epoch 182/400\n",
      "4/4 [==============================] - 0s 15ms/step - loss: 0.9921 - accuracy: 0.5793 - val_loss: 0.9938 - val_accuracy: 0.5665\n",
      "Epoch 183/400\n",
      "4/4 [==============================] - 0s 14ms/step - loss: 0.9894 - accuracy: 0.5892 - val_loss: 0.9933 - val_accuracy: 0.5665\n",
      "Epoch 184/400\n",
      "4/4 [==============================] - 0s 14ms/step - loss: 0.9788 - accuracy: 0.5990 - val_loss: 0.9929 - val_accuracy: 0.5642\n",
      "Epoch 185/400\n",
      "4/4 [==============================] - 0s 14ms/step - loss: 1.0036 - accuracy: 0.5478 - val_loss: 0.9924 - val_accuracy: 0.5619\n",
      "Epoch 186/400\n",
      "4/4 [==============================] - 0s 14ms/step - loss: 0.9807 - accuracy: 0.5714 - val_loss: 0.9920 - val_accuracy: 0.5665\n",
      "Epoch 187/400\n",
      "4/4 [==============================] - 0s 13ms/step - loss: 0.9972 - accuracy: 0.5862 - val_loss: 0.9915 - val_accuracy: 0.5665\n",
      "Epoch 188/400\n",
      "4/4 [==============================] - 0s 17ms/step - loss: 1.0102 - accuracy: 0.5488 - val_loss: 0.9910 - val_accuracy: 0.5665\n",
      "Epoch 189/400\n",
      "4/4 [==============================] - 0s 14ms/step - loss: 1.0012 - accuracy: 0.5547 - val_loss: 0.9907 - val_accuracy: 0.5665\n",
      "Epoch 190/400\n",
      "4/4 [==============================] - 0s 14ms/step - loss: 1.0119 - accuracy: 0.5576 - val_loss: 0.9903 - val_accuracy: 0.5665\n",
      "Epoch 191/400\n",
      "4/4 [==============================] - 0s 13ms/step - loss: 0.9886 - accuracy: 0.5724 - val_loss: 0.9899 - val_accuracy: 0.5688\n",
      "Epoch 192/400\n",
      "4/4 [==============================] - 0s 14ms/step - loss: 0.9851 - accuracy: 0.5695 - val_loss: 0.9895 - val_accuracy: 0.5665\n",
      "Epoch 193/400\n",
      "4/4 [==============================] - 0s 14ms/step - loss: 0.9960 - accuracy: 0.5695 - val_loss: 0.9891 - val_accuracy: 0.5688\n",
      "Epoch 194/400\n",
      "4/4 [==============================] - 0s 14ms/step - loss: 0.9856 - accuracy: 0.5872 - val_loss: 0.9889 - val_accuracy: 0.5665\n",
      "Epoch 195/400\n",
      "4/4 [==============================] - 0s 14ms/step - loss: 0.9993 - accuracy: 0.5576 - val_loss: 0.9886 - val_accuracy: 0.5688\n",
      "Epoch 196/400\n",
      "4/4 [==============================] - 0s 14ms/step - loss: 0.9990 - accuracy: 0.5389 - val_loss: 0.9884 - val_accuracy: 0.5688\n",
      "Epoch 197/400\n",
      "4/4 [==============================] - 0s 14ms/step - loss: 0.9906 - accuracy: 0.5685 - val_loss: 0.9882 - val_accuracy: 0.5688\n",
      "Epoch 198/400\n",
      "4/4 [==============================] - 0s 14ms/step - loss: 1.0003 - accuracy: 0.5724 - val_loss: 0.9880 - val_accuracy: 0.5688\n",
      "Epoch 199/400\n",
      "4/4 [==============================] - 0s 14ms/step - loss: 1.0014 - accuracy: 0.5744 - val_loss: 0.9878 - val_accuracy: 0.5665\n",
      "Epoch 200/400\n",
      "4/4 [==============================] - 0s 15ms/step - loss: 0.9904 - accuracy: 0.5537 - val_loss: 0.9877 - val_accuracy: 0.5688\n",
      "Epoch 201/400\n",
      "4/4 [==============================] - 0s 15ms/step - loss: 0.9876 - accuracy: 0.5744 - val_loss: 0.9874 - val_accuracy: 0.5665\n",
      "Epoch 202/400\n",
      "4/4 [==============================] - 0s 14ms/step - loss: 0.9864 - accuracy: 0.5665 - val_loss: 0.9871 - val_accuracy: 0.5642\n",
      "Epoch 203/400\n",
      "4/4 [==============================] - 0s 14ms/step - loss: 0.9985 - accuracy: 0.5527 - val_loss: 0.9868 - val_accuracy: 0.5665\n",
      "Epoch 204/400\n",
      "4/4 [==============================] - 0s 15ms/step - loss: 0.9915 - accuracy: 0.5842 - val_loss: 0.9865 - val_accuracy: 0.5665\n",
      "Epoch 205/400\n",
      "4/4 [==============================] - 0s 16ms/step - loss: 0.9838 - accuracy: 0.5833 - val_loss: 0.9861 - val_accuracy: 0.5688\n",
      "Epoch 206/400\n",
      "4/4 [==============================] - 0s 16ms/step - loss: 0.9727 - accuracy: 0.5764 - val_loss: 0.9857 - val_accuracy: 0.5688\n",
      "Epoch 207/400\n",
      "4/4 [==============================] - 0s 15ms/step - loss: 0.9950 - accuracy: 0.5596 - val_loss: 0.9854 - val_accuracy: 0.5711\n",
      "Epoch 208/400\n",
      "4/4 [==============================] - 0s 15ms/step - loss: 0.9913 - accuracy: 0.5655 - val_loss: 0.9851 - val_accuracy: 0.5711\n",
      "Epoch 209/400\n",
      "4/4 [==============================] - 0s 15ms/step - loss: 0.9988 - accuracy: 0.5606 - val_loss: 0.9849 - val_accuracy: 0.5711\n",
      "Epoch 210/400\n",
      "4/4 [==============================] - 0s 16ms/step - loss: 1.0008 - accuracy: 0.5507 - val_loss: 0.9847 - val_accuracy: 0.5688\n",
      "Epoch 211/400\n",
      "4/4 [==============================] - 0s 15ms/step - loss: 0.9960 - accuracy: 0.5754 - val_loss: 0.9847 - val_accuracy: 0.5688\n",
      "Epoch 212/400\n",
      "4/4 [==============================] - 0s 18ms/step - loss: 0.9870 - accuracy: 0.5872 - val_loss: 0.9845 - val_accuracy: 0.5688\n",
      "Epoch 213/400\n",
      "4/4 [==============================] - 0s 17ms/step - loss: 0.9923 - accuracy: 0.5714 - val_loss: 0.9841 - val_accuracy: 0.5665\n",
      "Epoch 214/400\n",
      "4/4 [==============================] - 0s 17ms/step - loss: 1.0081 - accuracy: 0.5685 - val_loss: 0.9839 - val_accuracy: 0.5665\n",
      "Epoch 215/400\n",
      "4/4 [==============================] - 0s 16ms/step - loss: 0.9820 - accuracy: 0.5823 - val_loss: 0.9836 - val_accuracy: 0.5711\n",
      "Epoch 216/400\n",
      "4/4 [==============================] - 0s 18ms/step - loss: 1.0020 - accuracy: 0.5537 - val_loss: 0.9835 - val_accuracy: 0.5711\n",
      "Epoch 217/400\n",
      "4/4 [==============================] - 0s 17ms/step - loss: 0.9672 - accuracy: 0.5714 - val_loss: 0.9833 - val_accuracy: 0.5711\n",
      "Epoch 218/400\n",
      "4/4 [==============================] - 0s 18ms/step - loss: 0.9921 - accuracy: 0.5606 - val_loss: 0.9830 - val_accuracy: 0.5711\n",
      "Epoch 219/400\n",
      "4/4 [==============================] - 0s 18ms/step - loss: 1.0049 - accuracy: 0.5537 - val_loss: 0.9828 - val_accuracy: 0.5711\n",
      "Epoch 220/400\n",
      "4/4 [==============================] - 0s 17ms/step - loss: 0.9735 - accuracy: 0.5724 - val_loss: 0.9826 - val_accuracy: 0.5711\n",
      "Epoch 221/400\n",
      "4/4 [==============================] - 0s 17ms/step - loss: 0.9836 - accuracy: 0.5764 - val_loss: 0.9823 - val_accuracy: 0.5711\n",
      "Epoch 222/400\n",
      "4/4 [==============================] - 0s 19ms/step - loss: 0.9658 - accuracy: 0.5626 - val_loss: 0.9820 - val_accuracy: 0.5688\n",
      "Epoch 223/400\n",
      "4/4 [==============================] - 0s 20ms/step - loss: 0.9949 - accuracy: 0.5626 - val_loss: 0.9817 - val_accuracy: 0.5688\n",
      "Epoch 224/400\n",
      "4/4 [==============================] - 0s 18ms/step - loss: 0.9875 - accuracy: 0.5517 - val_loss: 0.9815 - val_accuracy: 0.5665\n",
      "Epoch 225/400\n",
      "4/4 [==============================] - 0s 15ms/step - loss: 0.9673 - accuracy: 0.5852 - val_loss: 0.9813 - val_accuracy: 0.5688\n",
      "Epoch 226/400\n",
      "4/4 [==============================] - 0s 17ms/step - loss: 0.9812 - accuracy: 0.5626 - val_loss: 0.9811 - val_accuracy: 0.5688\n",
      "Epoch 227/400\n",
      "4/4 [==============================] - 0s 17ms/step - loss: 0.9833 - accuracy: 0.5665 - val_loss: 0.9808 - val_accuracy: 0.5688\n",
      "Epoch 228/400\n",
      "4/4 [==============================] - 0s 17ms/step - loss: 1.0014 - accuracy: 0.5626 - val_loss: 0.9804 - val_accuracy: 0.5688\n",
      "Epoch 229/400\n",
      "4/4 [==============================] - 0s 15ms/step - loss: 0.9850 - accuracy: 0.5695 - val_loss: 0.9802 - val_accuracy: 0.5688\n",
      "Epoch 230/400\n",
      "4/4 [==============================] - 0s 18ms/step - loss: 0.9770 - accuracy: 0.5606 - val_loss: 0.9799 - val_accuracy: 0.5688\n",
      "Epoch 231/400\n",
      "4/4 [==============================] - 0s 17ms/step - loss: 0.9912 - accuracy: 0.5616 - val_loss: 0.9798 - val_accuracy: 0.5688\n",
      "Epoch 232/400\n",
      "4/4 [==============================] - 0s 18ms/step - loss: 0.9892 - accuracy: 0.5695 - val_loss: 0.9797 - val_accuracy: 0.5688\n",
      "Epoch 233/400\n",
      "4/4 [==============================] - 0s 18ms/step - loss: 0.9881 - accuracy: 0.5754 - val_loss: 0.9796 - val_accuracy: 0.5665\n",
      "Epoch 234/400\n",
      "4/4 [==============================] - 0s 17ms/step - loss: 0.9738 - accuracy: 0.5862 - val_loss: 0.9795 - val_accuracy: 0.5665\n",
      "Epoch 235/400\n",
      "4/4 [==============================] - 0s 15ms/step - loss: 0.9750 - accuracy: 0.6010 - val_loss: 0.9795 - val_accuracy: 0.5688\n",
      "Epoch 236/400\n",
      "4/4 [==============================] - 0s 16ms/step - loss: 0.9647 - accuracy: 0.5862 - val_loss: 0.9793 - val_accuracy: 0.5688\n",
      "Epoch 237/400\n",
      "4/4 [==============================] - 0s 15ms/step - loss: 0.9793 - accuracy: 0.5754 - val_loss: 0.9789 - val_accuracy: 0.5688\n",
      "Epoch 238/400\n",
      "4/4 [==============================] - 0s 16ms/step - loss: 0.9840 - accuracy: 0.5626 - val_loss: 0.9786 - val_accuracy: 0.5688\n",
      "Epoch 239/400\n",
      "4/4 [==============================] - 0s 18ms/step - loss: 0.9647 - accuracy: 0.5813 - val_loss: 0.9782 - val_accuracy: 0.5688\n",
      "Epoch 240/400\n",
      "4/4 [==============================] - 0s 17ms/step - loss: 0.9865 - accuracy: 0.5793 - val_loss: 0.9777 - val_accuracy: 0.5665\n",
      "Epoch 241/400\n",
      "4/4 [==============================] - 0s 17ms/step - loss: 0.9957 - accuracy: 0.5537 - val_loss: 0.9775 - val_accuracy: 0.5665\n",
      "Epoch 242/400\n",
      "4/4 [==============================] - 0s 19ms/step - loss: 0.9913 - accuracy: 0.5744 - val_loss: 0.9773 - val_accuracy: 0.5665\n",
      "Epoch 243/400\n",
      "4/4 [==============================] - 0s 18ms/step - loss: 0.9779 - accuracy: 0.5852 - val_loss: 0.9770 - val_accuracy: 0.5665\n",
      "Epoch 244/400\n",
      "4/4 [==============================] - 0s 19ms/step - loss: 0.9717 - accuracy: 0.5813 - val_loss: 0.9768 - val_accuracy: 0.5665\n",
      "Epoch 245/400\n",
      "4/4 [==============================] - 0s 18ms/step - loss: 0.9783 - accuracy: 0.5862 - val_loss: 0.9767 - val_accuracy: 0.5665\n",
      "Epoch 246/400\n",
      "4/4 [==============================] - 0s 20ms/step - loss: 0.9607 - accuracy: 0.5783 - val_loss: 0.9765 - val_accuracy: 0.5665\n",
      "Epoch 247/400\n",
      "4/4 [==============================] - 0s 17ms/step - loss: 0.9839 - accuracy: 0.5537 - val_loss: 0.9762 - val_accuracy: 0.5665\n",
      "Epoch 248/400\n",
      "4/4 [==============================] - 0s 20ms/step - loss: 0.9878 - accuracy: 0.5685 - val_loss: 0.9760 - val_accuracy: 0.5665\n",
      "Epoch 249/400\n",
      "4/4 [==============================] - 0s 17ms/step - loss: 0.9783 - accuracy: 0.5793 - val_loss: 0.9757 - val_accuracy: 0.5688\n",
      "Epoch 250/400\n",
      "4/4 [==============================] - 0s 18ms/step - loss: 0.9500 - accuracy: 0.5921 - val_loss: 0.9755 - val_accuracy: 0.5642\n",
      "Epoch 251/400\n",
      "4/4 [==============================] - 0s 15ms/step - loss: 0.9623 - accuracy: 0.5921 - val_loss: 0.9752 - val_accuracy: 0.5665\n",
      "Epoch 252/400\n",
      "4/4 [==============================] - 0s 16ms/step - loss: 0.9906 - accuracy: 0.5606 - val_loss: 0.9751 - val_accuracy: 0.5688\n",
      "Epoch 253/400\n",
      "4/4 [==============================] - 0s 16ms/step - loss: 0.9876 - accuracy: 0.5931 - val_loss: 0.9748 - val_accuracy: 0.5688\n",
      "Epoch 254/400\n",
      "4/4 [==============================] - 0s 16ms/step - loss: 0.9525 - accuracy: 0.5862 - val_loss: 0.9741 - val_accuracy: 0.5688\n",
      "Epoch 255/400\n",
      "4/4 [==============================] - 0s 16ms/step - loss: 0.9510 - accuracy: 0.5901 - val_loss: 0.9737 - val_accuracy: 0.5688\n",
      "Epoch 256/400\n",
      "4/4 [==============================] - 0s 17ms/step - loss: 0.9598 - accuracy: 0.5793 - val_loss: 0.9733 - val_accuracy: 0.5688\n",
      "Epoch 257/400\n",
      "4/4 [==============================] - 0s 17ms/step - loss: 0.9694 - accuracy: 0.5803 - val_loss: 0.9729 - val_accuracy: 0.5711\n",
      "Epoch 258/400\n",
      "4/4 [==============================] - 0s 16ms/step - loss: 0.9629 - accuracy: 0.5901 - val_loss: 0.9727 - val_accuracy: 0.5688\n",
      "Epoch 259/400\n",
      "4/4 [==============================] - 0s 17ms/step - loss: 0.9635 - accuracy: 0.5793 - val_loss: 0.9723 - val_accuracy: 0.5665\n",
      "Epoch 260/400\n",
      "4/4 [==============================] - 0s 18ms/step - loss: 0.9511 - accuracy: 0.5921 - val_loss: 0.9719 - val_accuracy: 0.5688\n",
      "Epoch 261/400\n",
      "4/4 [==============================] - 0s 17ms/step - loss: 0.9721 - accuracy: 0.5704 - val_loss: 0.9718 - val_accuracy: 0.5711\n",
      "Epoch 262/400\n",
      "4/4 [==============================] - 0s 16ms/step - loss: 0.9766 - accuracy: 0.6000 - val_loss: 0.9717 - val_accuracy: 0.5711\n",
      "Epoch 263/400\n",
      "4/4 [==============================] - 0s 16ms/step - loss: 0.9594 - accuracy: 0.5842 - val_loss: 0.9715 - val_accuracy: 0.5711\n",
      "Epoch 264/400\n",
      "4/4 [==============================] - 0s 16ms/step - loss: 0.9725 - accuracy: 0.5852 - val_loss: 0.9715 - val_accuracy: 0.5734\n",
      "Epoch 265/400\n",
      "4/4 [==============================] - 0s 17ms/step - loss: 0.9610 - accuracy: 0.5852 - val_loss: 0.9717 - val_accuracy: 0.5711\n",
      "Epoch 266/400\n",
      "4/4 [==============================] - 0s 16ms/step - loss: 0.9721 - accuracy: 0.5833 - val_loss: 0.9717 - val_accuracy: 0.5711\n",
      "Epoch 267/400\n",
      "4/4 [==============================] - 0s 16ms/step - loss: 0.9498 - accuracy: 0.5911 - val_loss: 0.9717 - val_accuracy: 0.5711\n",
      "Epoch 268/400\n",
      "4/4 [==============================] - 0s 16ms/step - loss: 0.9606 - accuracy: 0.6069 - val_loss: 0.9719 - val_accuracy: 0.5734\n",
      "Epoch 269/400\n",
      "4/4 [==============================] - 0s 16ms/step - loss: 0.9700 - accuracy: 0.5862 - val_loss: 0.9721 - val_accuracy: 0.5757\n",
      "Epoch 270/400\n",
      "4/4 [==============================] - 0s 16ms/step - loss: 0.9528 - accuracy: 0.6039 - val_loss: 0.9723 - val_accuracy: 0.5803\n",
      "Epoch 271/400\n",
      "4/4 [==============================] - 0s 18ms/step - loss: 0.9671 - accuracy: 0.5882 - val_loss: 0.9722 - val_accuracy: 0.5803\n",
      "Epoch 272/400\n",
      "4/4 [==============================] - 0s 16ms/step - loss: 0.9586 - accuracy: 0.5931 - val_loss: 0.9718 - val_accuracy: 0.5734\n",
      "Epoch 273/400\n",
      "4/4 [==============================] - 0s 16ms/step - loss: 0.9612 - accuracy: 0.5921 - val_loss: 0.9716 - val_accuracy: 0.5734\n",
      "Epoch 274/400\n",
      "4/4 [==============================] - 0s 17ms/step - loss: 0.9614 - accuracy: 0.5833 - val_loss: 0.9714 - val_accuracy: 0.5734\n",
      "Epoch 275/400\n",
      "4/4 [==============================] - 0s 16ms/step - loss: 0.9558 - accuracy: 0.5872 - val_loss: 0.9711 - val_accuracy: 0.5734\n",
      "Epoch 276/400\n",
      "4/4 [==============================] - 0s 16ms/step - loss: 0.9688 - accuracy: 0.5901 - val_loss: 0.9709 - val_accuracy: 0.5734\n",
      "Epoch 277/400\n",
      "4/4 [==============================] - 0s 16ms/step - loss: 0.9406 - accuracy: 0.6049 - val_loss: 0.9708 - val_accuracy: 0.5757\n",
      "Epoch 278/400\n",
      "4/4 [==============================] - 0s 18ms/step - loss: 0.9643 - accuracy: 0.5833 - val_loss: 0.9706 - val_accuracy: 0.5757\n",
      "Epoch 279/400\n",
      "4/4 [==============================] - 0s 17ms/step - loss: 0.9488 - accuracy: 0.5773 - val_loss: 0.9706 - val_accuracy: 0.5757\n",
      "Epoch 280/400\n",
      "4/4 [==============================] - 0s 15ms/step - loss: 0.9752 - accuracy: 0.5852 - val_loss: 0.9706 - val_accuracy: 0.5757\n",
      "Epoch 281/400\n",
      "4/4 [==============================] - 0s 16ms/step - loss: 0.9413 - accuracy: 0.5813 - val_loss: 0.9705 - val_accuracy: 0.5757\n",
      "Epoch 282/400\n",
      "4/4 [==============================] - 0s 16ms/step - loss: 0.9599 - accuracy: 0.5872 - val_loss: 0.9702 - val_accuracy: 0.5734\n",
      "Epoch 283/400\n",
      "4/4 [==============================] - 0s 16ms/step - loss: 0.9520 - accuracy: 0.5862 - val_loss: 0.9700 - val_accuracy: 0.5711\n",
      "Epoch 284/400\n",
      "4/4 [==============================] - 0s 15ms/step - loss: 0.9534 - accuracy: 0.5911 - val_loss: 0.9699 - val_accuracy: 0.5757\n",
      "Epoch 285/400\n",
      "4/4 [==============================] - 0s 18ms/step - loss: 0.9613 - accuracy: 0.6089 - val_loss: 0.9697 - val_accuracy: 0.5757\n",
      "Epoch 286/400\n",
      "4/4 [==============================] - 0s 17ms/step - loss: 0.9558 - accuracy: 0.5970 - val_loss: 0.9695 - val_accuracy: 0.5734\n",
      "Epoch 287/400\n",
      "4/4 [==============================] - 0s 18ms/step - loss: 0.9488 - accuracy: 0.5852 - val_loss: 0.9693 - val_accuracy: 0.5734\n",
      "Epoch 288/400\n",
      "4/4 [==============================] - 0s 16ms/step - loss: 0.9498 - accuracy: 0.5921 - val_loss: 0.9693 - val_accuracy: 0.5757\n",
      "Epoch 289/400\n",
      "4/4 [==============================] - 0s 17ms/step - loss: 0.9670 - accuracy: 0.5852 - val_loss: 0.9693 - val_accuracy: 0.5757\n",
      "Epoch 290/400\n",
      "4/4 [==============================] - 0s 16ms/step - loss: 0.9600 - accuracy: 0.5911 - val_loss: 0.9691 - val_accuracy: 0.5757\n",
      "Epoch 291/400\n",
      "4/4 [==============================] - 0s 15ms/step - loss: 0.9542 - accuracy: 0.6039 - val_loss: 0.9690 - val_accuracy: 0.5757\n",
      "Epoch 292/400\n",
      "4/4 [==============================] - 0s 15ms/step - loss: 0.9493 - accuracy: 0.5754 - val_loss: 0.9690 - val_accuracy: 0.5757\n",
      "Epoch 293/400\n",
      "4/4 [==============================] - 0s 17ms/step - loss: 0.9645 - accuracy: 0.5931 - val_loss: 0.9690 - val_accuracy: 0.5757\n",
      "Epoch 294/400\n",
      "4/4 [==============================] - 0s 15ms/step - loss: 0.9583 - accuracy: 0.5842 - val_loss: 0.9688 - val_accuracy: 0.5757\n",
      "Epoch 295/400\n",
      "4/4 [==============================] - 0s 16ms/step - loss: 0.9590 - accuracy: 0.5872 - val_loss: 0.9686 - val_accuracy: 0.5757\n",
      "Epoch 296/400\n",
      "4/4 [==============================] - 0s 16ms/step - loss: 0.9429 - accuracy: 0.5970 - val_loss: 0.9685 - val_accuracy: 0.5757\n",
      "Epoch 297/400\n",
      "4/4 [==============================] - 0s 15ms/step - loss: 0.9385 - accuracy: 0.5901 - val_loss: 0.9683 - val_accuracy: 0.5734\n",
      "Epoch 298/400\n",
      "4/4 [==============================] - 0s 14ms/step - loss: 0.9648 - accuracy: 0.5872 - val_loss: 0.9683 - val_accuracy: 0.5734\n",
      "Epoch 299/400\n",
      "4/4 [==============================] - 0s 15ms/step - loss: 0.9642 - accuracy: 0.5823 - val_loss: 0.9683 - val_accuracy: 0.5734\n",
      "Epoch 300/400\n",
      "4/4 [==============================] - 0s 16ms/step - loss: 0.9599 - accuracy: 0.5793 - val_loss: 0.9683 - val_accuracy: 0.5734\n",
      "Epoch 301/400\n",
      "4/4 [==============================] - 0s 16ms/step - loss: 0.9476 - accuracy: 0.5882 - val_loss: 0.9683 - val_accuracy: 0.5688\n",
      "Epoch 302/400\n",
      "4/4 [==============================] - 0s 16ms/step - loss: 0.9651 - accuracy: 0.5852 - val_loss: 0.9683 - val_accuracy: 0.5688\n",
      "Epoch 303/400\n",
      "4/4 [==============================] - 0s 16ms/step - loss: 0.9505 - accuracy: 0.5970 - val_loss: 0.9681 - val_accuracy: 0.5688\n",
      "Epoch 304/400\n",
      "4/4 [==============================] - 0s 16ms/step - loss: 0.9386 - accuracy: 0.5921 - val_loss: 0.9679 - val_accuracy: 0.5711\n",
      "Epoch 305/400\n",
      "4/4 [==============================] - 0s 18ms/step - loss: 0.9583 - accuracy: 0.5931 - val_loss: 0.9680 - val_accuracy: 0.5757\n",
      "Epoch 306/400\n",
      "4/4 [==============================] - 0s 17ms/step - loss: 0.9418 - accuracy: 0.5990 - val_loss: 0.9682 - val_accuracy: 0.5757\n",
      "Epoch 307/400\n",
      "4/4 [==============================] - 0s 21ms/step - loss: 0.9411 - accuracy: 0.5941 - val_loss: 0.9680 - val_accuracy: 0.5734\n",
      "Epoch 308/400\n",
      "4/4 [==============================] - 0s 17ms/step - loss: 0.9565 - accuracy: 0.5901 - val_loss: 0.9680 - val_accuracy: 0.5757\n",
      "Epoch 309/400\n",
      "4/4 [==============================] - 0s 16ms/step - loss: 0.9434 - accuracy: 0.5892 - val_loss: 0.9680 - val_accuracy: 0.5734\n",
      "Epoch 310/400\n",
      "4/4 [==============================] - 0s 18ms/step - loss: 0.9602 - accuracy: 0.5714 - val_loss: 0.9680 - val_accuracy: 0.5734\n",
      "Epoch 311/400\n",
      "4/4 [==============================] - 0s 17ms/step - loss: 0.9497 - accuracy: 0.5901 - val_loss: 0.9680 - val_accuracy: 0.5734\n",
      "Epoch 312/400\n",
      "4/4 [==============================] - 0s 18ms/step - loss: 0.9522 - accuracy: 0.5901 - val_loss: 0.9682 - val_accuracy: 0.5803\n",
      "Epoch 313/400\n",
      "4/4 [==============================] - 0s 21ms/step - loss: 0.9502 - accuracy: 0.5872 - val_loss: 0.9680 - val_accuracy: 0.5780\n",
      "Epoch 314/400\n",
      "4/4 [==============================] - 0s 19ms/step - loss: 0.9479 - accuracy: 0.5980 - val_loss: 0.9680 - val_accuracy: 0.5757\n",
      "Epoch 315/400\n",
      "4/4 [==============================] - 0s 20ms/step - loss: 0.9438 - accuracy: 0.5941 - val_loss: 0.9678 - val_accuracy: 0.5757\n",
      "Epoch 316/400\n",
      "4/4 [==============================] - 0s 21ms/step - loss: 0.9428 - accuracy: 0.6118 - val_loss: 0.9675 - val_accuracy: 0.5734\n",
      "Epoch 317/400\n",
      "4/4 [==============================] - 0s 17ms/step - loss: 0.9450 - accuracy: 0.5980 - val_loss: 0.9673 - val_accuracy: 0.5734\n",
      "Epoch 318/400\n",
      "4/4 [==============================] - 0s 20ms/step - loss: 0.9532 - accuracy: 0.6128 - val_loss: 0.9670 - val_accuracy: 0.5734\n",
      "Epoch 319/400\n",
      "4/4 [==============================] - 0s 21ms/step - loss: 0.9500 - accuracy: 0.5961 - val_loss: 0.9667 - val_accuracy: 0.5734\n",
      "Epoch 320/400\n",
      "4/4 [==============================] - 0s 16ms/step - loss: 0.9483 - accuracy: 0.5852 - val_loss: 0.9666 - val_accuracy: 0.5734\n",
      "Epoch 321/400\n",
      "4/4 [==============================] - 0s 16ms/step - loss: 0.9439 - accuracy: 0.5941 - val_loss: 0.9665 - val_accuracy: 0.5780\n",
      "Epoch 322/400\n",
      "4/4 [==============================] - 0s 16ms/step - loss: 0.9351 - accuracy: 0.5970 - val_loss: 0.9663 - val_accuracy: 0.5826\n",
      "Epoch 323/400\n",
      "4/4 [==============================] - 0s 16ms/step - loss: 0.9417 - accuracy: 0.5970 - val_loss: 0.9660 - val_accuracy: 0.5803\n",
      "Epoch 324/400\n",
      "4/4 [==============================] - 0s 16ms/step - loss: 0.9542 - accuracy: 0.5911 - val_loss: 0.9658 - val_accuracy: 0.5757\n",
      "Epoch 325/400\n",
      "4/4 [==============================] - 0s 16ms/step - loss: 0.9518 - accuracy: 0.5862 - val_loss: 0.9657 - val_accuracy: 0.5734\n",
      "Epoch 326/400\n",
      "4/4 [==============================] - 0s 18ms/step - loss: 0.9200 - accuracy: 0.6020 - val_loss: 0.9656 - val_accuracy: 0.5711\n",
      "Epoch 327/400\n",
      "4/4 [==============================] - 0s 18ms/step - loss: 0.9296 - accuracy: 0.6000 - val_loss: 0.9654 - val_accuracy: 0.5711\n",
      "Epoch 328/400\n",
      "4/4 [==============================] - 0s 18ms/step - loss: 0.9453 - accuracy: 0.6010 - val_loss: 0.9652 - val_accuracy: 0.5757\n",
      "Epoch 329/400\n",
      "4/4 [==============================] - 0s 18ms/step - loss: 0.9304 - accuracy: 0.5961 - val_loss: 0.9650 - val_accuracy: 0.5757\n",
      "Epoch 330/400\n",
      "4/4 [==============================] - 0s 19ms/step - loss: 0.9417 - accuracy: 0.6059 - val_loss: 0.9649 - val_accuracy: 0.5780\n",
      "Epoch 331/400\n",
      "4/4 [==============================] - 0s 17ms/step - loss: 0.9487 - accuracy: 0.5951 - val_loss: 0.9648 - val_accuracy: 0.5780\n",
      "Epoch 332/400\n",
      "4/4 [==============================] - 0s 16ms/step - loss: 0.9310 - accuracy: 0.6010 - val_loss: 0.9647 - val_accuracy: 0.5780\n",
      "Epoch 333/400\n",
      "4/4 [==============================] - 0s 15ms/step - loss: 0.9449 - accuracy: 0.5980 - val_loss: 0.9645 - val_accuracy: 0.5734\n",
      "Epoch 334/400\n",
      "4/4 [==============================] - 0s 17ms/step - loss: 0.9329 - accuracy: 0.6197 - val_loss: 0.9643 - val_accuracy: 0.5757\n",
      "Epoch 335/400\n",
      "4/4 [==============================] - 0s 15ms/step - loss: 0.9268 - accuracy: 0.5951 - val_loss: 0.9639 - val_accuracy: 0.5757\n",
      "Epoch 336/400\n",
      "4/4 [==============================] - 0s 16ms/step - loss: 0.9308 - accuracy: 0.6049 - val_loss: 0.9635 - val_accuracy: 0.5757\n",
      "Epoch 337/400\n",
      "4/4 [==============================] - 0s 17ms/step - loss: 0.9316 - accuracy: 0.5931 - val_loss: 0.9633 - val_accuracy: 0.5757\n",
      "Epoch 338/400\n",
      "4/4 [==============================] - 0s 18ms/step - loss: 0.9428 - accuracy: 0.6000 - val_loss: 0.9631 - val_accuracy: 0.5757\n",
      "Epoch 339/400\n",
      "4/4 [==============================] - 0s 18ms/step - loss: 0.9266 - accuracy: 0.6158 - val_loss: 0.9630 - val_accuracy: 0.5757\n",
      "Epoch 340/400\n",
      "4/4 [==============================] - 0s 18ms/step - loss: 0.9421 - accuracy: 0.5951 - val_loss: 0.9629 - val_accuracy: 0.5757\n",
      "Epoch 341/400\n",
      "4/4 [==============================] - 0s 17ms/step - loss: 0.9288 - accuracy: 0.6000 - val_loss: 0.9627 - val_accuracy: 0.5734\n",
      "Epoch 342/400\n",
      "4/4 [==============================] - 0s 18ms/step - loss: 0.9395 - accuracy: 0.5980 - val_loss: 0.9625 - val_accuracy: 0.5757\n",
      "Epoch 343/400\n",
      "4/4 [==============================] - 0s 18ms/step - loss: 0.9374 - accuracy: 0.5901 - val_loss: 0.9623 - val_accuracy: 0.5757\n",
      "Epoch 344/400\n",
      "4/4 [==============================] - 0s 21ms/step - loss: 0.9535 - accuracy: 0.5921 - val_loss: 0.9623 - val_accuracy: 0.5757\n",
      "Epoch 345/400\n",
      "4/4 [==============================] - 0s 19ms/step - loss: 0.9361 - accuracy: 0.6020 - val_loss: 0.9623 - val_accuracy: 0.5757\n",
      "Epoch 346/400\n",
      "4/4 [==============================] - 0s 27ms/step - loss: 0.9313 - accuracy: 0.6089 - val_loss: 0.9623 - val_accuracy: 0.5757\n",
      "Epoch 347/400\n",
      "4/4 [==============================] - 0s 20ms/step - loss: 0.9312 - accuracy: 0.6049 - val_loss: 0.9624 - val_accuracy: 0.5757\n",
      "Epoch 348/400\n",
      "4/4 [==============================] - 0s 15ms/step - loss: 0.9382 - accuracy: 0.6049 - val_loss: 0.9626 - val_accuracy: 0.5803\n",
      "Epoch 349/400\n",
      "4/4 [==============================] - 0s 16ms/step - loss: 0.9496 - accuracy: 0.6030 - val_loss: 0.9624 - val_accuracy: 0.5757\n",
      "Epoch 350/400\n",
      "4/4 [==============================] - 0s 18ms/step - loss: 0.9344 - accuracy: 0.6049 - val_loss: 0.9623 - val_accuracy: 0.5734\n",
      "Epoch 351/400\n",
      "4/4 [==============================] - 0s 16ms/step - loss: 0.9318 - accuracy: 0.6059 - val_loss: 0.9622 - val_accuracy: 0.5734\n",
      "Epoch 352/400\n",
      "4/4 [==============================] - 0s 18ms/step - loss: 0.9351 - accuracy: 0.6138 - val_loss: 0.9620 - val_accuracy: 0.5734\n",
      "Epoch 353/400\n",
      "4/4 [==============================] - 0s 15ms/step - loss: 0.9342 - accuracy: 0.6099 - val_loss: 0.9619 - val_accuracy: 0.5734\n",
      "Epoch 354/400\n",
      "4/4 [==============================] - 0s 15ms/step - loss: 0.9333 - accuracy: 0.6138 - val_loss: 0.9619 - val_accuracy: 0.5734\n",
      "Epoch 355/400\n",
      "4/4 [==============================] - 0s 16ms/step - loss: 0.9399 - accuracy: 0.5941 - val_loss: 0.9619 - val_accuracy: 0.5734\n",
      "Epoch 356/400\n",
      "4/4 [==============================] - 0s 17ms/step - loss: 0.9054 - accuracy: 0.6059 - val_loss: 0.9619 - val_accuracy: 0.5803\n",
      "Epoch 357/400\n",
      "4/4 [==============================] - 0s 17ms/step - loss: 0.9277 - accuracy: 0.6079 - val_loss: 0.9617 - val_accuracy: 0.5803\n",
      "Epoch 358/400\n",
      "4/4 [==============================] - 0s 15ms/step - loss: 0.9400 - accuracy: 0.5852 - val_loss: 0.9616 - val_accuracy: 0.5803\n",
      "Epoch 359/400\n",
      "4/4 [==============================] - 0s 15ms/step - loss: 0.9338 - accuracy: 0.6059 - val_loss: 0.9615 - val_accuracy: 0.5803\n",
      "Epoch 360/400\n",
      "4/4 [==============================] - 0s 16ms/step - loss: 0.9220 - accuracy: 0.6099 - val_loss: 0.9612 - val_accuracy: 0.5734\n",
      "Epoch 361/400\n",
      "4/4 [==============================] - 0s 15ms/step - loss: 0.9362 - accuracy: 0.6069 - val_loss: 0.9612 - val_accuracy: 0.5734\n",
      "Epoch 362/400\n",
      "4/4 [==============================] - 0s 14ms/step - loss: 0.9277 - accuracy: 0.5911 - val_loss: 0.9612 - val_accuracy: 0.5734\n",
      "Epoch 363/400\n",
      "4/4 [==============================] - 0s 17ms/step - loss: 0.9499 - accuracy: 0.5724 - val_loss: 0.9611 - val_accuracy: 0.5734\n",
      "Epoch 364/400\n",
      "4/4 [==============================] - 0s 16ms/step - loss: 0.9334 - accuracy: 0.5921 - val_loss: 0.9612 - val_accuracy: 0.5734\n",
      "Epoch 365/400\n",
      "4/4 [==============================] - 0s 15ms/step - loss: 0.9464 - accuracy: 0.5823 - val_loss: 0.9614 - val_accuracy: 0.5757\n",
      "Epoch 366/400\n",
      "4/4 [==============================] - 0s 15ms/step - loss: 0.9308 - accuracy: 0.6039 - val_loss: 0.9614 - val_accuracy: 0.5803\n",
      "Epoch 367/400\n",
      "4/4 [==============================] - 0s 16ms/step - loss: 0.9354 - accuracy: 0.5980 - val_loss: 0.9612 - val_accuracy: 0.5803\n",
      "Epoch 368/400\n",
      "4/4 [==============================] - 0s 15ms/step - loss: 0.9435 - accuracy: 0.5882 - val_loss: 0.9611 - val_accuracy: 0.5734\n",
      "Epoch 369/400\n",
      "4/4 [==============================] - 0s 16ms/step - loss: 0.9285 - accuracy: 0.6069 - val_loss: 0.9611 - val_accuracy: 0.5734\n",
      "Epoch 370/400\n",
      "4/4 [==============================] - 0s 16ms/step - loss: 0.9397 - accuracy: 0.5901 - val_loss: 0.9612 - val_accuracy: 0.5734\n",
      "Epoch 371/400\n",
      "4/4 [==============================] - 0s 15ms/step - loss: 0.9350 - accuracy: 0.5941 - val_loss: 0.9611 - val_accuracy: 0.5734\n",
      "Epoch 372/400\n",
      "4/4 [==============================] - 0s 17ms/step - loss: 0.9206 - accuracy: 0.6000 - val_loss: 0.9610 - val_accuracy: 0.5734\n",
      "Epoch 373/400\n",
      "4/4 [==============================] - 0s 16ms/step - loss: 0.9312 - accuracy: 0.5941 - val_loss: 0.9609 - val_accuracy: 0.5803\n",
      "Epoch 374/400\n",
      "4/4 [==============================] - 0s 15ms/step - loss: 0.9254 - accuracy: 0.6000 - val_loss: 0.9607 - val_accuracy: 0.5803\n",
      "Epoch 375/400\n",
      "4/4 [==============================] - 0s 15ms/step - loss: 0.9227 - accuracy: 0.5931 - val_loss: 0.9606 - val_accuracy: 0.5734\n",
      "Epoch 376/400\n",
      "4/4 [==============================] - 0s 16ms/step - loss: 0.9282 - accuracy: 0.6059 - val_loss: 0.9606 - val_accuracy: 0.5734\n",
      "Epoch 377/400\n",
      "4/4 [==============================] - 0s 16ms/step - loss: 0.9271 - accuracy: 0.6059 - val_loss: 0.9607 - val_accuracy: 0.5734\n",
      "Epoch 378/400\n",
      "4/4 [==============================] - 0s 16ms/step - loss: 0.9235 - accuracy: 0.6069 - val_loss: 0.9607 - val_accuracy: 0.5711\n",
      "Epoch 379/400\n",
      "4/4 [==============================] - 0s 16ms/step - loss: 0.9228 - accuracy: 0.6069 - val_loss: 0.9606 - val_accuracy: 0.5734\n",
      "Epoch 380/400\n",
      "4/4 [==============================] - 0s 16ms/step - loss: 0.9208 - accuracy: 0.6020 - val_loss: 0.9605 - val_accuracy: 0.5780\n",
      "Epoch 381/400\n",
      "4/4 [==============================] - 0s 18ms/step - loss: 0.9268 - accuracy: 0.6049 - val_loss: 0.9604 - val_accuracy: 0.5780\n",
      "Epoch 382/400\n",
      "4/4 [==============================] - 0s 19ms/step - loss: 0.9323 - accuracy: 0.5921 - val_loss: 0.9603 - val_accuracy: 0.5826\n",
      "Epoch 383/400\n",
      "4/4 [==============================] - 0s 18ms/step - loss: 0.9428 - accuracy: 0.6010 - val_loss: 0.9602 - val_accuracy: 0.5826\n",
      "Epoch 384/400\n",
      "4/4 [==============================] - 0s 19ms/step - loss: 0.9229 - accuracy: 0.6030 - val_loss: 0.9604 - val_accuracy: 0.5849\n",
      "Epoch 385/400\n",
      "4/4 [==============================] - 0s 18ms/step - loss: 0.9297 - accuracy: 0.6128 - val_loss: 0.9604 - val_accuracy: 0.5826\n",
      "Epoch 386/400\n",
      "4/4 [==============================] - 0s 16ms/step - loss: 0.9231 - accuracy: 0.6089 - val_loss: 0.9603 - val_accuracy: 0.5780\n",
      "Epoch 387/400\n",
      "4/4 [==============================] - 0s 19ms/step - loss: 0.9253 - accuracy: 0.6128 - val_loss: 0.9603 - val_accuracy: 0.5711\n",
      "Epoch 388/400\n",
      "4/4 [==============================] - 0s 22ms/step - loss: 0.9382 - accuracy: 0.5951 - val_loss: 0.9603 - val_accuracy: 0.5711\n",
      "Epoch 389/400\n",
      "4/4 [==============================] - 0s 23ms/step - loss: 0.9421 - accuracy: 0.5862 - val_loss: 0.9603 - val_accuracy: 0.5734\n",
      "Epoch 390/400\n",
      "4/4 [==============================] - 0s 25ms/step - loss: 0.9229 - accuracy: 0.6177 - val_loss: 0.9603 - val_accuracy: 0.5757\n",
      "Epoch 391/400\n",
      "4/4 [==============================] - 0s 25ms/step - loss: 0.9258 - accuracy: 0.6148 - val_loss: 0.9601 - val_accuracy: 0.5803\n",
      "Epoch 392/400\n",
      "4/4 [==============================] - 0s 29ms/step - loss: 0.9194 - accuracy: 0.6010 - val_loss: 0.9600 - val_accuracy: 0.5803\n",
      "Epoch 393/400\n",
      "4/4 [==============================] - 0s 36ms/step - loss: 0.9234 - accuracy: 0.6108 - val_loss: 0.9601 - val_accuracy: 0.5780\n",
      "Epoch 394/400\n",
      "4/4 [==============================] - 0s 27ms/step - loss: 0.9184 - accuracy: 0.6148 - val_loss: 0.9600 - val_accuracy: 0.5780\n",
      "Epoch 395/400\n",
      "4/4 [==============================] - 0s 28ms/step - loss: 0.9279 - accuracy: 0.5980 - val_loss: 0.9599 - val_accuracy: 0.5826\n",
      "Epoch 396/400\n",
      "4/4 [==============================] - 0s 30ms/step - loss: 0.9426 - accuracy: 0.5970 - val_loss: 0.9598 - val_accuracy: 0.5826\n",
      "Epoch 397/400\n",
      "4/4 [==============================] - 0s 29ms/step - loss: 0.9247 - accuracy: 0.6030 - val_loss: 0.9597 - val_accuracy: 0.5803\n",
      "Epoch 398/400\n",
      "4/4 [==============================] - 0s 28ms/step - loss: 0.9179 - accuracy: 0.5892 - val_loss: 0.9599 - val_accuracy: 0.5757\n",
      "Epoch 399/400\n",
      "4/4 [==============================] - 0s 15ms/step - loss: 0.9307 - accuracy: 0.6069 - val_loss: 0.9598 - val_accuracy: 0.5757\n",
      "Epoch 400/400\n",
      "4/4 [==============================] - 0s 17ms/step - loss: 0.9241 - accuracy: 0.6020 - val_loss: 0.9598 - val_accuracy: 0.5780\n"
     ]
    },
    {
     "data": {
      "text/plain": [
       "<keras.callbacks.History at 0x7fe8c36073d0>"
      ]
     },
     "execution_count": 67,
     "metadata": {},
     "output_type": "execute_result"
    }
   ],
   "source": [
    "model.fit(x=X_train, \n",
    "          y=y_train,\n",
    "          epochs=400,\n",
    "          validation_data=(X_test, y_test),\n",
    "          batch_size = 256,\n",
    "          callbacks=[early_stop]\n",
    "          )"
   ]
  },
  {
   "cell_type": "code",
   "execution_count": 68,
   "id": "c5a7a73f",
   "metadata": {
    "execution": {
     "iopub.execute_input": "2022-06-16T20:44:53.730475Z",
     "iopub.status.busy": "2022-06-16T20:44:53.729478Z",
     "iopub.status.idle": "2022-06-16T20:44:53.735881Z",
     "shell.execute_reply": "2022-06-16T20:44:53.734964Z"
    },
    "papermill": {
     "duration": 0.164865,
     "end_time": "2022-06-16T20:44:53.737834",
     "exception": false,
     "start_time": "2022-06-16T20:44:53.572969",
     "status": "completed"
    },
    "tags": []
   },
   "outputs": [],
   "source": [
    "model_loss_do = pd.DataFrame(model.history.history)"
   ]
  },
  {
   "cell_type": "code",
   "execution_count": 69,
   "id": "4189efd6",
   "metadata": {
    "execution": {
     "iopub.execute_input": "2022-06-16T20:44:54.048161Z",
     "iopub.status.busy": "2022-06-16T20:44:54.047252Z",
     "iopub.status.idle": "2022-06-16T20:44:54.296725Z",
     "shell.execute_reply": "2022-06-16T20:44:54.295729Z"
    },
    "papermill": {
     "duration": 0.406873,
     "end_time": "2022-06-16T20:44:54.298649",
     "exception": false,
     "start_time": "2022-06-16T20:44:53.891776",
     "status": "completed"
    },
    "tags": []
   },
   "outputs": [
    {
     "data": {
      "text/plain": [
       "<AxesSubplot:>"
      ]
     },
     "execution_count": 69,
     "metadata": {},
     "output_type": "execute_result"
    },
    {
     "data": {
      "image/png": "[encoded data removed]",
      "text/plain": [
       "<Figure size 864x432 with 1 Axes>"
      ]
     },
     "metadata": {
      "needs_background": "light"
     },
     "output_type": "display_data"
    }
   ],
   "source": [
    "model_loss_do.plot(figsize=(12,6))"
   ]
  },
  {
   "cell_type": "code",
   "execution_count": 70,
   "id": "2752e383",
   "metadata": {
    "execution": {
     "iopub.execute_input": "2022-06-16T20:44:54.612386Z",
     "iopub.status.busy": "2022-06-16T20:44:54.611351Z",
     "iopub.status.idle": "2022-06-16T20:44:54.728206Z",
     "shell.execute_reply": "2022-06-16T20:44:54.727249Z"
    },
    "papermill": {
     "duration": 0.275148,
     "end_time": "2022-06-16T20:44:54.730425",
     "exception": false,
     "start_time": "2022-06-16T20:44:54.455277",
     "status": "completed"
    },
    "tags": []
   },
   "outputs": [
    {
     "data": {
      "text/plain": [
       "array([[0.01463899, 0.08233965, 0.45139116, 0.42029068, 0.03133959],\n",
       "       [0.04237892, 0.616449  , 0.3353572 , 0.00393408, 0.00188078],\n",
       "       [0.04599263, 0.60065013, 0.3456942 , 0.00530633, 0.00235669],\n",
       "       ...,\n",
       "       [0.0502158 , 0.43630657, 0.47522086, 0.03063724, 0.00761948],\n",
       "       [0.04455909, 0.65290153, 0.29322276, 0.00628308, 0.0030336 ],\n",
       "       [0.01392622, 0.08010988, 0.45187134, 0.42379543, 0.03029716]],\n",
       "      dtype=float32)"
      ]
     },
     "execution_count": 70,
     "metadata": {},
     "output_type": "execute_result"
    }
   ],
   "source": [
    "pred_DO_Red = (model.predict(X_test))\n",
    "\n",
    "pred_DO_Red"
   ]
  },
  {
   "cell_type": "code",
   "execution_count": 71,
   "id": "7391934f",
   "metadata": {
    "execution": {
     "iopub.execute_input": "2022-06-16T20:44:55.048938Z",
     "iopub.status.busy": "2022-06-16T20:44:55.048568Z",
     "iopub.status.idle": "2022-06-16T20:44:55.244077Z",
     "shell.execute_reply": "2022-06-16T20:44:55.242464Z"
    },
    "papermill": {
     "duration": 0.357106,
     "end_time": "2022-06-16T20:44:55.246519",
     "exception": false,
     "start_time": "2022-06-16T20:44:54.889413",
     "status": "completed"
    },
    "tags": []
   },
   "outputs": [
    {
     "name": "stdout",
     "output_type": "stream",
     "text": [
      "0.6167487502098083 0.38325124979019165\n",
      "0.5779816508293152 0.4220183491706848\n"
     ]
    }
   ],
   "source": [
    "score = model.evaluate(X_train, y_train, verbose=0)\n",
    "\n",
    "score2 = model.evaluate(X_test, y_test, verbose=0)\n",
    "\n",
    "print('{} {}'.format(score[1], 1 - score[1]))\n",
    "\n",
    "print('{} {}'.format(score2[1], 1 - score2[1]))"
   ]
  }
 ],
 "metadata": {
  "kernelspec": {
   "display_name": "Python 3",
   "language": "python",
   "name": "python3"
  },
  "language_info": {
   "codemirror_mode": {
    "name": "ipython",
    "version": 3
   },
   "file_extension": ".py",
   "mimetype": "text/x-python",
   "name": "python",
   "nbconvert_exporter": "python",
   "pygments_lexer": "ipython3",
   "version": "3.7.12"
  },
  "papermill": {
   "default_parameters": {},
   "duration": 94.793297,
   "end_time": "2022-06-16T20:44:58.719241",
   "environment_variables": {},
   "exception": null,
   "input_path": "__notebook__.ipynb",
   "output_path": "__notebook__.ipynb",
   "parameters": {},
   "start_time": "2022-06-16T20:43:23.925944",
   "version": "2.3.4"
  }
 },
 "nbformat": 4,
 "nbformat_minor": 5
}
